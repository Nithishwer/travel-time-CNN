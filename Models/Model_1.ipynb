{
 "cells": [
  {
   "cell_type": "code",
   "execution_count": 1,
   "metadata": {},
   "outputs": [],
   "source": [
    "#https://machinelearningmastery.com/how-to-develop-convolutional-neural-network-models-for-time-series-forecasting/"
   ]
  },
  {
   "cell_type": "code",
   "execution_count": 25,
   "metadata": {},
   "outputs": [],
   "source": [
    "#Configuring the IO structure:\n",
    "W_size=3\n",
    "st=4\n",
    "et=22\n",
    "Bin_size=1\n",
    "prediction_size=1\n",
    "n_features=280\n",
    "irows=int(W_size/Bin_size)\n",
    "icols=n_features\n",
    "orows=int(prediction_size/Bin_size)\n",
    "ocols=280\n",
    "nipd=int((et-st)/Bin_size)-irows-orows+1"
   ]
  },
  {
   "cell_type": "code",
   "execution_count": 26,
   "metadata": {},
   "outputs": [
    {
     "name": "stderr",
     "output_type": "stream",
     "text": [
      "/home/pennyworth/.local/lib/python3.6/site-packages/ipykernel_launcher.py:11: FutureWarning: Method .as_matrix will be removed in a future version. Use .values instead.\n",
      "  # This is added back by InteractiveShellApp.init_path()\n"
     ]
    }
   ],
   "source": [
    "# Data Preparation\n",
    "import pandas as pd\n",
    "\n",
    "# Selecting data based on bin size\n",
    "if Bin_size==0.5:\n",
    "    df2 = pd.read_csv('/home/pennyworth/Documents/Bus/Data/from_R_19B_30min_n&f.csv',header =None)\n",
    "if Bin_size==1:\n",
    "    df2 = pd.read_csv('/home/pennyworth/Documents/Bus/Data/from_R_19B_1Hr_n&f.csv',header =None)\n",
    "    \n",
    "#Converting dataframe into matrix    \n",
    "dataset=df2.as_matrix()"
   ]
  },
  {
   "cell_type": "code",
   "execution_count": 27,
   "metadata": {},
   "outputs": [
    {
     "name": "stdout",
     "output_type": "stream",
     "text": [
      "Import successful!\n"
     ]
    }
   ],
   "source": [
    "#Checking if the import is good to go:\n",
    "if len(dataset)-1==34*18/Bin_size:\n",
    "    print(\"Import successful!\")"
   ]
  },
  {
   "cell_type": "code",
   "execution_count": 28,
   "metadata": {},
   "outputs": [
    {
     "name": "stdout",
     "output_type": "stream",
     "text": [
      "[0.         0.01865434 0.10891486]\n",
      "[0.13697164 0.23473744 0.22698761]\n",
      "[0.12185569 0.05441312 0.03356269]\n"
     ]
    }
   ],
   "source": [
    "def giveme_dataset(rows,cols):\n",
    "    for i in range(1,rows+1):\n",
    "        print(dataset[i][:cols])\n",
    "giveme_dataset(3,3)"
   ]
  },
  {
   "cell_type": "code",
   "execution_count": 29,
   "metadata": {},
   "outputs": [
    {
     "name": "stdout",
     "output_type": "stream",
     "text": [
      "3 1\n"
     ]
    }
   ],
   "source": [
    "print(irows,orows)"
   ]
  },
  {
   "cell_type": "code",
   "execution_count": 30,
   "metadata": {
    "scrolled": false
   },
   "outputs": [
    {
     "name": "stdout",
     "output_type": "stream",
     "text": [
      "IO Matrix creation successful!\n"
     ]
    }
   ],
   "source": [
    "# multivariate multi-step data preparation\n",
    "import numpy as np\n",
    "from numpy import array\n",
    "from numpy import hstack\n",
    "from keras.models import Sequential\n",
    "from keras.layers import LSTM\n",
    "from keras.layers import Dense\n",
    "from keras.layers import RepeatVector\n",
    "from keras.layers import TimeDistributed\n",
    "\n",
    "# split a multivariate sequence into samples and put them into X and y\n",
    "X, y = list(), list()\n",
    "def split_sequences(sequences, n_steps_in, n_steps_out):\n",
    "    for i in range(len(sequences)):\n",
    "        # find the end of this pattern\n",
    "        end_ix = i + n_steps_in\n",
    "        out_end_ix = end_ix + n_steps_out\n",
    "        # check if we are beyond the dataset\n",
    "        if out_end_ix > len(sequences):\n",
    "            break\n",
    "        # gather input and output parts of the pattern\n",
    "        seq_x, seq_y = sequences[i:end_ix, :-2], sequences[end_ix:out_end_ix, :-2]\n",
    "        X.append(seq_x)\n",
    "        y.append(seq_y)\n",
    "    return None\n",
    "\n",
    "n_steps_in, n_steps_out = int(irows), int(orows)\n",
    "rows_pday=int((et-st)/Bin_size)\n",
    "\n",
    "# convert into input/output\n",
    "for i in range(1,365):\n",
    "    todays_df=dataset[(i-1)*rows_pday+1:i*rows_pday+1]\n",
    "    split_sequences(todays_df, n_steps_in, n_steps_out)\n",
    "\n",
    "#Check if the io sample count is valid:\n",
    "if nipd*34==len(X)==len(y):\n",
    "    print(\"IO Matrix creation successful!\")\n",
    "else:\n",
    "    print(\"IO Matrix creation unsuccessful!\")"
   ]
  },
  {
   "cell_type": "code",
   "execution_count": 31,
   "metadata": {},
   "outputs": [
    {
     "name": "stdout",
     "output_type": "stream",
     "text": [
      "Na Matrices filtered out sucessfuly!\n"
     ]
    }
   ],
   "source": [
    "#Supposed to Filter the Na IO matrices out but now obsolete\n",
    "from math import isnan\n",
    "import numpy as np\n",
    "X_fil=np.array(X)\n",
    "y_fil=np.array(y)\n",
    "del_index=[]\n",
    "\n",
    "# # Noting down the index of Na matricesin del_index \n",
    "# for i in range(len(X_fil)):\n",
    "#     del_index.append(np.any(np.isnan(X_fil[i])) or np.any(np.isnan(y_fil[i])))\n",
    "\n",
    "# # Filtering out the Na matrices from y_fil and X_fil by indexing using a list\n",
    "# y_fil=y_fil[list(~np.array(del_index))]\n",
    "# X_fil=X_fil[list(~np.array(del_index))]\n",
    "\n",
    "# Check if the filtering is successful:\n",
    "Na_count=0\n",
    "for i in range(len(X_fil)):\n",
    "    if np.any(np.isnan(y_fil[i]))==True & np.any(np.isnan(X_fil[i]))==True:\n",
    "        Na_count=Na_count+1\n",
    "if Na_count==0:\n",
    "    print(\"Na Matrices filtered out sucessfuly!\")\n",
    "# y=np.array(y)\n",
    "# for el in y[list(~np.array(deathlist))]:\n",
    "#     print(np.any(np.isnan(Xtrial[i])))\n"
   ]
  },
  {
   "cell_type": "code",
   "execution_count": 32,
   "metadata": {},
   "outputs": [],
   "source": [
    "# X_fil=np.array(X)\n",
    "# y_fil=np.array(y)"
   ]
  },
  {
   "cell_type": "code",
   "execution_count": 33,
   "metadata": {},
   "outputs": [
    {
     "name": "stdout",
     "output_type": "stream",
     "text": [
      "[0.06791322 0.33685298 0.34324812]\n",
      "[0.35811766 0.52902932 0.42222478]\n",
      "[0.51484876 0.38869066 0.26400687]\n",
      "[0.25059284 0.333912   0.2502424 ]\n"
     ]
    }
   ],
   "source": [
    "def giveme_y(rows,cols):\n",
    "    for i in range(0,rows+1):\n",
    "        print(y[i][0][:cols])\n",
    "giveme_y(3,3)"
   ]
  },
  {
   "cell_type": "code",
   "execution_count": 34,
   "metadata": {},
   "outputs": [
    {
     "name": "stdout",
     "output_type": "stream",
     "text": [
      "[[0.06791322 0.33685298 0.34324812 0.34865248 0.27701011 0.27213121\n",
      "  0.30401222 0.3168547  0.25837793 0.17332271 0.16940842 0.35406105\n",
      "  0.44400701 0.40044557 0.49758195 0.40896005 0.24711226 0.22474538\n",
      "  0.19850311 0.1344405  0.33210766 0.24468478 0.21673977 0.61427385\n",
      "  0.2650665  0.24920385 0.2413026  0.2794614  0.22303381 0.13579247\n",
      "  0.1384991  0.17580591 0.18284559 0.15927796 0.13018185 0.09323433\n",
      "  0.10272736 0.10043303 0.16360643 0.37804386 0.36716504 0.14336027\n",
      "  0.25624222 0.22603766 0.29990239 0.37927181 0.42880853 0.3559942\n",
      "  0.24590786 0.30125288 0.35557776 0.50693429 0.68231842 0.34975365\n",
      "  0.14131615 0.15573781 0.18394695 0.16083603 0.27134335 0.30661937\n",
      "  0.33835111 0.25433204 0.07086325 0.08887707 0.24130425 0.48198538\n",
      "  0.17141137 0.13586362 0.14213779 0.27535381 0.2446999  0.12321548\n",
      "  0.16283785 0.14419462 0.08122918 0.07234286 0.11777619 0.14612068\n",
      "  0.10939711 0.07624859 0.09205742 0.09961593 0.11395239 0.05259985\n",
      "  0.03505639 0.09105794 0.16096709 0.3140985  0.23102152 0.25549738\n",
      "  0.20316188 0.18528911 0.15149236 0.13894259 0.16811734 0.18269204\n",
      "  0.21108553 0.22815253 0.24991901 0.26109331 0.55645054 0.39054236\n",
      "  0.55435572 0.15056293 0.21576373 0.34267135 0.22619195 0.28428819\n",
      "  0.20976688 0.33913479 0.35762012 0.29320016 0.3373016  0.24942121\n",
      "  0.41916922 0.24557756 0.36063378 0.23014534 0.14910882 0.1675494\n",
      "  0.22332125 0.25397121 0.14700932 0.51610467 0.39039525 0.38047131\n",
      "  0.37145882 0.29700241 0.1489467  0.05999826 0.03727666 0.28486762\n",
      "  0.16198943 0.26538782 0.11118898 0.03532307 0.00740258 0.1080132\n",
      "  0.49425318 0.24084436 0.12991824 0.10158213 0.1215218  0.12581833\n",
      "  0.14660377 0.41475644 0.38863092 0.27517153 0.31032385 0.11816125\n",
      "  0.0760288  0.08650845 0.06582527 0.08289088 0.08581959 0.28127211\n",
      "  0.32839622 0.31702836 0.23226069 0.44881062 0.58129029 0.4286363\n",
      "  0.31942773 0.04567404 0.08022851 0.10090273 0.16294438 0.22966215\n",
      "  0.2726816  0.36349944 0.23835037 0.20960891 0.60881805 0.39120771\n",
      "  0.30793724 0.13180849 0.54330294 0.34562624 0.40943149 0.28940624\n",
      "  0.26813424 0.24546406 0.22239228 0.22991135 0.17283033 0.08060469\n",
      "  0.30896053 0.17917934 0.68068612 0.32273253 0.17944264 0.36878327\n",
      "  0.28359399 0.1796911  0.21052564 0.34278719 0.20088009 0.07866856\n",
      "  0.13510128 0.11301759 0.3880908  0.26733615 0.08570707 0.07672368\n",
      "  0.03238408 0.49676882 0.29582511 0.21238445 0.12009708 0.46583717\n",
      "  0.14876373 0.14978836 0.10150076 0.09566301 0.1276385  0.0864066\n",
      "  0.11480472 0.10413713 0.06503267 0.06144742 0.06095553 0.07911512\n",
      "  0.08905788 0.05135223 0.22132049 0.22016641 0.12096749 0.02780471\n",
      "  0.00626013 0.00243078 0.00470477 0.01196554 0.13805781 0.04615794\n",
      "  0.27021763 0.38201375 0.2785638  0.22447348 0.07039134 0.05161075\n",
      "  0.04199382 0.05797091 0.05030082 0.07032469 0.12985778 0.09148766\n",
      "  0.07401551 0.08339024 0.04312266 0.01685959 0.0292635  0.01736431\n",
      "  0.01613696 0.05347209 0.05755711 0.31913353 0.17959997 0.07702222\n",
      "  0.07747755 0.09897533 0.03366878 0.04026902 0.44989576 0.11030199\n",
      "  0.03966735 0.10447477 0.4842019  0.26855524 0.06510769 0.07104109\n",
      "  0.07759506 0.06248291 0.06650147 0.07165182 0.10191977 0.10481108\n",
      "  0.08226217 0.19406953 0.11744714 0.05227247]]\n",
      "[[0.35811766 0.52902932 0.42222478 0.67352255 0.35355653 0.17552777\n",
      "  0.4733887  0.37015657 0.34248344 0.31840286 0.28010709 0.34012586\n",
      "  0.17343034 0.66084307 0.70961011 0.54237461 0.48536637 0.32381651\n",
      "  0.18287131 0.62038853 0.43830225 0.26621244 0.14667852 0.70366066\n",
      "  0.56367072 0.37871191 0.33555395 0.3460929  0.313914   0.32979737\n",
      "  0.37762526 0.46279387 0.46866558 0.56487697 0.63543409 0.60779068\n",
      "  0.55321578 0.4799906  0.33585016 0.1942095  0.20476294 0.85074545\n",
      "  0.67330378 0.46942205 0.36803825 0.35514605 0.36325976 0.20892152\n",
      "  0.41074708 0.59770587 0.5789841  0.44925337 0.34706622 0.14521466\n",
      "  0.40811609 0.35008925 0.39416075 0.29747922 0.36213808 0.29298322\n",
      "  0.24704047 0.10628468 0.02041899 0.29713841 0.55761292 0.52735037\n",
      "  0.43728484 0.44216349 0.39966773 0.04093148 0.38278418 0.45316699\n",
      "  0.5019093  0.37484888 0.20657764 0.18386572 0.38359327 0.3335708\n",
      "  0.24737066 0.19295891 0.15894282 0.12209686 0.09497564 0.03685467\n",
      "  0.01993287 0.03970125 0.1082921  0.60117721 0.65209423 0.70755144\n",
      "  0.60048947 0.43206385 0.30823437 0.21813654 0.23846308 0.27717326\n",
      "  0.27225312 0.26417466 0.24303752 0.16450761 0.29828211 0.7653495\n",
      "  0.69235339 0.31814998 0.11462612 0.84632043 0.64866591 0.77297697\n",
      "  0.50864205 0.46152196 0.40799906 0.32228481 0.20393434 0.11786053\n",
      "  0.40433419 0.67453418 0.69332696 0.46801383 0.33124359 0.2783375\n",
      "  0.20349699 0.05042191 0.01281257 0.08994226 0.0918824  0.13152249\n",
      "  0.21367674 0.21382174 0.11775214 0.04633704 0.01872488 0.04271057\n",
      "  0.12688275 0.78990515 0.28259672 0.06086719 0.01636211 0.01445362\n",
      "  0.67206685 0.44119728 0.57221096 0.40666009 0.33487019 0.22257559\n",
      "  0.10322259 0.18073386 0.23388182 0.79374788 0.61460985 0.36972528\n",
      "  0.13928908 0.15480627 0.12854804 0.11519928 0.17320572 0.20510513\n",
      "  0.18998979 0.16850478 0.31783321 0.23371785 0.17459629 0.91421639\n",
      "  0.60133557 0.19805979 0.29017537 0.38333626 0.39010021 0.27991504\n",
      "  0.03557478 0.78800406 0.56585714 0.21778455 0.66148278 0.47458644\n",
      "  0.26815213 0.14027771 0.4406033  0.66499559 0.53507768 0.31469128\n",
      "  0.2498909  0.20098378 0.28709102 0.30266515 0.23481879 0.06404754\n",
      "  0.68788119 0.09499306 0.77708107 0.62417661 0.18556885 0.46515472\n",
      "  0.52534666 0.1895991  0.18730121 0.34945011 0.05188015 0.39135447\n",
      "  0.38131769 0.10654242 0.63302127 0.41738707 0.32011621 0.23748801\n",
      "  0.04766074 0.34503977 0.43000786 0.24187133 0.1322284  0.6382188\n",
      "  0.4750119  0.40355242 0.24667045 0.24460622 0.24746967 0.16946031\n",
      "  0.20339051 0.18530053 0.14495706 0.1419806  0.15713222 0.15450274\n",
      "  0.09702107 0.04700926 0.0959588  0.61840327 0.33801344 0.08186458\n",
      "  0.02033709 0.01287725 0.01075364 0.00786054 0.34022502 0.08699971\n",
      "  0.07921448 0.27332681 0.60219138 0.42956701 0.1458921  0.14065501\n",
      "  0.15034336 0.17350626 0.1627806  0.11151687 0.43790999 0.73249163\n",
      "  0.5967088  0.42171215 0.29697081 0.17085269 0.15878366 0.08096642\n",
      "  0.08647867 0.0757797  0.04454185 0.18905514 0.43794936 0.13904651\n",
      "  0.14862844 0.23753325 0.11589099 0.05000284 0.36486712 0.1569598\n",
      "  0.06247578 0.03502231 0.53804087 0.36707241 0.21162009 0.27138344\n",
      "  0.15787823 0.11261926 0.12477142 0.11458123 0.1104204  0.12201525\n",
      "  0.11073257 0.1041402  0.06734852 0.04986182]]\n",
      "[[0.51484876 0.38869066 0.26400687 0.15547151 0.37874471 0.22215605\n",
      "  0.28416143 0.2425606  0.18775078 0.15394813 0.23001755 0.32561488\n",
      "  0.48371325 0.55939605 0.63842087 0.56784209 0.39452182 0.25072114\n",
      "  0.31523917 0.27840254 0.30507958 0.29781677 0.35638295 0.55703314\n",
      "  0.39553329 0.38594111 0.30377657 0.28049843 0.24031361 0.20555757\n",
      "  0.26143025 0.29301417 0.26321047 0.24121629 0.19263318 0.38447031\n",
      "  0.4281431  0.44523172 0.47016459 0.38632381 0.2632284  0.46972595\n",
      "  0.62880497 0.66088841 0.62805755 0.54215765 0.45327761 0.23321645\n",
      "  0.10051537 0.31666477 0.51259917 0.58422303 0.64074686 0.59566716\n",
      "  0.26116789 0.46120352 0.3553907  0.23528543 0.23108303 0.20507998\n",
      "  0.28187435 0.41159384 0.28243415 0.48358584 0.35772133 0.34581601\n",
      "  0.24843317 0.26021342 0.36338828 0.35325444 0.5375267  0.42815704\n",
      "  0.53035214 0.46539406 0.46856133 0.39252631 0.6244556  0.59821702\n",
      "  0.5740253  0.62318036 0.60421501 0.40036633 0.28095353 0.11799873\n",
      "  0.09056845 0.46366644 0.57849996 0.51061134 0.46233389 0.545437\n",
      "  0.50023336 0.44786204 0.30437042 0.23720904 0.2540669  0.2310157\n",
      "  0.22034403 0.21704999 0.2598907  0.25551928 0.44963474 0.48670889\n",
      "  0.66138956 0.53241584 0.27358477 0.56373214 0.38952487 0.51527602\n",
      "  0.47512018 0.42053093 0.33130081 0.26830755 0.42505608 0.37886052\n",
      "  0.53994075 0.27584792 0.43711654 0.39578406 0.25872941 0.24422804\n",
      "  0.23568452 0.56476096 0.34143042 0.59649929 0.58844543 0.40955326\n",
      "  0.33954211 0.27268189 0.18760837 0.07591581 0.14134676 0.33018292\n",
      "  0.43435522 0.23350417 0.21025326 0.07533547 0.13824782 0.10527485\n",
      "  0.46261133 0.29118934 0.25980237 0.2168272  0.21079198 0.12508319\n",
      "  0.26754367 0.49448929 0.40812769 0.43579708 0.49699324 0.28295418\n",
      "  0.24880509 0.2688759  0.20039201 0.17528329 0.22312138 0.17289809\n",
      "  0.12436957 0.15247321 0.20055004 0.36956699 0.60511491 0.49409514\n",
      "  0.41439216 0.2734548  0.40754501 0.36780165 0.26727908 0.3088612\n",
      "  0.42091736 0.38815845 0.37068872 0.0717713  0.12283145 0.1787298\n",
      "  0.21964388 0.40213056 0.57864332 0.25144934 0.36824177 0.29619466\n",
      "  0.25931821 0.14010115 0.15459561 0.15353896 0.24865598 0.16416047\n",
      "  0.37666975 0.16263885 0.28090641 0.56246669 0.28894889 0.11572088\n",
      "  0.30940143 0.12004039 0.16373274 0.26988077 0.23968991 0.07872083\n",
      "  0.25591137 0.32710253 0.34727047 0.3551827  0.42957813 0.3626471\n",
      "  0.4823478  0.12703231 0.26870468 0.27244664 0.17386792 0.47488975\n",
      "  0.25565278 0.22360188 0.14771811 0.14540387 0.18022445 0.20262013\n",
      "  0.30352432 0.39224854 0.25355753 0.23411819 0.18793888 0.15869745\n",
      "  0.18976813 0.09862891 0.34739648 0.47368468 0.1873368  0.04625117\n",
      "  0.01238917 0.006398   0.00959167 0.01615513 0.0407128  0.2435581\n",
      "  0.06394164 0.41618481 0.58317546 0.32712476 0.14900984 0.13242765\n",
      "  0.17682466 0.18005235 0.14284754 0.10424885 0.05746983 0.06959819\n",
      "  0.09860547 0.17299201 0.16569227 0.10290613 0.11357112 0.07837902\n",
      "  0.11595364 0.13079981 0.17338287 0.45845842 0.33802439 0.11842462\n",
      "  0.24440797 0.23985923 0.19407001 0.13532131 0.29600153 0.11802658\n",
      "  0.12085578 0.32448616 0.42909754 0.32618464 0.34966303 0.21972718\n",
      "  0.12676613 0.15741745 0.24846968 0.227462   0.36437119 0.35292944\n",
      "  0.38147243 0.3743024  0.35495725 0.3744875 ]]\n",
      "[[0.25059284 0.333912   0.2502424  0.3517501  0.33404933 0.31179781\n",
      "  0.30429292 0.25874864 0.22317431 0.20358996 0.20559977 0.31946136\n",
      "  0.38598617 0.4354886  0.55401894 0.44689873 0.32164792 0.30008882\n",
      "  0.40017285 0.29059767 0.32039009 0.25665784 0.32627623 0.43812645\n",
      "  0.2580117  0.25440135 0.23518655 0.25886871 0.22264886 0.21062084\n",
      "  0.2407712  0.2880286  0.28941104 0.29745246 0.28995024 0.31153152\n",
      "  0.31820038 0.30585036 0.40303592 0.38852175 0.39302097 0.36932156\n",
      "  0.44363075 0.42841252 0.43013438 0.40991189 0.38465335 0.22839627\n",
      "  0.17066215 0.30693503 0.3512974  0.49145062 0.52853828 0.35186577\n",
      "  0.18825689 0.22664067 0.24721311 0.20179551 0.25602987 0.25705045\n",
      "  0.27531917 0.2781697  0.32784208 0.26905148 0.25388377 0.3081126\n",
      "  0.20357123 0.35885489 0.4387877  0.27551403 0.28492324 0.22121457\n",
      "  0.28421705 0.2894554  0.21175034 0.18414163 0.25301613 0.25465162\n",
      "  0.22369761 0.21558714 0.19136472 0.15457066 0.13169465 0.0541745\n",
      "  0.03914884 0.14795594 0.39365064 0.48457792 0.38486161 0.41799309\n",
      "  0.36127809 0.32425864 0.2380746  0.1892321  0.18985986 0.20125164\n",
      "  0.20888271 0.20622914 0.24685683 0.35549422 0.60903176 0.42457019\n",
      "  0.57154467 0.32397512 0.36083197 0.43886443 0.3671901  0.41960121\n",
      "  0.32526038 0.36260932 0.33192501 0.28015919 0.27593273 0.29740269\n",
      "  0.54649624 0.34070854 0.47486366 0.33650652 0.24763085 0.22776745\n",
      "  0.24776785 0.42819016 0.26329201 0.43952438 0.4075044  0.34176907\n",
      "  0.34129361 0.2987295  0.17117468 0.06923343 0.06435038 0.33096934\n",
      "  0.25256471 0.3070134  0.21057925 0.07276924 0.04191061 0.09806695\n",
      "  0.44237961 0.22419775 0.28791367 0.23185509 0.23915005 0.17779055\n",
      "  0.16766558 0.47924971 0.40070687 0.3732153  0.42279247 0.32602893\n",
      "  0.20083386 0.1997523  0.14131174 0.14665568 0.19158983 0.23507522\n",
      "  0.2282666  0.23126671 0.24526617 0.3549427  0.52268839 0.45824767\n",
      "  0.44516026 0.18655161 0.27119383 0.29190188 0.28592435 0.2985511\n",
      "  0.32757693 0.39566502 0.3077759  0.23121299 0.3855416  0.31739719\n",
      "  0.25058702 0.23842318 0.55891768 0.32839125 0.42252198 0.27893756\n",
      "  0.18121303 0.1457004  0.1892907  0.2375746  0.17128675 0.14975686\n",
      "  0.44767538 0.28539767 0.42099351 0.40350849 0.19632663 0.39492984\n",
      "  0.29564733 0.21259477 0.20047935 0.3422402  0.16799379 0.1499235\n",
      "  0.24502275 0.24837066 0.49513185 0.25285132 0.30976404 0.18442094\n",
      "  0.15372555 0.34322957 0.27212942 0.21355122 0.19939111 0.45839498\n",
      "  0.2112797  0.23141706 0.14873078 0.13878383 0.18577175 0.17817209\n",
      "  0.35695235 0.3556695  0.23573881 0.19925617 0.19045044 0.20363044\n",
      "  0.15233318 0.10769552 0.32578799 0.27379374 0.18197193 0.05929097\n",
      "  0.01562192 0.00988986 0.010991   0.02022402 0.13978066 0.23001081\n",
      "  0.12636103 0.52090739 0.41571539 0.28772657 0.14145394 0.12799002\n",
      "  0.12560847 0.13848682 0.13908179 0.18960424 0.37500639 0.32195987\n",
      "  0.32523525 0.2757045  0.20499898 0.1275409  0.11892061 0.06588815\n",
      "  0.09131484 0.11207191 0.10266841 0.40528983 0.26479951 0.11450155\n",
      "  0.17679271 0.21827882 0.14073528 0.11433027 0.31017648 0.14440195\n",
      "  0.09706589 0.22731823 0.5044396  0.25704144 0.18310212 0.17973473\n",
      "  0.1162892  0.10725655 0.13345254 0.11957233 0.15237347 0.15767936\n",
      "  0.17675836 0.2568064  0.18586174 0.15003332]]\n"
     ]
    }
   ],
   "source": [
    "def giveme_y_fil(rows,cols):\n",
    "    for i in range(0,rows+1):\n",
    "        print(y_fil[i][:cols])\n",
    "giveme_y_fil(3,3)"
   ]
  },
  {
   "cell_type": "code",
   "execution_count": 35,
   "metadata": {},
   "outputs": [
    {
     "name": "stdout",
     "output_type": "stream",
     "text": [
      "510  I/O pairs available.\n"
     ]
    }
   ],
   "source": [
    "# Print number of IO Pairs available:\n",
    "print(len(y_fil),\" I/O pairs available.\")"
   ]
  },
  {
   "cell_type": "code",
   "execution_count": 36,
   "metadata": {},
   "outputs": [],
   "source": [
    "# Flatten output\n",
    "n_output = y_fil.shape[1] * y_fil.shape[2]\n",
    "y_fil = y_fil.reshape((y_fil.shape[0], n_output))"
   ]
  },
  {
   "cell_type": "code",
   "execution_count": 1,
   "metadata": {},
   "outputs": [
    {
     "ename": "NameError",
     "evalue": "name 'n_features' is not defined",
     "output_type": "error",
     "traceback": [
      "\u001b[0;31m---------------------------------------------------------------------------\u001b[0m",
      "\u001b[0;31mNameError\u001b[0m                                 Traceback (most recent call last)",
      "\u001b[0;32m<ipython-input-1-d2b47bbf7149>\u001b[0m in \u001b[0;36m<module>\u001b[0;34m()\u001b[0m\n\u001b[1;32m      1\u001b[0m \u001b[0;31m# Check the number of features\u001b[0m\u001b[0;34m\u001b[0m\u001b[0;34m\u001b[0m\u001b[0;34m\u001b[0m\u001b[0m\n\u001b[0;32m----> 2\u001b[0;31m \u001b[0;32mif\u001b[0m \u001b[0mn_features\u001b[0m \u001b[0;34m==\u001b[0m \u001b[0mX_fil\u001b[0m\u001b[0;34m.\u001b[0m\u001b[0mshape\u001b[0m\u001b[0;34m[\u001b[0m\u001b[0;36m2\u001b[0m\u001b[0;34m]\u001b[0m\u001b[0;34m:\u001b[0m\u001b[0;34m\u001b[0m\u001b[0;34m\u001b[0m\u001b[0m\n\u001b[0m\u001b[1;32m      3\u001b[0m     \u001b[0mprint\u001b[0m\u001b[0;34m(\u001b[0m\u001b[0;34m\"Good to go!\"\u001b[0m\u001b[0;34m)\u001b[0m\u001b[0;34m\u001b[0m\u001b[0;34m\u001b[0m\u001b[0m\n\u001b[1;32m      4\u001b[0m \u001b[0;32melse\u001b[0m\u001b[0;34m:\u001b[0m\u001b[0;34m\u001b[0m\u001b[0;34m\u001b[0m\u001b[0m\n\u001b[1;32m      5\u001b[0m     \u001b[0mprint\u001b[0m\u001b[0;34m(\u001b[0m\u001b[0;34m\"Something wrong..\"\u001b[0m\u001b[0;34m)\u001b[0m\u001b[0;34m\u001b[0m\u001b[0;34m\u001b[0m\u001b[0m\n",
      "\u001b[0;31mNameError\u001b[0m: name 'n_features' is not defined"
     ]
    }
   ],
   "source": [
    "# Check the number of features\n",
    "if n_features == X_fil.shape[2]:\n",
    "    print(\"Good to go!\")\n",
    "else:\n",
    "    print(\"Something wrong..\")"
   ]
  },
  {
   "cell_type": "code",
   "execution_count": 38,
   "metadata": {
    "scrolled": false
   },
   "outputs": [
    {
     "name": "stdout",
     "output_type": "stream",
     "text": [
      "[0.06791322 0.33685298 0.34324812]\n",
      "[0.35811766 0.52902932 0.42222478]\n",
      "[0.51484876 0.38869066 0.26400687]\n",
      "[0.25059284 0.333912   0.2502424 ]\n",
      "[0.06791322 0.33685298 0.34324812]\n",
      "[0.35811766 0.52902932 0.42222478]\n",
      "[0.51484876 0.38869066 0.26400687]\n",
      "[0.25059284 0.333912   0.2502424 ]\n",
      "\n",
      "\n",
      "\n",
      "[0.         0.01865434 0.10891486]\n",
      "[0.13697164 0.23473744 0.22698761]\n",
      "[0.12185569 0.05441312 0.03356269]\n",
      "[0.06791322 0.33685298 0.34324812]\n",
      "[0.35811766 0.52902932 0.42222478]\n",
      "[0.51484876 0.38869066 0.26400687]\n",
      "[0.25059284 0.333912   0.2502424 ]\n"
     ]
    }
   ],
   "source": [
    "giveme_y_fil(3,3)\n",
    "giveme_y(3,3)\n",
    "print(\"\\n\\n\")\n",
    "giveme_dataset(7,3)"
   ]
  },
  {
   "cell_type": "code",
   "execution_count": 39,
   "metadata": {},
   "outputs": [
    {
     "name": "stdout",
     "output_type": "stream",
     "text": [
      "Dataset splitting done!\n"
     ]
    }
   ],
   "source": [
    "# Splitting into train and test sets randomly\n",
    "# np.random.seed(95)\n",
    "# msk = np.random.rand(len(X_fil)) < 0.8\n",
    "\n",
    "#Splitting taking the last 7days as the test set:\n",
    "#Change this if day number changes\n",
    "test_size=7\n",
    "train_end=(34-test_size)*(rows_pday-irows-orows+1)\n",
    "msk=[]\n",
    "for i in range(34*(rows_pday-irows-orows+1)):\n",
    "    if i<=train_end:\n",
    "        msk.append(True)\n",
    "    else:\n",
    "        msk.append(False)\n",
    "\n",
    "msk=np.asarray(msk)\n",
    "X_train = X_fil[msk]\n",
    "y_train = y_fil[msk]\n",
    "X_test = X_fil[~msk]\n",
    "y_test = y_fil[~msk]\n",
    "print(\"Dataset splitting done!\")"
   ]
  },
  {
   "cell_type": "code",
   "execution_count": 40,
   "metadata": {},
   "outputs": [
    {
     "name": "stdout",
     "output_type": "stream",
     "text": [
      "[0.21824496 0.48212612 0.12601081 0.3902106  0.39962889]\n",
      "[0.20083781 0.46544411 0.24597875 0.23902542 0.35745132]\n",
      "[0.22675959 0.50208535 0.14565598 0.23546444 0.31752349]\n",
      "[0.18726386 0.47034024 0.13260803 0.18145204 0.63688261]\n",
      "[0.28267543 0.56848034 0.18880468 0.38481634 0.64694892]\n",
      "[0.13902464 0.35965541 0.07936209 0.16931589 0.43164854]\n",
      "[0.1443534  0.46128722 0.34650022 0.40041827 0.45320286]\n",
      "[0.20299181 0.46051663 0.27549211 0.33657051 0.36389243]\n"
     ]
    }
   ],
   "source": [
    "dataset_ytest_strt=(34-test_size)*(rows_pday)\n",
    "print(dataset[dataset_ytest_strt][:5])\n",
    "print(dataset[dataset_ytest_strt+5][:5])\n",
    "print(dataset[dataset_ytest_strt+6][:5])\n",
    "print(dataset[dataset_ytest_strt+7][:5])\n",
    "print(dataset[dataset_ytest_strt+8][:5])\n",
    "print(dataset[dataset_ytest_strt+9][:5])\n",
    "print(dataset[dataset_ytest_strt+10][:5])\n",
    "print(dataset[dataset_ytest_strt+11][:5])"
   ]
  },
  {
   "cell_type": "code",
   "execution_count": 41,
   "metadata": {},
   "outputs": [
    {
     "name": "stdout",
     "output_type": "stream",
     "text": [
      "[0.15315957 0.35725485 0.05782043 0.16234856 0.19122419]\n",
      "[0.20083781 0.46544411 0.24597875 0.23902542 0.35745132]\n",
      "[0.22675959 0.50208535 0.14565598 0.23546444 0.31752349]\n",
      "[0.18726386 0.47034024 0.13260803 0.18145204 0.63688261]\n",
      "[0.28267543 0.56848034 0.18880468 0.38481634 0.64694892]\n",
      "[0.13902464 0.35965541 0.07936209 0.16931589 0.43164854]\n",
      "[0.1443534  0.46128722 0.34650022 0.40041827 0.45320286]\n",
      "[0.20299181 0.46051663 0.27549211 0.33657051 0.36389243]\n",
      "[0.42859451 0.29627748 0.20802095 0.30485824 0.4662566 ]\n",
      "[0.9358128 1.        1.        1.        1.       ]\n",
      "[0.61095062 0.58050843 0.62649442 0.53806249 0.45193867]\n",
      "[0.57820442 0.51079371 0.36424943 0.48381287 0.62907747]\n"
     ]
    }
   ],
   "source": [
    "print(y_fil[train_end][:5])\n",
    "print(y_fil[train_end+1][:5])\n",
    "print(y_fil[train_end+2][:5])\n",
    "print(y_fil[train_end+3][:5])\n",
    "print(y_fil[train_end+4][:5])\n",
    "print(y_fil[train_end+5][:5])\n",
    "print(y_fil[train_end+6][:5])\n",
    "print(y_fil[train_end+7][:5])\n",
    "print(y_fil[train_end+8][:5])\n",
    "print(y_fil[train_end+9][:5])\n",
    "print(y_fil[train_end+10][:5])\n",
    "print(y_fil[train_end+11][:5])"
   ]
  },
  {
   "cell_type": "code",
   "execution_count": 42,
   "metadata": {},
   "outputs": [
    {
     "name": "stdout",
     "output_type": "stream",
     "text": [
      "[0.20083781 0.46544411 0.24597875]\n",
      "[0.22675959 0.50208535 0.14565598]\n",
      "[0.18726386 0.47034024 0.13260803]\n",
      "[0.28267543 0.56848034 0.18880468]\n"
     ]
    }
   ],
   "source": [
    "print(y_test[0][:3])\n",
    "print(y_test[1][:3])\n",
    "print(y_test[2][:3])\n",
    "print(y_test[3][:3])"
   ]
  },
  {
   "cell_type": "code",
   "execution_count": 43,
   "metadata": {
    "scrolled": true
   },
   "outputs": [
    {
     "name": "stderr",
     "output_type": "stream",
     "text": [
      "WARNING: Logging before flag parsing goes to stderr.\n",
      "W0718 23:29:58.360300 140220434339648 deprecation_wrapper.py:119] From /home/pennyworth/.local/lib/python3.6/site-packages/keras/backend/tensorflow_backend.py:74: The name tf.get_default_graph is deprecated. Please use tf.compat.v1.get_default_graph instead.\n",
      "\n",
      "W0718 23:29:58.362071 140220434339648 deprecation_wrapper.py:119] From /home/pennyworth/.local/lib/python3.6/site-packages/keras/backend/tensorflow_backend.py:517: The name tf.placeholder is deprecated. Please use tf.compat.v1.placeholder instead.\n",
      "\n",
      "W0718 23:29:58.365257 140220434339648 deprecation_wrapper.py:119] From /home/pennyworth/.local/lib/python3.6/site-packages/keras/backend/tensorflow_backend.py:4138: The name tf.random_uniform is deprecated. Please use tf.random.uniform instead.\n",
      "\n",
      "W0718 23:29:58.391850 140220434339648 deprecation_wrapper.py:119] From /home/pennyworth/.local/lib/python3.6/site-packages/keras/backend/tensorflow_backend.py:3976: The name tf.nn.max_pool is deprecated. Please use tf.nn.max_pool2d instead.\n",
      "\n",
      "W0718 23:29:58.432261 140220434339648 deprecation_wrapper.py:119] From /home/pennyworth/.local/lib/python3.6/site-packages/keras/optimizers.py:790: The name tf.train.Optimizer is deprecated. Please use tf.compat.v1.train.Optimizer instead.\n",
      "\n",
      "W0718 23:29:58.562000 140220434339648 deprecation_wrapper.py:119] From /home/pennyworth/.local/lib/python3.6/site-packages/keras/backend/tensorflow_backend.py:986: The name tf.assign_add is deprecated. Please use tf.compat.v1.assign_add instead.\n",
      "\n",
      "W0718 23:29:58.651130 140220434339648 deprecation_wrapper.py:119] From /home/pennyworth/.local/lib/python3.6/site-packages/keras/backend/tensorflow_backend.py:973: The name tf.assign is deprecated. Please use tf.compat.v1.assign instead.\n",
      "\n"
     ]
    },
    {
     "name": "stdout",
     "output_type": "stream",
     "text": [
      "Number or epochs: 12\n",
      "Number of input features: 280\n",
      "Number of output features: 280\n",
      "Bin size: 1\n",
      "Window size: 3\n",
      "Number of I/O pairs available: 510\n",
      "104/104 [==============================] - 0s 59us/step\n",
      "Model Mape loss: 2695478.65625\n",
      "104/104 [==============================] - 0s 59us/step\n",
      "Model MSE loss (Minimized): 0.03589545333614716\n",
      "104/104 [==============================] - 0s 64us/step\n",
      "RMSE loss: 0.1894609546480413\n"
     ]
    }
   ],
   "source": [
    "# multivariate output multi-step 1d cnn example\n",
    "from numpy.random import seed\n",
    "seed(1)\n",
    "from tensorflow import set_random_seed\n",
    "set_random_seed(2)\n",
    "from numpy import array\n",
    "from numpy import hstack\n",
    "from keras.models import Sequential\n",
    "from keras.layers import Dense\n",
    "from keras.layers import Flatten\n",
    "from keras.layers.convolutional import Conv1D\n",
    "from keras.layers.convolutional import MaxPooling1D\n",
    "\n",
    "# define model\n",
    "model = Sequential()\n",
    "model.add(Conv1D(filters=64, kernel_size=2, activation='relu', input_shape=(irows, n_features)))\n",
    "model.add(MaxPooling1D(pool_size=2))\n",
    "model.add(Flatten())\n",
    "model.add(Dense(500, activation='relu'))\n",
    "model.add(Dense(n_output))\n",
    "model.compile(optimizer='adam', loss=['mse'],metrics=[\"mape\"])\n",
    "epochno=12\n",
    "# fit model\n",
    "history=model.fit(X_train, y_train, epochs=epochno, verbose=0, validation_data = (X_test, y_test))\n",
    "print(\"Number or epochs:\",epochno)\n",
    "print(\"Number of input features:\",n_features)\n",
    "print(\"Number of output features:\",n_output)\n",
    "print(\"Bin size:\",Bin_size)\n",
    "print(\"Window size:\",W_size)\n",
    "print(\"Number of I/O pairs available:\",len(y_fil))\n",
    "print(\"Model Mape loss:\",model.evaluate(X_test,y_test)[1])\n",
    "print(\"Model MSE loss (Minimized):\",model.evaluate(X_test,y_test)[0])\n",
    "print(\"RMSE loss:\",np.sqrt(model.evaluate(X_test,y_test)[0]))\n",
    "\n",
    "# Demonstrate Prediction\n",
    "# x_input = array([[60, 65, 125], [70, 75, 145], [80, 85, 165]])\n",
    "# x_input = x_input.reshape((1, n_steps_in, n_features))\n",
    "# yhat = model.predict(x_input, verbose=0)\n",
    "# print(yhat)"
   ]
  },
  {
   "cell_type": "code",
   "execution_count": 44,
   "metadata": {},
   "outputs": [
    {
     "name": "stdout",
     "output_type": "stream",
     "text": [
      "dict_keys(['val_loss', 'val_mean_absolute_percentage_error', 'loss', 'mean_absolute_percentage_error'])\n"
     ]
    },
    {
     "data": {
      "image/png": "[encoded data removed]",
      "text/plain": [
       "<Figure size 432x288 with 1 Axes>"
      ]
     },
     "metadata": {},
     "output_type": "display_data"
    }
   ],
   "source": [
    "import matplotlib.pyplot as plt\n",
    "import numpy\n",
    "%matplotlib inline\n",
    "\n",
    "print(history.history.keys())\n",
    "# summarize history for loss\n",
    "plt.plot(history.history['loss'])\n",
    "plt.plot(history.history['val_loss'])\n",
    "plt.title('Model Loss (MSE)')\n",
    "plt.ylabel('Loss')\n",
    "plt.xlabel('Epoch')\n",
    "plt.legend(['Train', 'Test'], loc='upper right')\n",
    "#axes = plt.gca()\n",
    "#axes.set_ylim([7500,0.2*100000])\n",
    "#axes.set_xlim([1500,3000])\n",
    "plt.show()"
   ]
  },
  {
   "cell_type": "code",
   "execution_count": 45,
   "metadata": {},
   "outputs": [],
   "source": [
    "#history=model.fit(X, y, epochs=3000, verbose=1)\n",
    "#model.evaluate(X,y)"
   ]
  },
  {
   "cell_type": "code",
   "execution_count": 46,
   "metadata": {},
   "outputs": [],
   "source": [
    "# Plot a random Prediction vs actual travel time\n",
    "import matplotlib.pyplot as plt\n",
    "import numpy as np\n",
    "np.random.seed(100)\n",
    "\n",
    "#function to get the act and pdt values of a specified sample in the test set\n",
    "def get_pdt_act(ind):\n",
    "    #print(ind)\n",
    "    # Demonstrate Prediction\n",
    "    x_input = X_test[ind]\n",
    "    x_input = x_input.reshape((1, irows, n_features))\n",
    "    yhat = model.predict(x_input, verbose=0)\n",
    "    y_output = y_test[ind]\n",
    "    #print(len(yhat[0]))\n",
    "    pdt=yhat[0]\n",
    "    act=y_output\n",
    "    if len(pdt)!=len(act):\n",
    "        print(\"ERROR!\")\n",
    "    return pdt,act\n",
    "\n",
    "norm_pdt,norm_act=get_pdt_act(0)"
   ]
  },
  {
   "cell_type": "code",
   "execution_count": 47,
   "metadata": {},
   "outputs": [
    {
     "data": {
      "image/png": "[encoded data removed]",
      "text/plain": [
       "<Figure size 432x288 with 1 Axes>"
      ]
     },
     "metadata": {},
     "output_type": "display_data"
    }
   ],
   "source": [
    "import matplotlib.pyplot as plt\n",
    "import numpy\n",
    "\n",
    "def plot_this(pdt_plt,act_plt):\n",
    "    x=list(range(1,len(pdt_plt)+1))\n",
    "    plt.plot(x, pdt_plt[0:], color='g',label=\"Predicted\")\n",
    "    plt.plot(x, act_plt[0:], color='orange',label=\"Actual\")\n",
    "    plt.xlabel('Segments')\n",
    "    plt.ylabel('Travel time (s)')\n",
    "    plt.title('Predicted vs Actual')\n",
    "    axes = plt.gca()\n",
    "    #axes.set_ylim([0,180])\n",
    "    axes.set_xlim([-2,len(pdt_plt)+10])\n",
    "    leg = plt.legend();\n",
    "    plt.show()\n",
    "plot_this(norm_pdt,norm_act)"
   ]
  },
  {
   "cell_type": "code",
   "execution_count": 48,
   "metadata": {},
   "outputs": [],
   "source": [
    "#Scaling the IO values and then determining MSE and shit\n",
    "import pandas as pd\n",
    "\n",
    "# Selecting data min-max data\n",
    "Minmax = pd.read_csv('/home/pennyworth/Documents/Bus/Data/Minmax.csv')\n"
   ]
  },
  {
   "cell_type": "code",
   "execution_count": 49,
   "metadata": {},
   "outputs": [
    {
     "data": {
      "text/html": [
       "<div>\n",
       "<style scoped>\n",
       "    .dataframe tbody tr th:only-of-type {\n",
       "        vertical-align: middle;\n",
       "    }\n",
       "\n",
       "    .dataframe tbody tr th {\n",
       "        vertical-align: top;\n",
       "    }\n",
       "\n",
       "    .dataframe thead th {\n",
       "        text-align: right;\n",
       "    }\n",
       "</style>\n",
       "<table border=\"1\" class=\"dataframe\">\n",
       "  <thead>\n",
       "    <tr style=\"text-align: right;\">\n",
       "      <th></th>\n",
       "      <th>V1</th>\n",
       "      <th>V2</th>\n",
       "      <th>V3</th>\n",
       "      <th>V4</th>\n",
       "      <th>V5</th>\n",
       "      <th>V6</th>\n",
       "      <th>V7</th>\n",
       "      <th>V8</th>\n",
       "      <th>V9</th>\n",
       "      <th>V10</th>\n",
       "      <th>...</th>\n",
       "      <th>V271</th>\n",
       "      <th>V272</th>\n",
       "      <th>V273</th>\n",
       "      <th>V274</th>\n",
       "      <th>V275</th>\n",
       "      <th>V276</th>\n",
       "      <th>V277</th>\n",
       "      <th>V278</th>\n",
       "      <th>V279</th>\n",
       "      <th>V280</th>\n",
       "    </tr>\n",
       "  </thead>\n",
       "  <tbody>\n",
       "    <tr>\n",
       "      <th>0</th>\n",
       "      <td>144.393008</td>\n",
       "      <td>115.714823</td>\n",
       "      <td>42.493365</td>\n",
       "      <td>24.211194</td>\n",
       "      <td>20.792030</td>\n",
       "      <td>31.301400</td>\n",
       "      <td>15.261249</td>\n",
       "      <td>11.463829</td>\n",
       "      <td>10.438957</td>\n",
       "      <td>10.160103</td>\n",
       "      <td>...</td>\n",
       "      <td>16.602995</td>\n",
       "      <td>14.777967</td>\n",
       "      <td>13.615912</td>\n",
       "      <td>14.194309</td>\n",
       "      <td>13.784148</td>\n",
       "      <td>15.715016</td>\n",
       "      <td>15.611628</td>\n",
       "      <td>16.334124</td>\n",
       "      <td>23.636502</td>\n",
       "      <td>32.203997</td>\n",
       "    </tr>\n",
       "    <tr>\n",
       "      <th>1</th>\n",
       "      <td>21.743496</td>\n",
       "      <td>27.824041</td>\n",
       "      <td>12.590967</td>\n",
       "      <td>10.181975</td>\n",
       "      <td>9.777823</td>\n",
       "      <td>10.144633</td>\n",
       "      <td>8.673208</td>\n",
       "      <td>7.440940</td>\n",
       "      <td>6.730975</td>\n",
       "      <td>6.393548</td>\n",
       "      <td>...</td>\n",
       "      <td>6.540165</td>\n",
       "      <td>6.273787</td>\n",
       "      <td>6.223952</td>\n",
       "      <td>6.223956</td>\n",
       "      <td>6.212245</td>\n",
       "      <td>6.268387</td>\n",
       "      <td>6.356335</td>\n",
       "      <td>6.478718</td>\n",
       "      <td>6.811262</td>\n",
       "      <td>7.332060</td>\n",
       "    </tr>\n",
       "  </tbody>\n",
       "</table>\n",
       "<p>2 rows × 280 columns</p>\n",
       "</div>"
      ],
      "text/plain": [
       "           V1          V2         V3         V4         V5         V6  \\\n",
       "0  144.393008  115.714823  42.493365  24.211194  20.792030  31.301400   \n",
       "1   21.743496   27.824041  12.590967  10.181975   9.777823  10.144633   \n",
       "\n",
       "          V7         V8         V9        V10  ...       V271       V272  \\\n",
       "0  15.261249  11.463829  10.438957  10.160103  ...  16.602995  14.777967   \n",
       "1   8.673208   7.440940   6.730975   6.393548  ...   6.540165   6.273787   \n",
       "\n",
       "        V273       V274       V275       V276       V277       V278  \\\n",
       "0  13.615912  14.194309  13.784148  15.715016  15.611628  16.334124   \n",
       "1   6.223952   6.223956   6.212245   6.268387   6.356335   6.478718   \n",
       "\n",
       "        V279       V280  \n",
       "0  23.636502  32.203997  \n",
       "1   6.811262   7.332060  \n",
       "\n",
       "[2 rows x 280 columns]"
      ]
     },
     "execution_count": 49,
     "metadata": {},
     "output_type": "execute_result"
    }
   ],
   "source": [
    "Minmax.drop([\"V281\"],axis=1)"
   ]
  },
  {
   "cell_type": "code",
   "execution_count": 50,
   "metadata": {},
   "outputs": [
    {
     "data": {
      "image/png": "[encoded data removed]",
      "text/plain": [
       "<Figure size 432x288 with 1 Axes>"
      ]
     },
     "metadata": {},
     "output_type": "display_data"
    }
   ],
   "source": [
    "from sklearn.metrics import mean_squared_error\n",
    "import numpy as np\n",
    "\n",
    "def mean_absolute_percentage_error(y_true, y_pred): \n",
    "    y_true, y_pred = np.array(y_true), np.array(y_pred)\n",
    "    return np.mean(np.abs((y_true - y_pred) / y_true)) * 100\n",
    "\n",
    "def denormalize(nor_pdt,nor_act):\n",
    "    pdt_cor=[i for i in range(280)]\n",
    "    act_cor=[i for i in range(280)]\n",
    "    i=0\n",
    "    for col in Minmax.drop([\"V281\"],axis=1):\n",
    "        mn=Minmax[col][1]\n",
    "        mx=Minmax[col][0]\n",
    "        pdt_cor[i]=(nor_pdt[i]*(mx - mn))+mn\n",
    "        act_cor[i]=(nor_act[i]*(mx - mn))+mn\n",
    "        i=i+1\n",
    "    return pdt_cor,act_cor\n",
    "\n",
    "denorm_pdt,denorm_act=denormalize(norm_pdt,norm_act)    \n",
    "plot_this(denorm_pdt,denorm_act)"
   ]
  },
  {
   "cell_type": "code",
   "execution_count": 51,
   "metadata": {
    "scrolled": true
   },
   "outputs": [
    {
     "name": "stdout",
     "output_type": "stream",
     "text": [
      "MSE Error: 54.255452458970005\n",
      "RMSE Error: 7.365830059061233\n",
      "MAPE Error: 18.005332649807034\n"
     ]
    }
   ],
   "source": [
    "import matplotlib.pyplot as plt\n",
    "import numpy\n",
    "\n",
    "#function to get errror for any pdt and act\n",
    "def get_error_pdt_act(pdt_err,act_err,printing=False):\n",
    "    if printing==True:\n",
    "        print(\"MSE Error:\",mean_squared_error(pdt_err,act_err))\n",
    "        print(\"RMSE Error:\",np.sqrt(mean_squared_error(pdt_err,act_err)))\n",
    "        print(\"MAPE Error:\",mean_absolute_percentage_error(pdt_err,act_err))\n",
    "    mse=mean_squared_error(pdt_err,act_err)\n",
    "    rmse=np.sqrt(mean_squared_error(pdt_err,act_err))\n",
    "    mape=mean_absolute_percentage_error(pdt_err,act_err)\n",
    "    return mse,rmse,mape\n",
    "\n",
    "get_error_pdt_act(denorm_pdt,denorm_act,False) \n",
    "print(\"MSE Error:\",mean_squared_error(denorm_pdt,denorm_act))\n",
    "print(\"RMSE Error:\",np.sqrt(mean_squared_error(denorm_pdt,denorm_act)))\n",
    "print(\"MAPE Error:\",mean_absolute_percentage_error(denorm_pdt,denorm_act))\n"
   ]
  },
  {
   "cell_type": "code",
   "execution_count": 52,
   "metadata": {},
   "outputs": [
    {
     "name": "stdout",
     "output_type": "stream",
     "text": [
      "Good to go!\n",
      "\n",
      "\n",
      "Model - 1\n",
      "Overall MSE 44.17293568006154\n",
      "Overall RMSE 6.304400594033608\n",
      "Overall MAPE 17.1559932045417\n"
     ]
    }
   ],
   "source": [
    "#Iterating over all tensors in test set\n",
    "#Check if lengths match:\n",
    "if X_test.shape[0]==y_test.shape[0]:\n",
    "    print(\"Good to go!\")\n",
    "else:\n",
    "    print(\"Lengths dont match!\")\n",
    "\n",
    "MSE_list=[]\n",
    "RMSE_list=[]\n",
    "MAPE_list=[]\n",
    "pdt_list=[]\n",
    "act_list=[]\n",
    "total_test=X_test.shape[0]\n",
    "for ind in range(total_test):\n",
    "    norm_pdt,norm_act=get_pdt_act(ind)\n",
    "    denorm_pdt,denorm_act=denormalize(norm_pdt,norm_act)\n",
    "    pdt_list.append(denorm_pdt)\n",
    "    act_list.append(denorm_act)\n",
    "    MSE_list.append(get_error_pdt_act(denorm_pdt,denorm_act)[0])\n",
    "    RMSE_list.append(get_error_pdt_act(denorm_pdt,denorm_act)[1])\n",
    "    MAPE_list.append(get_error_pdt_act(denorm_pdt,denorm_act)[2])\n",
    "\n",
    "mean_MSE=sum(MSE_list)/len(MSE_list)\n",
    "mean_RMSE=sum(RMSE_list)/len(RMSE_list)\n",
    "mean_MAPE=sum(MAPE_list)/len(MAPE_list)    \n",
    "\n",
    "print(\"\\n\")\n",
    "print(\"Model - 1\")\n",
    "print(\"Overall MSE\",mean_MSE)\n",
    "print(\"Overall RMSE\",mean_RMSE)\n",
    "print(\"Overall MAPE\",mean_MAPE)"
   ]
  },
  {
   "cell_type": "code",
   "execution_count": 53,
   "metadata": {},
   "outputs": [],
   "source": [
    "# Creating a dataframe out of the tt lists\n",
    "predicted_df=pd.DataFrame(pdt_list)\n",
    "actual_df=pd.DataFrame(act_list)"
   ]
  },
  {
   "cell_type": "code",
   "execution_count": 54,
   "metadata": {},
   "outputs": [],
   "source": [
    "#Saving the dataframes as csv tables.\n",
    "predicted_df.to_csv(\"Model1_pdt.csv\")\n",
    "actual_df.to_csv(\"Model1_act.csv\")"
   ]
  },
  {
   "cell_type": "code",
   "execution_count": null,
   "metadata": {},
   "outputs": [],
   "source": []
  },
  {
   "cell_type": "code",
   "execution_count": null,
   "metadata": {},
   "outputs": [],
   "source": []
  },
  {
   "cell_type": "code",
   "execution_count": null,
   "metadata": {},
   "outputs": [],
   "source": []
  },
  {
   "cell_type": "code",
   "execution_count": null,
   "metadata": {},
   "outputs": [],
   "source": []
  }
 ],
 "metadata": {
  "kernelspec": {
   "display_name": "Python 3",
   "language": "python",
   "name": "python3"
  },
  "language_info": {
   "codemirror_mode": {
    "name": "ipython",
    "version": 3
   },
   "file_extension": ".py",
   "mimetype": "text/x-python",
   "name": "python",
   "nbconvert_exporter": "python",
   "pygments_lexer": "ipython3",
   "version": "3.6.8"
  }
 },
 "nbformat": 4,
 "nbformat_minor": 2
}
