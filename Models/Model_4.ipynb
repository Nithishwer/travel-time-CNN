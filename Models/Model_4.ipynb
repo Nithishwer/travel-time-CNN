{
 "cells": [
  {
   "cell_type": "code",
   "execution_count": 66,
   "metadata": {},
   "outputs": [],
   "source": [
    "#https://machinelearningmastery.com/how-to-develop-convolutional-neural-network-models-for-time-series-forecasting/"
   ]
  },
  {
   "cell_type": "code",
   "execution_count": 181,
   "metadata": {},
   "outputs": [],
   "source": [
    "#Configuring the IO structure:\n",
    "W_size=3\n",
    "st=4\n",
    "et=22\n",
    "Bin_size=1\n",
    "prediction_size=1\n",
    "n_features=282\n",
    "irows=int(W_size/Bin_size)\n",
    "icols=n_features\n",
    "orows=int(prediction_size/Bin_size)\n",
    "ocols=147"
   ]
  },
  {
   "cell_type": "code",
   "execution_count": 182,
   "metadata": {},
   "outputs": [
    {
     "name": "stderr",
     "output_type": "stream",
     "text": [
      "/home/pennyworth/.local/lib/python3.6/site-packages/ipykernel_launcher.py:10: FutureWarning: Method .as_matrix will be removed in a future version. Use .values instead.\n",
      "  # Remove the CWD from sys.path while we load stuff.\n"
     ]
    }
   ],
   "source": [
    "# Data Preparation\n",
    "import pandas as pd\n",
    "# Selecting data based on bin size\n",
    "if Bin_size==0.5:\n",
    "    df2 = pd.read_csv('/home/pennyworth/Documents/Bus/Data/from_R_19B_30min_normed.csv',header =None)\n",
    "if Bin_size==1:\n",
    "    df2 = pd.read_csv('/home/pennyworth/Documents/Bus/Data/from_R_19B_1Hr_normed.csv',header =None)\n",
    "    \n",
    "#Converting dataframe into matrix    \n",
    "dataset=df2.as_matrix()"
   ]
  },
  {
   "cell_type": "code",
   "execution_count": 183,
   "metadata": {},
   "outputs": [
    {
     "name": "stdout",
     "output_type": "stream",
     "text": [
      "Import successful!\n"
     ]
    }
   ],
   "source": [
    "#Checking if the import is good to go:\n",
    "if len(dataset)-1==34*18/Bin_size:\n",
    "    print(\"Import successful!\")"
   ]
  },
  {
   "cell_type": "code",
   "execution_count": 184,
   "metadata": {},
   "outputs": [
    {
     "name": "stdout",
     "output_type": "stream",
     "text": [
      "3 1\n"
     ]
    }
   ],
   "source": [
    "print(irows,orows)"
   ]
  },
  {
   "cell_type": "code",
   "execution_count": 185,
   "metadata": {},
   "outputs": [
    {
     "name": "stdout",
     "output_type": "stream",
     "text": [
      "Unit Subraction from st2consider complete! \n",
      "\n",
      "Good to go! st2consider seems good..\n"
     ]
    }
   ],
   "source": [
    "#Fixing number of clusters:\n",
    "nclust=4\n",
    "\n",
    "#Selecting correlated time bins based on cluster number\n",
    "if nclust==4:\n",
    "    df_clust = pd.read_csv('/home/pennyworth/Documents/Bus/Data/STcor_Tree_4branch.csv',header =None)\n",
    "if nclust==3:\n",
    "    df_clust = pd.read_csv('/home/pennyworth/Documents/Bus/Data/STcor_Tree_3branch.csv',header =None)\n",
    "if nclust==2:\n",
    "    df_clust = pd.read_csv('/home/pennyworth/Documents/Bus/Data/STcor_Tree_2branch.csv',header =None)\n",
    "index_ps=df_clust[1]\n",
    "\n",
    "#Creating a list of start time to consider for each model\n",
    "st2consider=[]\n",
    "for i in range(nclust):\n",
    "    st2consider.append([])\n",
    "\n",
    "#Appending values to cols2consider\n",
    "for i in range(1,len(index_ps)):\n",
    "    bloc=int(index_ps[i])\n",
    "    st2consider[bloc-1].append(i)\n",
    "    \n",
    "# Note: Here, in elements of cols2consider, time bins start from 1 and go till 18.\n",
    "# but while indexing in dataset, it should start from 0 therefore we subtract 1 \n",
    "# from elements in cols2consider\n",
    "c2c_copy=st2consider\n",
    "st2consider=[]\n",
    "for ar in c2c_copy:\n",
    "    st2consider.append([k-1 for k in ar])\n",
    "\n",
    "if st2consider[0]==[k-1 for k in c2c_copy[0]]:\n",
    "    print(\"Unit Subraction from st2consider complete! \\n\")\n",
    "else:\n",
    "    print(\"ERROR: Something wrong with subraction! \\n\")\n",
    "\n",
    "#Check if everything is fine\n",
    "index_l=index_ps.tolist()      # converting pandas series to list\n",
    "if index_l.count('1')==len(st2consider[0]) and (len(st2consider[nclust-1])==index_l.count(str(nclust))):\n",
    "    print(\"Good to go! st2consider seems good..\")"
   ]
  },
  {
   "cell_type": "code",
   "execution_count": 191,
   "metadata": {},
   "outputs": [
    {
     "name": "stdout",
     "output_type": "stream",
     "text": [
      "[[0, 1, 16], [2, 17], [3, 5, 12, 13, 15], [4, 6, 7, 8, 9, 10, 11, 14]]\n"
     ]
    }
   ],
   "source": [
    "print(st2consider)"
   ]
  },
  {
   "cell_type": "code",
   "execution_count": 187,
   "metadata": {},
   "outputs": [
    {
     "name": "stdout",
     "output_type": "stream",
     "text": [
      "[1, 2, 3] [4, 5, 6]\n"
     ]
    }
   ],
   "source": [
    "# Tutorial or recap:\n",
    "# The last index is excluded therefore to select 1-18(inclusive) we have to do 1-19\n",
    "a=[0,1,2,3,4,5,6,7,8,9,10]\n",
    "print(a[1:4],a[4:7])"
   ]
  },
  {
   "cell_type": "code",
   "execution_count": 188,
   "metadata": {},
   "outputs": [],
   "source": [
    "#Tutorial lession for Python0\n",
    "#df2[:][] # indicates 1st[actaully 2nd] col 2nd[actually 3rd] row\n",
    "#df2.iloc[0]"
   ]
  },
  {
   "cell_type": "code",
   "execution_count": 189,
   "metadata": {},
   "outputs": [],
   "source": [
    "# Data from R is same for any bin size.\n",
    "tdmax=22.8\n",
    "tdmin=4.066667\n",
    "def normed2normal(time):\n",
    "    timo=time*(tdmax - tdmin)+tdmin\n",
    "    return timo\n",
    "# Working beautifully for given Min and max time.\n",
    "#normed2normal(day_df[281])"
   ]
  },
  {
   "cell_type": "code",
   "execution_count": 180,
   "metadata": {},
   "outputs": [
    {
     "name": "stderr",
     "output_type": "stream",
     "text": [
      "/home/pennyworth/.local/lib/python3.6/site-packages/ipykernel_launcher.py:28: FutureWarning: Method .as_matrix will be removed in a future version. Use .values instead.\n"
     ]
    },
    {
     "name": "stdout",
     "output_type": "stream",
     "text": [
      "Creation of sequences good!\n"
     ]
    }
   ],
   "source": [
    "#Defining a list to put sequences in\n",
    "sequences_by_grp=[]\n",
    "for grp in range(nclust):\n",
    "    sequences_by_grp.append([])\n",
    "\n",
    "#Define the rows per day\n",
    "rows_pd=int((et-st)/Bin_size)\n",
    "\n",
    "#For each day travel times in df2\n",
    "for day in range(1,int((len(df2)-1)/rows_pd+1)):\n",
    "    strt_row=day*rows_pd-17\n",
    "    end_row=strt_row+rows_pd\n",
    "    #print(\"The rows are:\",strt_row,end_row)\n",
    "    day_df=(df2.iloc[strt_row:end_row])\n",
    "    #For each group according to clustered start times\n",
    "    for grp in range(nclust):\n",
    "        #print(st2consider[grp])\n",
    "        #Creating a list for adding numpy arrays of seg tt for st in the group\n",
    "        tt_group=[]\n",
    "        #For each element in the group\n",
    "        for start_t in st2consider[grp]:\n",
    "            #print(\"Start:\",st+4,\"End:\",st+5)\n",
    "            #Selecting the entry with denormalized st within the range\n",
    "            selected_df=day_df.loc[(normed2normal(day_df[281]) >= start_t+4) & (normed2normal(day_df[281]) <= start_t+5)]\n",
    "            #Taking mean in case multiple values are present\n",
    "            pdseries=selected_df.mean()\n",
    "            #Converting those into a numpy array and putting it in tt_group\n",
    "            tt_group.append(pdseries.as_matrix())\n",
    "            #Works good don't touch\n",
    "        #Appending the matrix to the marticular group\n",
    "        sequences_by_grp[grp].append(tt_group)\n",
    "if len(sequences_by_grp)==nclust and len(sequences_by_grp[0])==34 and len(sequences_by_grp[0][0])==3:\n",
    "    print(\"Creation of sequences good!\")\n",
    "else:\n",
    "    print(\"ERROR: Creation of sequences lengths arent as expected\")"
   ]
  },
  {
   "cell_type": "code",
   "execution_count": 27,
   "metadata": {},
   "outputs": [],
   "source": [
    "# Function to check a X,y pair and look at the lengths:\n",
    "# Not yet prepared for Model-4\n",
    "# def verify_io(Xi,yi,info,i):\n",
    "#     if info==True:\n",
    "#         print(\"Number of X matrices:\",len(Xi))\n",
    "#         print(\"Number of y matrices:\",len(yi))\n",
    "#         print(\"Number i/o pairs expected:\",(rows_pday-irows-orows+1)*34)\n",
    "#     elif(len(Xi)==len(yi)==(rows_pday-irows-orows+1)*34):\n",
    "#         print(\"Number of i/o pairs is as expected!\")\n",
    "#     else:\n",
    "#         print(\"ERROR: Number of i/o pairs is not as expected!\")\n",
    "#     if info==True:\n",
    "#         print(\"Number of features in each X matrix:\",len(Xi[0][1]))\n",
    "#         print(\"Number of features in each y matrix:\",len(yi[0]))\n",
    "#         print(\"Number of features expected:\",len(cols2consider[i])+2,\"for X\")\n",
    "#     elif(len(Xi[0][1])-2==len(yi[0])==len(cols2consider[i])):\n",
    "#         print(\"Number of features is as expected!\")\n",
    "#     else:\n",
    "#         print(\"ERROR: Number of features is not as expected!\")\n"
   ]
  },
  {
   "cell_type": "code",
   "execution_count": 226,
   "metadata": {},
   "outputs": [],
   "source": [
    "import numpy as np\n",
    "#Split sequences according to group number given:\n",
    "def split_sequences_by_grp(sequences, n_steps_in, n_steps_out,grp_no): # Grp no should start from 0\n",
    "    for i in range(len(sequences)):\n",
    "        # Find the end of this pattern\n",
    "        end_ix = i + n_steps_in\n",
    "        out_end_ix = end_ix + n_steps_out\n",
    "        # Check if we are beyond the dataset\n",
    "        if out_end_ix > len(sequences):\n",
    "            break\n",
    "        # Gather input and output parts of the pattern\n",
    "        print\n",
    "        seq_x =sequences[i:end_ix,:]\n",
    "        seq_y = sequences[end_ix:out_end_ix,:,:-2][0]\n",
    "        Xl[grp_no].append(seq_x)\n",
    "        yl[grp_no].append(seq_y)\n",
    "    # Change th +2 below incase the number of inputs and outputs is changed\n",
    "    #first[0] indicates 1st day of the 3 day input. next[0] indicates 1st start time in grp\n",
    "    if len(seq_x[0][0])!= len(seq_y[0])+2:\n",
    "        print(\"ERROR: column selection wrong!\")\n",
    "    return None"
   ]
  },
  {
   "cell_type": "code",
   "execution_count": 223,
   "metadata": {
    "scrolled": false
   },
   "outputs": [],
   "source": [
    "# multivariate multi-step data preparation\n",
    "import numpy as np\n",
    "from numpy import array\n",
    "from numpy import hstack\n",
    "from keras.models import Sequential\n",
    "from keras.layers import LSTM\n",
    "from keras.layers import Dense\n",
    "from keras.layers import RepeatVector\n",
    "from keras.layers import TimeDistributed\n",
    "\n",
    "# Create a list of X and y to put in X and y for different groups.\n",
    "yl=[]\n",
    "for i in range(nclust):\n",
    "    yl.append([])\n",
    "Xl=[]\n",
    "for i in range(nclust):\n",
    "    Xl.append([])\n",
    "    \n",
    "\n",
    "n_steps_in, n_steps_out = 3, 1\n",
    "\n",
    "#Generate IO Matrices\n",
    "for grp in range(nclust):\n",
    "    split_sequences_by_grp(np.asarray(sequences_by_grp[grp]), n_steps_in, n_steps_out,grp)\n",
    "\n",
    "# for i in range(1,35):\n",
    "#     todays_df=dataset[(i-1)*rows_pday+1:i*rows_pday+1]\n",
    "#     for j in range(nclust):\n",
    "#         split_sequences_by_grp(todays_df, n_steps_in, n_steps_out,j)\n",
    "\n",
    "# #Check if the matrix are created properly:\n",
    "# verify_io(Xl[0],yl[0],False,0)\n",
    "# verify_io(Xl[1],yl[1],True,1)\n",
    "# verify_io(Xl[2],yl[2],False,2)\n",
    "# verify_io(Xl[3],yl[3],False,3)\n",
    "#Pending verification"
   ]
  },
  {
   "cell_type": "code",
   "execution_count": 230,
   "metadata": {},
   "outputs": [
    {
     "name": "stdout",
     "output_type": "stream",
     "text": [
      "Na Matrices filtered out sucessfuly in G1 !\n",
      "Na Matrices filtered out sucessfuly in G2 !\n",
      "Na Matrices filtered out sucessfuly in G3 !\n",
      "Na Matrices filtered out sucessfuly in G4 !\n"
     ]
    }
   ],
   "source": [
    "#Filtering the Na IO matrices out\n",
    "from math import isnan\n",
    "import numpy as np\n",
    "\n",
    "# #Function to check if all the NA matrices are deleted.\n",
    "def check_NA(X_fil,y_fil,Name):\n",
    "    Na_count=0\n",
    "    for i in range(len(X_fil)):\n",
    "        if np.any(np.isnan(y_fil[i]))==True & np.any(np.isnan(X_fil[i]))==True:\n",
    "            Na_count=Na_count+1\n",
    "    if Na_count==0:\n",
    "        print(\"Na Matrices filtered out sucessfuly in\",Name,\"!\")\n",
    "    else:\n",
    "        print(\"ERROR: NA value found!\")\n",
    "        \n",
    "#Function to filter the NA matrices.\n",
    "def filter_NA(X_o,y_o):\n",
    "    X_fil=np.array(X_o)\n",
    "    y_fil=np.array(y_o)\n",
    "    del_index=[]\n",
    "    # Noting down the index of Na matrices in del_index \n",
    "    for i in range(len(X_fil)):\n",
    "        del_index.append(np.any(np.isnan(X_fil[i])) or np.any(np.isnan(y_fil[i])))\n",
    "    # Filtering out the Na matrices from y_fil and X_fil by indexing using a list\n",
    "    y_fil=y_fil[list(~np.array(del_index))]\n",
    "    X_fil=X_fil[list(~np.array(del_index))]\n",
    "    return X_fil,y_fil\n",
    "\n",
    "\n",
    "X1,y1=filter_NA(Xl[0],yl[0])\n",
    "X2,y2=filter_NA(Xl[1],yl[1])\n",
    "X3,y3=filter_NA(Xl[2],yl[2])\n",
    "X4,y4=filter_NA(Xl[3],yl[3])\n",
    "\n",
    "check_NA(X1,y1,\"G1\")\n",
    "check_NA(X2,y2,\"G2\")\n",
    "check_NA(X3,y3,\"G3\")\n",
    "check_NA(X4,y4,\"G4\")"
   ]
  },
  {
   "cell_type": "code",
   "execution_count": 233,
   "metadata": {},
   "outputs": [
    {
     "name": "stdout",
     "output_type": "stream",
     "text": [
      "8  I/O pairs available\n"
     ]
    }
   ],
   "source": [
    "# Print number of IO Pairs available:\n",
    "print(len(y2),\" I/O pairs available\")\n",
    "#verify_io(X1,y1,True,0)"
   ]
  },
  {
   "cell_type": "code",
   "execution_count": 15,
   "metadata": {
    "scrolled": true
   },
   "outputs": [
    {
     "name": "stdout",
     "output_type": "stream",
     "text": [
      "Number of X matrices: 510\n",
      "Number of y matrices: 510\n",
      "Number i/o pairs expected: 510\n",
      "Number of features in each X matrix: 70\n",
      "Number of features in each y matrix: 68\n",
      "Number of features expected: 70 for X\n"
     ]
    },
    {
     "data": {
      "text/plain": [
       "(289, 68)"
      ]
     },
     "execution_count": 15,
     "metadata": {},
     "output_type": "execute_result"
    }
   ],
   "source": [
    "# Function to Flatten output\n",
    "verify_io(Xl[0],yl[0],True,0)\n",
    "\n",
    "# Note: No need to flatten output as y already has only 2 dimensions.\n",
    "y1.shape\n",
    "# def Flatten_output(y_il):\n",
    "#     n_output = y_il.shape[1] * y_il.shape[2]\n",
    "#     return y_il.reshape((y_il.shape[0], n_output))\n",
    "\n",
    "# print(y1)\n",
    "# y1=Flatten_output(y1)\n",
    "# y2=Flatten_output(y2)\n",
    "# y3=Flatten_output(y3)\n",
    "# y4=Flatten_output(y4)"
   ]
  },
  {
   "cell_type": "code",
   "execution_count": 16,
   "metadata": {},
   "outputs": [],
   "source": [
    "from numpy.random import seed\n",
    "seed(1)\n",
    "from tensorflow import set_random_seed\n",
    "set_random_seed(2)\n",
    "from numpy import array\n",
    "from numpy import hstack\n",
    "from keras.models import Sequential\n",
    "from keras.layers import Dense\n",
    "from keras.layers import Flatten\n",
    "from keras.layers.convolutional import Conv1D\n",
    "from keras.layers.convolutional import MaxPooling1D"
   ]
  },
  {
   "cell_type": "code",
   "execution_count": 17,
   "metadata": {},
   "outputs": [
    {
     "name": "stdout",
     "output_type": "stream",
     "text": [
      "Number of X matrices: 289\n",
      "Number of y matrices: 289\n",
      "Number i/o pairs expected: 510\n",
      "Number of features in each X matrix: 70\n",
      "Number of features in each y matrix: 68\n",
      "Number of features expected: 70 for X\n"
     ]
    },
    {
     "data": {
      "text/plain": [
       "(289, 3, 70)"
      ]
     },
     "execution_count": 17,
     "metadata": {},
     "output_type": "execute_result"
    }
   ],
   "source": [
    "verify_io(X1,y1,True,0)\n",
    "X1.shape"
   ]
  },
  {
   "cell_type": "code",
   "execution_count": 18,
   "metadata": {
    "scrolled": true
   },
   "outputs": [
    {
     "name": "stderr",
     "output_type": "stream",
     "text": [
      "WARNING: Logging before flag parsing goes to stderr.\n",
      "W0710 19:36:47.749396 140643315939136 deprecation_wrapper.py:119] From /home/pennyworth/.local/lib/python3.6/site-packages/keras/backend/tensorflow_backend.py:74: The name tf.get_default_graph is deprecated. Please use tf.compat.v1.get_default_graph instead.\n",
      "\n",
      "W0710 19:36:47.752042 140643315939136 deprecation_wrapper.py:119] From /home/pennyworth/.local/lib/python3.6/site-packages/keras/backend/tensorflow_backend.py:517: The name tf.placeholder is deprecated. Please use tf.compat.v1.placeholder instead.\n",
      "\n",
      "W0710 19:36:47.755317 140643315939136 deprecation_wrapper.py:119] From /home/pennyworth/.local/lib/python3.6/site-packages/keras/backend/tensorflow_backend.py:4138: The name tf.random_uniform is deprecated. Please use tf.random.uniform instead.\n",
      "\n",
      "W0710 19:36:47.790834 140643315939136 deprecation_wrapper.py:119] From /home/pennyworth/.local/lib/python3.6/site-packages/keras/backend/tensorflow_backend.py:3976: The name tf.nn.max_pool is deprecated. Please use tf.nn.max_pool2d instead.\n",
      "\n",
      "W0710 19:36:47.845192 140643315939136 deprecation_wrapper.py:119] From /home/pennyworth/.local/lib/python3.6/site-packages/keras/optimizers.py:790: The name tf.train.Optimizer is deprecated. Please use tf.compat.v1.train.Optimizer instead.\n",
      "\n"
     ]
    },
    {
     "name": "stdout",
     "output_type": "stream",
     "text": [
      "Dataset splitting done! for Grp-1\n"
     ]
    },
    {
     "name": "stderr",
     "output_type": "stream",
     "text": [
      "W0710 19:36:48.009555 140643315939136 deprecation_wrapper.py:119] From /home/pennyworth/.local/lib/python3.6/site-packages/keras/backend/tensorflow_backend.py:986: The name tf.assign_add is deprecated. Please use tf.compat.v1.assign_add instead.\n",
      "\n",
      "W0710 19:36:48.171990 140643315939136 deprecation_wrapper.py:119] From /home/pennyworth/.local/lib/python3.6/site-packages/keras/backend/tensorflow_backend.py:973: The name tf.assign is deprecated. Please use tf.compat.v1.assign instead.\n",
      "\n"
     ]
    },
    {
     "name": "stdout",
     "output_type": "stream",
     "text": [
      "Group-1 ; Model-3 \n",
      "\n",
      "Number or epochs: 12\n",
      "Number of input features: 70\n",
      "Number of output features: 68\n",
      "Bin size: 1\n",
      "Window size: 3\n",
      "Number of I/O pairs available for training: 230\n",
      "Number of I/O pairs available for testing: 59\n",
      "59/59 [==============================] - 0s 57us/step\n",
      "Model Mape loss: 47.914530220678294\n",
      "59/59 [==============================] - 0s 100us/step\n",
      "Model MSE loss (Minimized): 0.0056986767419819105\n",
      "59/59 [==============================] - 0s 140us/step\n",
      "RMSE loss: 0.0754895803537277\n"
     ]
    }
   ],
   "source": [
    "# Splitting into train and test sets\n",
    "np.random.seed(95)\n",
    "msk = np.random.rand(len(X1)) < 0.8\n",
    "X_train = X1[msk]\n",
    "y_train = y1[msk]\n",
    "X_test = X1[~msk]\n",
    "y_test = y1[~msk]\n",
    "print(\"Dataset splitting done! for Grp-1\")\n",
    "\n",
    "#Verify shape once:\n",
    "#verify_io(X_test,y_test,False,0)\n",
    "\n",
    "\n",
    "n_output=len(y_train[0])\n",
    "n_colx=len(X1[0][0])\n",
    "\n",
    "# multivariate output multi-step 1d cnn example\n",
    "\n",
    "# define model\n",
    "model1 = Sequential()\n",
    "model1.add(Conv1D(filters=64, kernel_size=2, activation='relu', input_shape=(irows, n_colx)))\n",
    "model1.add(MaxPooling1D(pool_size=2))\n",
    "model1.add(Flatten())\n",
    "model1.add(Dense(500, activation='relu'))\n",
    "model1.add(Dense(n_output))\n",
    "model1.compile(optimizer='adam', loss=['mse'],metrics=[\"mape\"])\n",
    "epochno=12\n",
    "\n",
    "# fit model\n",
    "history=model1.fit(X_train, y_train, epochs=epochno, verbose=0, validation_data = (X_test, y_test))\n",
    "print(\"Group-1 ; Model-3 \\n\")\n",
    "print(\"Number or epochs:\",epochno)\n",
    "print(\"Number of input features:\",n_colx)\n",
    "print(\"Number of output features:\",n_output)\n",
    "print(\"Bin size:\",Bin_size)\n",
    "print(\"Window size:\",W_size)\n",
    "print(\"Number of I/O pairs available for training:\",len(y_train))\n",
    "print(\"Number of I/O pairs available for testing:\",len(y_test))\n",
    "print(\"Model Mape loss:\",model1.evaluate(X_test,y_test)[1])\n",
    "print(\"Model MSE loss (Minimized):\",model1.evaluate(X_test,y_test)[0])\n",
    "print(\"RMSE loss:\",np.sqrt(model1.evaluate(X_test,y_test)[0]))\n",
    "\n",
    "# Demonstrate Prediction\n",
    "# x_input = array([[60, 65, 125], [70, 75, 145], [80, 85, 165]])\n",
    "# x_input = x_input.reshape((1, n_steps_in, n_features))\n",
    "# yhat = model.predict(x_input, verbose=0)\n",
    "# print(yhat)"
   ]
  },
  {
   "cell_type": "code",
   "execution_count": 19,
   "metadata": {
    "scrolled": true
   },
   "outputs": [
    {
     "name": "stdout",
     "output_type": "stream",
     "text": [
      "Dataset splitting done! for Grp-2\n",
      "\n",
      "Number of X matrices: 230\n",
      "Number of y matrices: 230\n",
      "Number i/o pairs expected: 510\n",
      "Number of features in each X matrix: 44\n",
      "Number of features in each y matrix: 42\n",
      "Number of features expected: 44 for X\n",
      "Group-2 ; Model-3 \n",
      "\n",
      "Number or epochs: 12\n",
      "Number of input features: 44\n",
      "Number of output features: 42\n",
      "Bin size: 1\n",
      "Window size: 3\n",
      "Number of I/O pairs available for training: 230\n",
      "Number of I/O pairs available for testing: 59\n",
      "59/59 [==============================] - 0s 39us/step\n",
      "Model Mape loss: 23.118215948848402\n",
      "59/59 [==============================] - 0s 110us/step\n",
      "Model MSE loss (Minimized): 0.0017311514919560592\n",
      "59/59 [==============================] - 0s 226us/step\n",
      "RMSE loss: 0.041607108670947794\n"
     ]
    }
   ],
   "source": [
    "# Splitting into train and test sets\n",
    "np.random.seed(95)\n",
    "msk = np.random.rand(len(X2)) < 0.8\n",
    "X_train = X2[msk]\n",
    "y_train = y2[msk]\n",
    "X_test = X2[~msk]\n",
    "y_test = y2[~msk]\n",
    "print(\"Dataset splitting done! for Grp-2\\n\")\n",
    "\n",
    "#Verify shape once:\n",
    "verify_io(X_train,y_train,True,1)\n",
    "\n",
    "\n",
    "n_output=len(y_train[0])\n",
    "n_colx=len(X_train[0][0])\n",
    "\n",
    "# multivariate output multi-step 1d cnn example\n",
    "\n",
    "# define model\n",
    "model2 = Sequential()\n",
    "model2.add(Conv1D(filters=64, kernel_size=2, activation='relu', input_shape=(irows, n_colx)))\n",
    "model2.add(MaxPooling1D(pool_size=2))\n",
    "model2.add(Flatten())\n",
    "model2.add(Dense(500, activation='relu'))\n",
    "model2.add(Dense(n_output))\n",
    "model2.compile(optimizer='adam', loss=['mse'],metrics=[\"mape\"])\n",
    "epochno=12\n",
    "\n",
    "# fit model\n",
    "history=model2.fit(X_train, y_train, epochs=epochno, verbose=0, validation_data = (X_test, y_test))\n",
    "print(\"Group-2 ; Model-3 \\n\")\n",
    "print(\"Number or epochs:\",epochno)\n",
    "print(\"Number of input features:\",n_colx)\n",
    "print(\"Number of output features:\",n_output)\n",
    "print(\"Bin size:\",Bin_size)\n",
    "print(\"Window size:\",W_size)\n",
    "print(\"Number of I/O pairs available for training:\",len(y_train))\n",
    "print(\"Number of I/O pairs available for testing:\",len(y_test))\n",
    "print(\"Model Mape loss:\",model2.evaluate(X_test,y_test)[1])\n",
    "print(\"Model MSE loss (Minimized):\",model2.evaluate(X_test,y_test)[0])\n",
    "print(\"RMSE loss:\",np.sqrt(model2.evaluate(X_test,y_test)[0]))\n",
    "\n",
    "# Demonstrate Prediction\n",
    "# x_input = array([[60, 65, 125], [70, 75, 145], [80, 85, 165]])\n",
    "# x_input = x_input.reshape((1, n_steps_in, n_features))\n",
    "# yhat = model.predict(x_input, verbose=0)\n",
    "# print(yhat)"
   ]
  },
  {
   "cell_type": "code",
   "execution_count": 20,
   "metadata": {},
   "outputs": [
    {
     "name": "stdout",
     "output_type": "stream",
     "text": [
      "Dataset splitting done! for Grp-3\n",
      "\n",
      "Number of X matrices: 230\n",
      "Number of y matrices: 230\n",
      "Number i/o pairs expected: 510\n",
      "Number of features in each X matrix: 31\n",
      "Number of features in each y matrix: 29\n",
      "Number of features expected: 31 for X\n",
      "Group-3 ; Model-3 \n",
      "\n",
      "Number or epochs: 12\n",
      "Number of input features: 31\n",
      "Number of output features: 29\n",
      "Bin size: 1\n",
      "Window size: 3\n",
      "Number of I/O pairs available for training: 230\n",
      "Number of I/O pairs available for testing: 59\n",
      "59/59 [==============================] - 0s 40us/step\n",
      "Model Mape loss: 73.63426441257283\n",
      "59/59 [==============================] - 0s 88us/step\n",
      "Model MSE loss (Minimized): 0.005403270905490144\n",
      "59/59 [==============================] - 0s 197us/step\n",
      "RMSE loss: 0.0735069446072284\n"
     ]
    }
   ],
   "source": [
    "# Splitting into train and test sets\n",
    "np.random.seed(95)\n",
    "msk = np.random.rand(len(X3)) < 0.8\n",
    "X_train = X3[msk]\n",
    "y_train = y3[msk]\n",
    "X_test = X3[~msk]\n",
    "y_test = y3[~msk]\n",
    "print(\"Dataset splitting done! for Grp-3\\n\")\n",
    "\n",
    "#Verify shape once:\n",
    "verify_io(X_train,y_train,True,2)\n",
    "\n",
    "\n",
    "n_output=len(y_train[0])\n",
    "n_colx=len(X_train[0][0])\n",
    "\n",
    "# multivariate output multi-step 1d cnn example\n",
    "\n",
    "# define model\n",
    "model3 = Sequential()\n",
    "model3.add(Conv1D(filters=64, kernel_size=2, activation='relu', input_shape=(irows, n_colx)))\n",
    "model3.add(MaxPooling1D(pool_size=2))\n",
    "model3.add(Flatten())\n",
    "model3.add(Dense(500, activation='relu'))\n",
    "model3.add(Dense(n_output))\n",
    "model3.compile(optimizer='adam', loss=['mse'],metrics=[\"mape\"])\n",
    "epochno=12\n",
    "\n",
    "# fit model\n",
    "history=model3.fit(X_train, y_train, epochs=epochno, verbose=0, validation_data = (X_test, y_test))\n",
    "print(\"Group-3 ; Model-3 \\n\")\n",
    "print(\"Number or epochs:\",epochno)\n",
    "print(\"Number of input features:\",n_colx)\n",
    "print(\"Number of output features:\",n_output)\n",
    "print(\"Bin size:\",Bin_size)\n",
    "print(\"Window size:\",W_size)\n",
    "print(\"Number of I/O pairs available for training:\",len(y_train))\n",
    "print(\"Number of I/O pairs available for testing:\",len(y_test))\n",
    "print(\"Model Mape loss:\",model3.evaluate(X_test,y_test)[1])\n",
    "print(\"Model MSE loss (Minimized):\",model3.evaluate(X_test,y_test)[0])\n",
    "print(\"RMSE loss:\",np.sqrt(model3.evaluate(X_test,y_test)[0]))\n",
    "\n",
    "# Demonstrate Prediction\n",
    "# x_input = array([[60, 65, 125], [70, 75, 145], [80, 85, 165]])\n",
    "# x_input = x_input.reshape((1, n_steps_in, n_features))\n",
    "# yhat = model.predict(x_input, verbose=0)\n",
    "# print(yhat)"
   ]
  },
  {
   "cell_type": "code",
   "execution_count": 21,
   "metadata": {},
   "outputs": [
    {
     "name": "stdout",
     "output_type": "stream",
     "text": [
      "Dataset splitting done! for Grp-4\n",
      "\n",
      "Number of X matrices: 230\n",
      "Number of y matrices: 230\n",
      "Number i/o pairs expected: 510\n",
      "Number of features in each X matrix: 143\n",
      "Number of features in each y matrix: 141\n",
      "Number of features expected: 143 for X\n",
      "Group-4 ; Model-3 \n",
      "\n",
      "Number or epochs: 12\n",
      "Number of input features: 143\n",
      "Number of output features: 141\n",
      "Bin size: 1\n",
      "Window size: 3\n",
      "Number of I/O pairs available for training: 230\n",
      "Number of I/O pairs available for testing: 59\n",
      "59/59 [==============================] - 0s 52us/step\n",
      "Model Mape loss: 2146.121499271716\n",
      "59/59 [==============================] - 0s 149us/step\n",
      "Model MSE loss (Minimized): 0.003139250335615065\n",
      "59/59 [==============================] - 0s 69us/step\n",
      "RMSE loss: 0.056029013337868666\n"
     ]
    }
   ],
   "source": [
    "# Splitting into train and test sets\n",
    "np.random.seed(95)\n",
    "msk = np.random.rand(len(X4)) < 0.8\n",
    "X_train = X4[msk]\n",
    "y_train = y4[msk]\n",
    "X_test = X4[~msk]\n",
    "y_test = y4[~msk]\n",
    "print(\"Dataset splitting done! for Grp-4\\n\")\n",
    "\n",
    "#Verify shape once:\n",
    "verify_io(X_train,y_train,True,3)\n",
    "\n",
    "\n",
    "n_output=len(y_train[0])\n",
    "n_colx=len(X_train[0][0])\n",
    "\n",
    "# multivariate output multi-step 1d cnn example\n",
    "\n",
    "# define model\n",
    "model4 = Sequential()\n",
    "model4.add(Conv1D(filters=64, kernel_size=2, activation='relu', input_shape=(irows, n_colx)))\n",
    "model4.add(MaxPooling1D(pool_size=2))\n",
    "model4.add(Flatten())\n",
    "model4.add(Dense(500, activation='relu'))\n",
    "model4.add(Dense(n_output))\n",
    "model4.compile(optimizer='adam', loss=['mse'],metrics=[\"mape\"])\n",
    "epochno=12\n",
    "\n",
    "# fit model\n",
    "history=model4.fit(X_train, y_train, epochs=epochno, verbose=0, validation_data = (X_test, y_test))\n",
    "print(\"Group-4 ; Model-3 \\n\")\n",
    "print(\"Number or epochs:\",epochno)\n",
    "print(\"Number of input features:\",n_colx)\n",
    "print(\"Number of output features:\",n_output)\n",
    "print(\"Bin size:\",Bin_size)\n",
    "print(\"Window size:\",W_size)\n",
    "print(\"Number of I/O pairs available for training:\",len(y_train))\n",
    "print(\"Number of I/O pairs available for testing:\",len(y_test))\n",
    "print(\"Model Mape loss:\",model4.evaluate(X_test,y_test)[1])\n",
    "print(\"Model MSE loss (Minimized):\",model4.evaluate(X_test,y_test)[0])\n",
    "print(\"RMSE loss:\",np.sqrt(model4.evaluate(X_test,y_test)[0]))\n",
    "\n",
    "# Demonstrate Prediction\n",
    "# x_input = array([[60, 65, 125], [70, 75, 145], [80, 85, 165]])\n",
    "# x_input = x_input.reshape((1, n_steps_in, n_features))\n",
    "# yhat = model.predict(x_input, verbose=0)\n",
    "# print(yhat)"
   ]
  },
  {
   "cell_type": "code",
   "execution_count": 22,
   "metadata": {},
   "outputs": [
    {
     "name": "stdout",
     "output_type": "stream",
     "text": [
      "dict_keys(['val_loss', 'val_mean_absolute_percentage_error', 'loss', 'mean_absolute_percentage_error'])\n"
     ]
    },
    {
     "data": {
      "image/png": "[encoded data removed]",
      "text/plain": [
       "<Figure size 432x288 with 1 Axes>"
      ]
     },
     "metadata": {},
     "output_type": "display_data"
    }
   ],
   "source": [
    "import matplotlib.pyplot as plt\n",
    "import numpy\n",
    "%matplotlib inline\n",
    "\n",
    "print(history.history.keys())\n",
    "# summarize history for loss\n",
    "plt.plot(history.history['loss'])\n",
    "plt.plot(history.history['val_loss'])\n",
    "plt.title('Model Loss (MSE)')\n",
    "plt.ylabel('Loss')\n",
    "plt.xlabel('Epoch')\n",
    "plt.legend(['Train', 'Test'], loc='upper right')\n",
    "#axes = plt.gca()\n",
    "#axes.set_ylim([7500,0.2*100000])\n",
    "#axes.set_xlim([1500,3000])\n",
    "plt.show()"
   ]
  },
  {
   "cell_type": "code",
   "execution_count": 203,
   "metadata": {},
   "outputs": [],
   "source": [
    "#history=model.fit(X, y, epochs=3000, verbose=1)\n",
    "#model.evaluate(X,y)"
   ]
  },
  {
   "cell_type": "code",
   "execution_count": 27,
   "metadata": {},
   "outputs": [],
   "source": [
    "# Plot a random Prediction vs actual travel time\n",
    "import matplotlib.pyplot as plt\n",
    "import numpy as np\n",
    "np.random.seed(88)\n",
    "rnd=np.random.randint(len(X_test))\n",
    "\n",
    "# Define a function that returns the segment if a touple with (index in list,tt)\n",
    "def tellme_seg(tu):\n",
    "    return orderlist[tu[0]]\n",
    "\n",
    "#Reshaping input to be suitable for the observation\n",
    "x1_input = X1[~msk][rnd].reshape((1, 3, len(X1[0][0])))\n",
    "x2_input = X2[~msk][rnd].reshape((1, 3, len(X2[0][0])))\n",
    "x3_input = X3[~msk][rnd].reshape((1, 3, len(X3[0][0])))\n",
    "x4_input = X4[~msk][rnd].reshape((1, 3, len(X4[0][0])))\n",
    "\n",
    "#Predicting values for each group for rnd observation\n",
    "g1_yp=model1.predict(x1_input, verbose=0)\n",
    "g2_yp=model2.predict(x2_input, verbose=0)\n",
    "g3_yp=model3.predict(x3_input, verbose=0)\n",
    "g4_yp=model4.predict(x4_input, verbose=0)\n",
    "\n",
    "#Getting the real value for each group for the rnd\n",
    "g1_ya=y1[rnd]\n",
    "g2_ya=y2[rnd]\n",
    "g3_ya=y3[rnd]\n",
    "g4_ya=y4[rnd]\n",
    "\n",
    "orderlist=[]\n",
    "tt_list_ya=list(g1_ya)+list(g2_ya)+list(g3_ya)+list(g4_ya)\n",
    "tt_list_yp=list(g1_yp[0])+list(g2_yp[0])+list(g3_yp[0])+list(g4_yp[0])\n",
    "for grp in cols2consider:\n",
    "    orderlist=orderlist+grp\n",
    "\n",
    "# Defining a function to map travel times to the\n",
    "def arrange_tt_by_seg(tlist):\n",
    "    touple_list=[(i,tlist[i]) for i in range(len(tlist))]\n",
    "    touple_list.sort(key=tellme_seg)\n",
    "    sorted_tp_list=touple_list\n",
    "    arranged_tt=[el[1] for el in sorted_tp_list]\n",
    "    return arranged_tt\n",
    "\n",
    "act=arrange_tt_by_seg(tt_list_ya)\n",
    "pdt=arrange_tt_by_seg(tt_list_yp)\n",
    "#print(type(g1_ya.shape),\"\\n\\n\")\n",
    "#print(len(yhat[0]))\n",
    "# pdt=yhat[0]\n",
    "# act=y_output\n",
    "# if len(pdt)==len(act):\n",
    "#     print(\"Lengths match good to go!\")"
   ]
  },
  {
   "cell_type": "code",
   "execution_count": 28,
   "metadata": {},
   "outputs": [
    {
     "data": {
      "image/png": "[encoded data removed]",
      "text/plain": [
       "<Figure size 432x288 with 1 Axes>"
      ]
     },
     "metadata": {},
     "output_type": "display_data"
    }
   ],
   "source": [
    "import matplotlib.pyplot as plt\n",
    "import numpy\n",
    "\n",
    "x=list(range(1,len(pdt)+1))\n",
    "plt.plot(x, pdt[0:], color='g',label=\"Predicted\")\n",
    "plt.plot(x, act[0:], color='orange',label=\"Actual\")\n",
    "plt.xlabel('Segments')\n",
    "plt.ylabel('Travel time (s)')\n",
    "plt.title('Predicted vs Actual')\n",
    "axes = plt.gca()\n",
    "#axes.set_ylim([0,180])\n",
    "axes.set_xlim([-2,len(pdt)+10])\n",
    "leg = plt.legend();\n",
    "#plt.show()"
   ]
  },
  {
   "cell_type": "code",
   "execution_count": null,
   "metadata": {},
   "outputs": [],
   "source": []
  },
  {
   "cell_type": "code",
   "execution_count": null,
   "metadata": {},
   "outputs": [],
   "source": []
  }
 ],
 "metadata": {
  "kernelspec": {
   "display_name": "Python 3",
   "language": "python",
   "name": "python3"
  },
  "language_info": {
   "codemirror_mode": {
    "name": "ipython",
    "version": 3
   },
   "file_extension": ".py",
   "mimetype": "text/x-python",
   "name": "python",
   "nbconvert_exporter": "python",
   "pygments_lexer": "ipython3",
   "version": "3.6.8"
  }
 },
 "nbformat": 4,
 "nbformat_minor": 2
}
