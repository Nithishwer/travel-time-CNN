{
 "cells": [
  {
   "cell_type": "code",
   "execution_count": 66,
   "metadata": {},
   "outputs": [],
   "source": [
    "#https://machinelearningmastery.com/how-to-develop-convolutional-neural-network-models-for-time-series-forecasting/"
   ]
  },
  {
   "cell_type": "code",
   "execution_count": 1,
   "metadata": {},
   "outputs": [],
   "source": [
    "#Configuring the IO structure:\n",
    "W_size=3\n",
    "st=4\n",
    "et=22\n",
    "Bin_size=1\n",
    "prediction_size=1\n",
    "n_features=282\n",
    "irows=int(W_size/Bin_size)\n",
    "icols=n_features\n",
    "orows=int(prediction_size/Bin_size)\n",
    "ocols=147"
   ]
  },
  {
   "cell_type": "code",
   "execution_count": 2,
   "metadata": {},
   "outputs": [
    {
     "name": "stderr",
     "output_type": "stream",
     "text": [
      "/home/pennyworth/.local/lib/python3.6/site-packages/ipykernel_launcher.py:10: FutureWarning: Method .as_matrix will be removed in a future version. Use .values instead.\n",
      "  # Remove the CWD from sys.path while we load stuff.\n"
     ]
    }
   ],
   "source": [
    "# Data Preparation\n",
    "import pandas as pd\n",
    "# Selecting data based on bin size\n",
    "if Bin_size==0.5:\n",
    "    df2 = pd.read_csv('/home/pennyworth/Documents/Bus/Data/from_R_19B_30min_n&f.csv',header =None)\n",
    "if Bin_size==1:\n",
    "    df2 = pd.read_csv('/home/pennyworth/Documents/Bus/Data/from_R_19B_1Hr_n&f.csv',header =None)\n",
    "    \n",
    "#Converting dataframe into matrix    \n",
    "dataset=df2.as_matrix()"
   ]
  },
  {
   "cell_type": "code",
   "execution_count": 3,
   "metadata": {},
   "outputs": [
    {
     "name": "stdout",
     "output_type": "stream",
     "text": [
      "Import successful!\n"
     ]
    }
   ],
   "source": [
    "#Checking if the import is good to go:\n",
    "if len(dataset)-1==34*18/Bin_size:\n",
    "    print(\"Import successful!\")"
   ]
  },
  {
   "cell_type": "code",
   "execution_count": 4,
   "metadata": {},
   "outputs": [
    {
     "name": "stdout",
     "output_type": "stream",
     "text": [
      "3 1\n"
     ]
    }
   ],
   "source": [
    "print(irows,orows)"
   ]
  },
  {
   "cell_type": "code",
   "execution_count": 5,
   "metadata": {},
   "outputs": [
    {
     "name": "stdout",
     "output_type": "stream",
     "text": [
      "Unit Subraction from st2consider complete! \n",
      "\n",
      "Good to go! st2consider seems good..\n"
     ]
    }
   ],
   "source": [
    "#Fixing number of clusters:\n",
    "nclust=4\n",
    "\n",
    "#Selecting correlated time bins based on cluster number\n",
    "if nclust==4:\n",
    "    df_clust = pd.read_csv('/home/pennyworth/Documents/Bus/Data/STcor_Tree_4branch.csv',header =None)\n",
    "if nclust==3:\n",
    "    df_clust = pd.read_csv('/home/pennyworth/Documents/Bus/Data/STcor_Tree_3branch.csv',header =None)\n",
    "if nclust==2:\n",
    "    df_clust = pd.read_csv('/home/pennyworth/Documents/Bus/Data/STcor_Tree_2branch.csv',header =None)\n",
    "index_ps=df_clust[1]\n",
    "\n",
    "#Creating a list of start time to consider for each model\n",
    "st2consider=[]\n",
    "for i in range(nclust):\n",
    "    st2consider.append([])\n",
    "\n",
    "#Appending values to sts2consider\n",
    "for i in range(1,len(index_ps)):\n",
    "    bloc=int(index_ps[i])\n",
    "    st2consider[bloc-1].append(i)\n",
    "    \n",
    "# Note: Here, in elements of cols2consider, time bins start from 1 and go till 18.\n",
    "# but while indexing in dataset, it should start from 0 therefore we subtract 1 \n",
    "# from elements in cols2consider\n",
    "c2c_copy=st2consider\n",
    "st2consider=[]\n",
    "for ar in c2c_copy:\n",
    "    st2consider.append([k-1 for k in ar])\n",
    "\n",
    "if st2consider[0]==[k-1 for k in c2c_copy[0]]:\n",
    "    print(\"Unit Subraction from st2consider complete! \\n\")\n",
    "else:\n",
    "    print(\"ERROR: Something wrong with subraction! \\n\")\n",
    "\n",
    "#Check if everything is fine\n",
    "index_l=index_ps.tolist()      # converting pandas series to list\n",
    "if index_l.count('1')==len(st2consider[0]) and (len(st2consider[nclust-1])==index_l.count(str(nclust))):\n",
    "    print(\"Good to go! st2consider seems good..\")"
   ]
  },
  {
   "cell_type": "code",
   "execution_count": 6,
   "metadata": {},
   "outputs": [
    {
     "name": "stdout",
     "output_type": "stream",
     "text": [
      "[[0, 1, 16], [2, 17], [3, 5, 12, 13, 15], [4, 6, 7, 8, 9, 10, 11, 14]]\n"
     ]
    }
   ],
   "source": [
    "print(st2consider)"
   ]
  },
  {
   "cell_type": "code",
   "execution_count": 7,
   "metadata": {},
   "outputs": [
    {
     "name": "stdout",
     "output_type": "stream",
     "text": [
      "[1, 2, 3] [4, 5, 6]\n"
     ]
    }
   ],
   "source": [
    "# Tutorial or recap:\n",
    "# The last index is excluded therefore to select 1-18(inclusive) we have to do 1-19\n",
    "a=[0,1,2,3,4,5,6,7,8,9,10]\n",
    "print(a[1:4],a[4:7])"
   ]
  },
  {
   "cell_type": "code",
   "execution_count": 8,
   "metadata": {},
   "outputs": [],
   "source": [
    "#Tutorial lession for Python0\n",
    "#df2[:][] # indicates 1st[actaully 2nd] col 2nd[actually 3rd] row\n",
    "#df2.iloc[0]"
   ]
  },
  {
   "cell_type": "code",
   "execution_count": 9,
   "metadata": {},
   "outputs": [],
   "source": [
    "# Data from R is same for any bin size.\n",
    "tdmax=22.8\n",
    "tdmin=4.066667\n",
    "def normed2normal(time):\n",
    "    timo=time*(tdmax - tdmin)+tdmin\n",
    "    return timo\n",
    "# Working beautifully for given Min and max time.\n",
    "#normed2normal(day_df[281])"
   ]
  },
  {
   "cell_type": "code",
   "execution_count": 10,
   "metadata": {},
   "outputs": [
    {
     "name": "stderr",
     "output_type": "stream",
     "text": [
      "/home/pennyworth/.local/lib/python3.6/site-packages/ipykernel_launcher.py:28: FutureWarning: Method .as_matrix will be removed in a future version. Use .values instead.\n"
     ]
    },
    {
     "name": "stdout",
     "output_type": "stream",
     "text": [
      "Creation of sequences good!\n"
     ]
    }
   ],
   "source": [
    "#Defining a list to put sequences in\n",
    "sequences_by_grp=[]\n",
    "for grp in range(nclust):\n",
    "    sequences_by_grp.append([])\n",
    "\n",
    "#Define the rows per day\n",
    "rows_pd=int((et-st)/Bin_size)\n",
    "\n",
    "#For each day travel times in df2\n",
    "for day in range(1,int((len(df2)-1)/rows_pd+1)):\n",
    "    strt_row=day*rows_pd-17\n",
    "    end_row=strt_row+rows_pd\n",
    "    #print(\"The rows are:\",strt_row,end_row)\n",
    "    day_df=(df2.iloc[strt_row:end_row])\n",
    "    #For each group according to clustered start times\n",
    "    for grp in range(nclust):\n",
    "        #print(st2consider[grp])\n",
    "        #Creating a list for adding numpy arrays of seg tt for st in the group\n",
    "        tt_group=[]\n",
    "        #For each element in the group\n",
    "        for start_t in st2consider[grp]:\n",
    "            #print(\"Start:\",st+4,\"End:\",st+5)\n",
    "            #Selecting the entry with denormalized st within the range\n",
    "            selected_df=day_df.loc[(normed2normal(day_df[281]) >= start_t+4) & (normed2normal(day_df[281]) <= start_t+5)]\n",
    "            #Taking mean in case multiple values are present\n",
    "            pdseries=selected_df.mean()\n",
    "            #Converting those into a numpy array and putting it in tt_group\n",
    "            tt_group.append(pdseries.as_matrix())\n",
    "            #Works good don't touch\n",
    "        #Appending the matrix to the marticular group\n",
    "        sequences_by_grp[grp].append(tt_group)\n",
    "if len(sequences_by_grp)==nclust and len(sequences_by_grp[0])==34 and len(sequences_by_grp[0][0])==3:\n",
    "    print(\"Creation of sequences good!\")\n",
    "else:\n",
    "    print(\"ERROR: Creation of sequences lengths arent as expected\")"
   ]
  },
  {
   "cell_type": "code",
   "execution_count": 11,
   "metadata": {},
   "outputs": [],
   "source": [
    "# Function to check a X,y pair and look at the lengths:\n",
    "# Not yet prepared for Model-4\n",
    "def verify_io(Xi,yi,info,i):\n",
    "    if info==True:\n",
    "        print(\"Number of X Tensors:\",len(Xi))\n",
    "        print(\"Number of y Tensors:\",len(yi))\n",
    "        print(\"Number i/o pairs expected:\",(34-irows-orows+1))\n",
    "    elif(len(Xi)==len(yi)==(34-irows-orows+1)):\n",
    "        print(\"Number of i/o pairs is as expected!\")\n",
    "    else:\n",
    "        print(\"ERROR: Number of i/o pairs is not as expected!\")\n",
    "    if info==True:\n",
    "        print(\"Shape of X Tensor:\",Xi.shape)\n",
    "        print(\"Shape of Y Tensor:\",yi.shape)\n",
    "        print(\"Number of features expected:\",len(cols2consider[i])+2,\"for X\")\n",
    "    elif(len(Xi[0][1])-2==len(yi[0])==len(cols2consider[i])):\n",
    "        print(\"Number of features is as expected!\")\n",
    "    else:\n",
    "        print(\"ERROR: Number of features is not as expected!\")\n",
    "#ALways use info = True as false is not incorporated properly"
   ]
  },
  {
   "cell_type": "code",
   "execution_count": 12,
   "metadata": {},
   "outputs": [],
   "source": [
    "import numpy as np\n",
    "#Split sequences according to group number given:\n",
    "def split_sequences_by_grp(sequences, n_steps_in, n_steps_out,grp_no): # Grp no should start from 0\n",
    "    for i in range(len(sequences)):\n",
    "        # Find the end of this pattern\n",
    "        end_ix = i + n_steps_in\n",
    "        out_end_ix = end_ix + n_steps_out\n",
    "        # Check if we are beyond the dataset\n",
    "        if out_end_ix > len(sequences):\n",
    "            break\n",
    "        # Gather input and output parts of the pattern\n",
    "        print\n",
    "        seq_x =sequences[i:end_ix,:]\n",
    "        seq_y = sequences[end_ix:out_end_ix,:,:-2][0]\n",
    "        Xl[grp_no].append(seq_x)\n",
    "        yl[grp_no].append(seq_y)\n",
    "    # Change th +2 below incase the number of inputs and outputs is changed\n",
    "    #first[0] indicates 1st day of the 3 day input. next[0] indicates 1st start time in grp\n",
    "    if len(seq_x[0][0])!= len(seq_y[0])+2:\n",
    "        print(\"ERROR: column selection wrong!\")\n",
    "    return None"
   ]
  },
  {
   "cell_type": "code",
   "execution_count": 13,
   "metadata": {
    "scrolled": false
   },
   "outputs": [
    {
     "name": "stderr",
     "output_type": "stream",
     "text": [
      "Using TensorFlow backend.\n"
     ]
    }
   ],
   "source": [
    "# multivariate multi-step data preparation\n",
    "import numpy as np\n",
    "from numpy import array\n",
    "from numpy import hstack\n",
    "from keras.models import Sequential\n",
    "from keras.layers import LSTM\n",
    "from keras.layers import Dense\n",
    "from keras.layers import RepeatVector\n",
    "from keras.layers import TimeDistributed\n",
    "\n",
    "# Create a list of X and y to put in X and y for different groups.\n",
    "yl=[]\n",
    "for i in range(nclust):\n",
    "    yl.append([])\n",
    "Xl=[]\n",
    "for i in range(nclust):\n",
    "    Xl.append([])\n",
    "    \n",
    "\n",
    "n_days_in, n_days_out = 3, 1\n",
    "\n",
    "#Generate IO Matrices\n",
    "for grp in range(nclust):\n",
    "    split_sequences_by_grp(np.asarray(sequences_by_grp[grp]), n_days_in, n_days_out,grp)\n",
    "\n",
    "# for i in range(1,35):\n",
    "#     todays_df=dataset[(i-1)*rows_pday+1:i*rows_pday+1]\n",
    "#     for j in range(nclust):\n",
    "#         split_sequences_by_grp(todays_df, n_steps_in, n_steps_out,j)\n",
    "\n",
    "# #Check if the matrix are created properly:\n",
    "# verify_io(Xl[0],yl[0],False,0)\n",
    "# verify_io(Xl[1],yl[1],True,1)\n",
    "# verify_io(Xl[2],yl[2],False,2)\n",
    "# verify_io(Xl[3],yl[3],False,3)\n",
    "#Pending verification"
   ]
  },
  {
   "cell_type": "code",
   "execution_count": 14,
   "metadata": {},
   "outputs": [
    {
     "name": "stdout",
     "output_type": "stream",
     "text": [
      "Na Matrices filtered out sucessfuly in G1 !\n",
      "Na Matrices filtered out sucessfuly in G2 !\n",
      "Na Matrices filtered out sucessfuly in G3 !\n",
      "Na Matrices filtered out sucessfuly in G4 !\n"
     ]
    }
   ],
   "source": [
    "#Filtering the Na IO matrices out\n",
    "from math import isnan\n",
    "import numpy as np\n",
    "\n",
    "# #Function to check if all the NA matrices are deleted.\n",
    "def check_NA(X_fil,y_fil,Name):\n",
    "    Na_count=0\n",
    "    for i in range(len(X_fil)):\n",
    "        if np.any(np.isnan(y_fil[i]))==True & np.any(np.isnan(X_fil[i]))==True:\n",
    "            Na_count=Na_count+1\n",
    "    if Na_count==0:\n",
    "        print(\"Na Matrices filtered out sucessfuly in\",Name,\"!\")\n",
    "    else:\n",
    "        print(\"ERROR: NA value found!\")\n",
    "        \n",
    "#Function to filter the NA matrices.\n",
    "def filter_NA(X_o,y_o):\n",
    "    X_fil=np.array(X_o)\n",
    "    y_fil=np.array(y_o)\n",
    "    del_index=[]\n",
    "    # Noting down the index of Na matrices in del_index \n",
    "    for i in range(len(X_fil)):\n",
    "        del_index.append(np.any(np.isnan(X_fil[i])) or np.any(np.isnan(y_fil[i])))\n",
    "    # Filtering out the Na matrices from y_fil and X_fil by indexing using a list\n",
    "    y_fil=y_fil[list(~np.array(del_index))]\n",
    "    X_fil=X_fil[list(~np.array(del_index))]\n",
    "    return X_fil,y_fil\n",
    "\n",
    "\n",
    "X1,y1=filter_NA(Xl[0],yl[0])\n",
    "X2,y2=filter_NA(Xl[1],yl[1])\n",
    "X3,y3=filter_NA(Xl[2],yl[2])\n",
    "X4,y4=filter_NA(Xl[3],yl[3])\n",
    "\n",
    "check_NA(X1,y1,\"G1\")\n",
    "check_NA(X2,y2,\"G2\")\n",
    "check_NA(X3,y3,\"G3\")\n",
    "check_NA(X4,y4,\"G4\")"
   ]
  },
  {
   "cell_type": "code",
   "execution_count": 15,
   "metadata": {},
   "outputs": [
    {
     "name": "stdout",
     "output_type": "stream",
     "text": [
      "31  I/O pairs available\n"
     ]
    }
   ],
   "source": [
    "# Print number of IO Pairs available:\n",
    "print(len(y2),\" I/O pairs available\")\n",
    "#verify_io(X1,y1,True,0)"
   ]
  },
  {
   "cell_type": "code",
   "execution_count": 16,
   "metadata": {
    "scrolled": true
   },
   "outputs": [
    {
     "data": {
      "text/plain": [
       "(31, 3, 280)"
      ]
     },
     "execution_count": 16,
     "metadata": {},
     "output_type": "execute_result"
    }
   ],
   "source": [
    "# Function to Flatten output\n",
    "#verify_io(Xl[0],yl[0],True,0)\n",
    "\n",
    "# Note: No need to flatten output as y already has only 2 dimensions.\n",
    "y1.shape\n",
    "# def Flatten_output(y_il):\n",
    "#     n_output = y_il.shape[1] * y_il.shape[2]\n",
    "#     return y_il.reshape((y_il.shape[0], n_output))\n",
    "\n",
    "# print(y1)\n",
    "# y1=Flatten_output(y1)\n",
    "# y2=Flatten_output(y2)\n",
    "# y3=Flatten_output(y3)\n",
    "# y4=Flatten_output(y4)"
   ]
  },
  {
   "cell_type": "code",
   "execution_count": 17,
   "metadata": {},
   "outputs": [],
   "source": [
    "from numpy.random import seed\n",
    "seed(1)\n",
    "from tensorflow import set_random_seed\n",
    "set_random_seed(2)\n",
    "from numpy import array\n",
    "from numpy import hstack\n",
    "from keras.models import Sequential\n",
    "from keras.layers import Dense\n",
    "from keras.layers import Flatten\n",
    "from keras.layers.convolutional import Conv1D\n",
    "from keras.layers.convolutional import MaxPooling1D"
   ]
  },
  {
   "cell_type": "code",
   "execution_count": 40,
   "metadata": {},
   "outputs": [
    {
     "name": "stdout",
     "output_type": "stream",
     "text": [
      "Shape of X1: (31, 3, 3, 282)\n",
      "Shape of X2: (31, 3, 2, 282)\n",
      "Shape of X3: (31, 3, 5, 282)\n",
      "Shape of X4: (31, 3, 8, 282)\n",
      "Shape of y1: (31, 3, 280)\n",
      "Shape of y2: (31, 2, 280)\n",
      "Shape of y3: (31, 5, 280)\n",
      "Shape of y4: (31, 8, 280)\n"
     ]
    },
    {
     "data": {
      "text/plain": [
       "((31, 840), (31, 9, 282))"
      ]
     },
     "execution_count": 40,
     "metadata": {},
     "output_type": "execute_result"
    }
   ],
   "source": [
    "#Reshape input and output\n",
    "print(\"Shape of X1:\",X1.shape)\n",
    "print(\"Shape of X2:\",X2.shape)\n",
    "print(\"Shape of X3:\",X3.shape)\n",
    "print(\"Shape of X4:\",X4.shape)\n",
    "print(\"Shape of y1:\",y1.shape)\n",
    "print(\"Shape of y2:\",y2.shape)\n",
    "print(\"Shape of y3:\",y3.shape)\n",
    "print(\"Shape of y4:\",y4.shape)\n",
    "reshaped_X1=X1.reshape(34-irows-orows+1,X1.shape[2]*X1.shape[1],282)\n",
    "reshaped_y1=y1.reshape(34-irows-orows+1,280*y1.shape[1])\n",
    "reshaped_X2=X2.reshape(34-irows-orows+1,X2.shape[2]*X2.shape[1],282)\n",
    "reshaped_y2=y2.reshape(34-irows-orows+1,280*y2.shape[1])\n",
    "reshaped_X3=X3.reshape(34-irows-orows+1,X3.shape[2]*X3.shape[1],282)\n",
    "reshaped_y3=y3.reshape(34-irows-orows+1,280*y3.shape[1])\n",
    "reshaped_X4=X4.reshape(34-irows-orows+1,X4.shape[2]*X4.shape[1],282)\n",
    "reshaped_y4=y4.reshape(34-irows-orows+1,280*y4.shape[1])\n",
    "reshaped_y1.shape,reshaped_X1.shape\n"
   ]
  },
  {
   "cell_type": "code",
   "execution_count": 42,
   "metadata": {
    "scrolled": true
   },
   "outputs": [
    {
     "name": "stdout",
     "output_type": "stream",
     "text": [
      "Dataset splitting done! for Grp-1\n",
      "Group-1 ; Model-3 \n",
      "\n",
      "Number of epochs: 12\n",
      "Number of starting times considered: 3.0\n",
      "Number of input days: 3\n",
      "Number of output days: 1\n",
      "Bin size: 1\n",
      "Window size: 3\n",
      "Number of I/O pairs available for training: 24\n",
      "Number of I/O pairs available for testing: 7\n",
      "7/7 [==============================] - 0s 200us/step\n",
      "Model Mape loss: 11539017.0\n",
      "7/7 [==============================] - 0s 189us/step\n",
      "Model MSE loss (Minimized): 0.06213479861617088\n",
      "7/7 [==============================] - 0s 484us/step\n",
      "RMSE loss: 0.24926852712721453\n"
     ]
    }
   ],
   "source": [
    "# Splitting into train and test sets\n",
    "np.random.seed(95)\n",
    "msk = np.random.rand(len(reshaped_X1)) < 0.8\n",
    "X_train = reshaped_X1[msk]\n",
    "y_train = reshaped_y1[msk]\n",
    "X_test = reshaped_X1[~msk]\n",
    "y_test = reshaped_y1[~msk]\n",
    "print(\"Dataset splitting done! for Grp-1\")\n",
    "\n",
    "#Giving the number of rows and columns in input and output\n",
    "in_rows=reshaped_X1.shape[1]\n",
    "in_cols=reshaped_X1.shape[2]\n",
    "on_cols=reshaped_y1.shape[1]\n",
    "\n",
    "# multivariate output multi-step 1d cnn example\n",
    "\n",
    "# define model\n",
    "model1 = Sequential()\n",
    "model1.add(Conv1D(filters=64, kernel_size=2, activation='relu', input_shape=(in_rows, in_cols)))\n",
    "model1.add(MaxPooling1D(pool_size=2))\n",
    "model1.add(Flatten())\n",
    "model1.add(Dense(500, activation='relu'))\n",
    "model1.add(Dense(on_cols))\n",
    "model1.compile(optimizer='adam', loss=['mse'],metrics=[\"mape\"])\n",
    "epochno=12\n",
    "\n",
    "# fit model\n",
    "history=model1.fit(X_train, y_train, epochs=epochno, verbose=0, validation_data = (X_test, y_test))\n",
    "print(\"Group-1 ; Model-3 \\n\")\n",
    "print(\"Number of epochs:\",epochno)\n",
    "print(\"Number of starting times considered:\",X_train.shape[1]/n_days_in)\n",
    "print(\"Number of input days:\",n_days_in)\n",
    "print(\"Number of output days:\",n_days_out)\n",
    "print(\"Bin size:\",Bin_size)\n",
    "print(\"Window size:\",W_size)\n",
    "print(\"Number of I/O pairs available for training:\",len(y_train))\n",
    "print(\"Number of I/O pairs available for testing:\",len(y_test))\n",
    "print(\"Model Mape loss:\",model1.evaluate(X_test,y_test)[1])\n",
    "print(\"Model MSE loss (Minimized):\",model1.evaluate(X_test,y_test)[0])\n",
    "print(\"RMSE loss:\",np.sqrt(model1.evaluate(X_test,y_test)[0]))\n",
    "\n",
    "# Demonstrate Prediction\n",
    "# x_input = array([[60, 65, 125], [70, 75, 145], [80, 85, 165]])\n",
    "# x_input = x_input.reshape((1, n_steps_in, n_features))\n",
    "# yhat = model.predict(x_input, verbose=0)\n",
    "# print(yhat)"
   ]
  },
  {
   "cell_type": "code",
   "execution_count": 43,
   "metadata": {},
   "outputs": [
    {
     "name": "stdout",
     "output_type": "stream",
     "text": [
      "Dataset splitting done! for Grp-2\n",
      "Group-2 ; Model-3 \n",
      "\n",
      "Number or epochs: 12\n",
      "Number of starting times considered: 2.0\n",
      "Number of input days: 3\n",
      "Number of output days: 1\n",
      "Bin size: 1\n",
      "Window size: 3\n",
      "Number of I/O pairs available for training: 24\n",
      "Number of I/O pairs available for testing: 7\n",
      "7/7 [==============================] - 0s 167us/step\n",
      "Model Mape loss: 6918943.5\n",
      "7/7 [==============================] - 0s 176us/step\n",
      "Model MSE loss (Minimized): 0.03409052640199661\n",
      "7/7 [==============================] - 0s 405us/step\n",
      "RMSE loss: 0.18463620013961676\n"
     ]
    }
   ],
   "source": [
    "# Splitting into train and test sets\n",
    "np.random.seed(95)\n",
    "msk = np.random.rand(len(reshaped_X2)) < 0.8\n",
    "X_train = reshaped_X2[msk]\n",
    "y_train = reshaped_y2[msk]\n",
    "X_test = reshaped_X2[~msk]\n",
    "y_test = reshaped_y2[~msk]\n",
    "print(\"Dataset splitting done! for Grp-2\")\n",
    "\n",
    "#Giving the number of rows and columns in input and output\n",
    "in_rows=reshaped_X2.shape[1]\n",
    "in_cols=reshaped_X2.shape[2]\n",
    "on_cols=reshaped_y2.shape[1]\n",
    "\n",
    "# multivariate output multi-step 1d cnn example\n",
    "\n",
    "# define model\n",
    "model2 = Sequential()\n",
    "model2.add(Conv1D(filters=64, kernel_size=2, activation='relu', input_shape=(in_rows, in_cols)))\n",
    "model2.add(MaxPooling1D(pool_size=2))\n",
    "model2.add(Flatten())\n",
    "model2.add(Dense(500, activation='relu'))\n",
    "model2.add(Dense(on_cols))\n",
    "model2.compile(optimizer='adam', loss=['mse'],metrics=[\"mape\"])\n",
    "epochno=12\n",
    "\n",
    "# fit model\n",
    "history=model2.fit(X_train, y_train, epochs=epochno, verbose=0, validation_data = (X_test, y_test))\n",
    "print(\"Group-2 ; Model-3 \\n\")\n",
    "print(\"Number or epochs:\",epochno)\n",
    "print(\"Number of starting times considered:\",X_train.shape[1]/n_days_in)\n",
    "print(\"Number of input days:\",n_days_in)\n",
    "print(\"Number of output days:\",n_days_out)\n",
    "print(\"Bin size:\",Bin_size)\n",
    "print(\"Window size:\",W_size)\n",
    "print(\"Number of I/O pairs available for training:\",len(y_train))\n",
    "print(\"Number of I/O pairs available for testing:\",len(y_test))\n",
    "print(\"Model Mape loss:\",model2.evaluate(X_test,y_test)[1])\n",
    "print(\"Model MSE loss (Minimized):\",model2.evaluate(X_test,y_test)[0])\n",
    "print(\"RMSE loss:\",np.sqrt(model2.evaluate(X_test,y_test)[0]))\n",
    "\n",
    "# Demonstrate Prediction\n",
    "# x_input = array([[60, 65, 125], [70, 75, 145], [80, 85, 165]])\n",
    "# x_input = x_input.reshape((1, n_steps_in, n_features))\n",
    "# yhat = model.predict(x_input, verbose=0)\n",
    "# print(yhat)"
   ]
  },
  {
   "cell_type": "code",
   "execution_count": 44,
   "metadata": {},
   "outputs": [
    {
     "name": "stdout",
     "output_type": "stream",
     "text": [
      "Dataset splitting done! for Grp-3\n",
      "Group-3 ; Model-3 \n",
      "\n",
      "Number or epochs: 12\n",
      "Number of starting times considered: 5.0\n",
      "Number of input days: 3\n",
      "Number of output days: 1\n",
      "Bin size: 1\n",
      "Window size: 3\n",
      "Number of I/O pairs available for training: 24\n",
      "Number of I/O pairs available for testing: 7\n",
      "7/7 [==============================] - 0s 266us/step\n",
      "Model Mape loss: 2019559.125\n",
      "7/7 [==============================] - 0s 273us/step\n",
      "Model MSE loss (Minimized): 0.05154922232031822\n",
      "7/7 [==============================] - 0s 582us/step\n",
      "RMSE loss: 0.22704453818649376\n"
     ]
    }
   ],
   "source": [
    "# Splitting into train and test sets\n",
    "np.random.seed(95)\n",
    "msk = np.random.rand(len(reshaped_X3)) < 0.8\n",
    "X_train = reshaped_X3[msk]\n",
    "y_train = reshaped_y3[msk]\n",
    "X_test = reshaped_X3[~msk]\n",
    "y_test = reshaped_y3[~msk]\n",
    "print(\"Dataset splitting done! for Grp-3\")\n",
    "\n",
    "#Giving the number of rows and columns in input and output\n",
    "in_rows=reshaped_X3.shape[1]\n",
    "in_cols=reshaped_X3.shape[2]\n",
    "on_cols=reshaped_y3.shape[1]\n",
    "\n",
    "# multivariate output multi-step 1d cnn example\n",
    "\n",
    "# define model\n",
    "model3 = Sequential()\n",
    "model3.add(Conv1D(filters=64, kernel_size=2, activation='relu', input_shape=(in_rows, in_cols)))\n",
    "model3.add(MaxPooling1D(pool_size=2))\n",
    "model3.add(Flatten())\n",
    "model3.add(Dense(500, activation='relu'))\n",
    "model3.add(Dense(on_cols))\n",
    "model3.compile(optimizer='adam', loss=['mse'],metrics=[\"mape\"])\n",
    "epochno=12\n",
    "\n",
    "# fit model\n",
    "history=model3.fit(X_train, y_train, epochs=epochno, verbose=0, validation_data = (X_test, y_test))\n",
    "print(\"Group-3 ; Model-3 \\n\")\n",
    "print(\"Number or epochs:\",epochno)\n",
    "print(\"Number of starting times considered:\",X_train.shape[1]/n_days_in)\n",
    "print(\"Number of input days:\",n_days_in)\n",
    "print(\"Number of output days:\",n_days_out)\n",
    "print(\"Bin size:\",Bin_size)\n",
    "print(\"Window size:\",W_size)\n",
    "print(\"Number of I/O pairs available for training:\",len(y_train))\n",
    "print(\"Number of I/O pairs available for testing:\",len(y_test))\n",
    "print(\"Model Mape loss:\",model3.evaluate(X_test,y_test)[1])\n",
    "print(\"Model MSE loss (Minimized):\",model3.evaluate(X_test,y_test)[0])\n",
    "print(\"RMSE loss:\",np.sqrt(model3.evaluate(X_test,y_test)[0]))\n",
    "\n",
    "# Demonstrate Prediction\n",
    "# x_input = array([[60, 65, 125], [70, 75, 145], [80, 85, 165]])\n",
    "# x_input = x_input.reshape((1, n_steps_in, n_features))\n",
    "# yhat = model.predict(x_input, verbose=0)\n",
    "# print(yhat)"
   ]
  },
  {
   "cell_type": "code",
   "execution_count": 45,
   "metadata": {},
   "outputs": [
    {
     "name": "stdout",
     "output_type": "stream",
     "text": [
      "Dataset splitting done! for Grp-4\n",
      "24 282 2240\n",
      "Group-4 ; Model-3 \n",
      "\n",
      "Number or epochs: 12\n",
      "Number of starting times considered: 8.0\n",
      "Number of input days: 3\n",
      "Number of output days: 1\n",
      "Bin size: 1\n",
      "Window size: 3\n",
      "Number of I/O pairs available for training: 24\n",
      "Number of I/O pairs available for testing: 7\n",
      "7/7 [==============================] - 0s 310us/step\n",
      "Model Mape loss: 2374022.0\n",
      "7/7 [==============================] - 0s 891us/step\n",
      "Model MSE loss (Minimized): 0.04646475240588188\n",
      "7/7 [==============================] - 0s 403us/step\n",
      "RMSE loss: 0.2155568426329396\n"
     ]
    }
   ],
   "source": [
    "# Splitting into train and test sets\n",
    "np.random.seed(95)\n",
    "msk = np.random.rand(len(reshaped_X4)) < 0.8\n",
    "X_train = reshaped_X4[msk]\n",
    "y_train = reshaped_y4[msk]\n",
    "X_test = reshaped_X4[~msk]\n",
    "y_test = reshaped_y4[~msk]\n",
    "print(\"Dataset splitting done! for Grp-4\")\n",
    "\n",
    "#Giving the number of rows and columns in input and output\n",
    "in_rows=reshaped_X4.shape[1]\n",
    "in_cols=reshaped_X4.shape[2]\n",
    "on_cols=reshaped_y4.shape[1]\n",
    "\n",
    "print(in_rows,in_cols,on_cols)\n",
    "# multivariate output multi-step 1d cnn example\n",
    "\n",
    "# define model\n",
    "model4 = Sequential()\n",
    "model4.add(Conv1D(filters=64, kernel_size=2, activation='relu', input_shape=(in_rows, in_cols)))\n",
    "model4.add(MaxPooling1D(pool_size=2))\n",
    "model4.add(Flatten())\n",
    "model4.add(Dense(500, activation='relu'))\n",
    "model4.add(Dense(on_cols))\n",
    "model4.compile(optimizer='adam', loss=['mse'],metrics=[\"mape\"])\n",
    "epochno=12\n",
    "\n",
    "# fit model\n",
    "history=model4.fit(X_train, y_train, epochs=epochno, verbose=0, validation_data = (X_test, y_test))\n",
    "print(\"Group-4 ; Model-3 \\n\")\n",
    "print(\"Number or epochs:\",epochno)\n",
    "print(\"Number of starting times considered:\",X_train.shape[1]/n_days_in)\n",
    "print(\"Number of input days:\",n_days_in)\n",
    "print(\"Number of output days:\",n_days_out)\n",
    "print(\"Bin size:\",Bin_size)\n",
    "print(\"Window size:\",W_size)\n",
    "print(\"Number of I/O pairs available for training:\",len(y_train))\n",
    "print(\"Number of I/O pairs available for testing:\",len(y_test))\n",
    "print(\"Model Mape loss:\",model4.evaluate(X_test,y_test)[1])\n",
    "print(\"Model MSE loss (Minimized):\",model4.evaluate(X_test,y_test)[0])\n",
    "print(\"RMSE loss:\",np.sqrt(model4.evaluate(X_test,y_test)[0]))\n",
    "\n",
    "# Demonstrate Prediction\n",
    "# x_input = array([[60, 65, 125], [70, 75, 145], [80, 85, 165]])\n",
    "# x_input = x_input.reshape((1, n_steps_in, n_features))\n",
    "# yhat = model.predict(x_input, verbose=0)\n",
    "# print(yhat)"
   ]
  },
  {
   "cell_type": "code",
   "execution_count": 46,
   "metadata": {
    "scrolled": true
   },
   "outputs": [
    {
     "name": "stdout",
     "output_type": "stream",
     "text": [
      "dict_keys(['val_loss', 'val_mean_absolute_percentage_error', 'loss', 'mean_absolute_percentage_error'])\n"
     ]
    },
    {
     "data": {
      "image/png": "[encoded data removed]",
      "text/plain": [
       "<Figure size 432x288 with 1 Axes>"
      ]
     },
     "metadata": {},
     "output_type": "display_data"
    }
   ],
   "source": [
    "import matplotlib.pyplot as plt\n",
    "import numpy\n",
    "%matplotlib inline\n",
    "\n",
    "print(history.history.keys())\n",
    "# summarize history for loss\n",
    "plt.plot(history.history['loss'])\n",
    "plt.plot(history.history['val_loss'])\n",
    "plt.title('Model Loss (MSE)')\n",
    "plt.ylabel('Loss')\n",
    "plt.xlabel('Epoch')\n",
    "plt.legend(['Train', 'Test'], loc='upper right')\n",
    "#axes = plt.gca()\n",
    "#axes.set_ylim([7500,0.2*100000])\n",
    "#axes.set_xlim([1500,3000])\n",
    "plt.show()"
   ]
  },
  {
   "cell_type": "code",
   "execution_count": 47,
   "metadata": {},
   "outputs": [],
   "source": [
    "#Scaling the IO values and then determining MSE and shit\n",
    "import pandas as pd\n",
    "\n",
    "# Selecting data min-max data\n",
    "Minmax = pd.read_csv('/home/pennyworth/Documents/Bus/Data/Minmax.csv')\n",
    "\n",
    "#Functions to calculate error\n",
    "from sklearn.metrics import mean_squared_error\n",
    "import numpy as np\n",
    "\n",
    "def mean_absolute_percentage_error(y_true, y_pred): \n",
    "    y_true, y_pred = np.array(y_true), np.array(y_pred)\n",
    "    return np.mean(np.abs((y_true - y_pred) / y_true)) * 100\n",
    "\n"
   ]
  },
  {
   "cell_type": "code",
   "execution_count": 48,
   "metadata": {},
   "outputs": [
    {
     "data": {
      "text/html": [
       "<div>\n",
       "<style scoped>\n",
       "    .dataframe tbody tr th:only-of-type {\n",
       "        vertical-align: middle;\n",
       "    }\n",
       "\n",
       "    .dataframe tbody tr th {\n",
       "        vertical-align: top;\n",
       "    }\n",
       "\n",
       "    .dataframe thead th {\n",
       "        text-align: right;\n",
       "    }\n",
       "</style>\n",
       "<table border=\"1\" class=\"dataframe\">\n",
       "  <thead>\n",
       "    <tr style=\"text-align: right;\">\n",
       "      <th></th>\n",
       "      <th>V1</th>\n",
       "      <th>V2</th>\n",
       "      <th>V3</th>\n",
       "      <th>V4</th>\n",
       "      <th>V5</th>\n",
       "      <th>V6</th>\n",
       "      <th>V7</th>\n",
       "      <th>V8</th>\n",
       "      <th>V9</th>\n",
       "      <th>V10</th>\n",
       "      <th>...</th>\n",
       "      <th>V272</th>\n",
       "      <th>V273</th>\n",
       "      <th>V274</th>\n",
       "      <th>V275</th>\n",
       "      <th>V276</th>\n",
       "      <th>V277</th>\n",
       "      <th>V278</th>\n",
       "      <th>V279</th>\n",
       "      <th>V280</th>\n",
       "      <th>V281</th>\n",
       "    </tr>\n",
       "  </thead>\n",
       "  <tbody>\n",
       "    <tr>\n",
       "      <th>0</th>\n",
       "      <td>144.393008</td>\n",
       "      <td>115.714823</td>\n",
       "      <td>42.493365</td>\n",
       "      <td>24.211194</td>\n",
       "      <td>20.792030</td>\n",
       "      <td>31.301400</td>\n",
       "      <td>15.261249</td>\n",
       "      <td>11.463829</td>\n",
       "      <td>10.438957</td>\n",
       "      <td>10.160103</td>\n",
       "      <td>...</td>\n",
       "      <td>14.777967</td>\n",
       "      <td>13.615912</td>\n",
       "      <td>14.194309</td>\n",
       "      <td>13.784148</td>\n",
       "      <td>15.715016</td>\n",
       "      <td>15.611628</td>\n",
       "      <td>16.334124</td>\n",
       "      <td>23.636502</td>\n",
       "      <td>32.203997</td>\n",
       "      <td>NaN</td>\n",
       "    </tr>\n",
       "    <tr>\n",
       "      <th>1</th>\n",
       "      <td>21.743496</td>\n",
       "      <td>27.824041</td>\n",
       "      <td>12.590967</td>\n",
       "      <td>10.181975</td>\n",
       "      <td>9.777823</td>\n",
       "      <td>10.144633</td>\n",
       "      <td>8.673208</td>\n",
       "      <td>7.440940</td>\n",
       "      <td>6.730975</td>\n",
       "      <td>6.393548</td>\n",
       "      <td>...</td>\n",
       "      <td>6.273787</td>\n",
       "      <td>6.223952</td>\n",
       "      <td>6.223956</td>\n",
       "      <td>6.212245</td>\n",
       "      <td>6.268387</td>\n",
       "      <td>6.356335</td>\n",
       "      <td>6.478718</td>\n",
       "      <td>6.811262</td>\n",
       "      <td>7.332060</td>\n",
       "      <td>NaN</td>\n",
       "    </tr>\n",
       "  </tbody>\n",
       "</table>\n",
       "<p>2 rows × 281 columns</p>\n",
       "</div>"
      ],
      "text/plain": [
       "           V1          V2         V3         V4         V5         V6  \\\n",
       "0  144.393008  115.714823  42.493365  24.211194  20.792030  31.301400   \n",
       "1   21.743496   27.824041  12.590967  10.181975   9.777823  10.144633   \n",
       "\n",
       "          V7         V8         V9        V10  ...       V272       V273  \\\n",
       "0  15.261249  11.463829  10.438957  10.160103  ...  14.777967  13.615912   \n",
       "1   8.673208   7.440940   6.730975   6.393548  ...   6.273787   6.223952   \n",
       "\n",
       "        V274       V275       V276       V277       V278       V279  \\\n",
       "0  14.194309  13.784148  15.715016  15.611628  16.334124  23.636502   \n",
       "1   6.223956   6.212245   6.268387   6.356335   6.478718   6.811262   \n",
       "\n",
       "        V280  V281  \n",
       "0  32.203997   NaN  \n",
       "1   7.332060   NaN  \n",
       "\n",
       "[2 rows x 281 columns]"
      ]
     },
     "execution_count": 48,
     "metadata": {},
     "output_type": "execute_result"
    }
   ],
   "source": [
    "Minmax"
   ]
  },
  {
   "cell_type": "code",
   "execution_count": 73,
   "metadata": {},
   "outputs": [
    {
     "name": "stdout",
     "output_type": "stream",
     "text": [
      "3\n",
      "(7, 9, 282)\n",
      "X Shape (7, 9, 282)\n",
      "Y Shape (7, 840)\n",
      "MSE: 37.896940485967306\n",
      "RMSE: 6.074225613146772\n",
      "MAPE: 14.510152783427555\n",
      "2\n",
      "(7, 6, 282)\n",
      "X Shape (7, 6, 282)\n",
      "Y Shape (7, 560)\n",
      "MSE: 27.097163685958908\n",
      "RMSE: 5.170881338450975\n",
      "MAPE: 10.430654506468343\n",
      "5\n",
      "(7, 15, 282)\n",
      "X Shape (7, 15, 282)\n",
      "Y Shape (7, 1400)\n",
      "MSE: 58.84365759924752\n",
      "RMSE: 7.602614873378033\n",
      "MAPE: 15.47993818893387\n",
      "8\n",
      "(7, 24, 282)\n",
      "X Shape (7, 24, 282)\n",
      "Y Shape (7, 2240)\n",
      "MSE: 51.358621748179736\n",
      "RMSE: 7.128894437816726\n",
      "MAPE: 14.401901289580513\n"
     ]
    }
   ],
   "source": [
    "import matplotlib.pyplot as plt\n",
    "import numpy\n",
    "np.random.seed(95)\n",
    "msk = np.random.rand(len(reshaped_X4)) < 0.8\n",
    "X_test = reshaped_X1[~msk]\n",
    "y_test = reshaped_y1[~msk]\n",
    "\n",
    "#Function to denormalize output \n",
    "def denormalize_output(y_list):\n",
    "    #Correcting with scaling pdt and act \n",
    "    #print(\"length of y-list:\",len(y_list))\n",
    "    y_cor=[i for i in range(len(y_list))]\n",
    "    for tt_no in range(len(y_list)):\n",
    "        segno=tt_no%280\n",
    "        mn=Minmax.iat[0,segno]\n",
    "        mx=Minmax.iat[1,segno]\n",
    "        y_cor[tt_no]=(y_list[tt_no]*(mx - mn))+mn\n",
    "    return y_cor\n",
    "\n",
    "def get_accuracy(X_val,y_val,model):\n",
    "    print(\"X Shape\",X_val.shape)\n",
    "    print(\"Y Shape\",y_val.shape)\n",
    "    MSE_list=[]\n",
    "    RMSE_list=[]\n",
    "    MAPE_list=[]\n",
    "    for io in range(len(X_val)):\n",
    "        #Calculating the predicted and actual value for the ioth sample\n",
    "        x_input = X_val[io]\n",
    "        x_input = x_input.reshape((1, x_input.shape[0], x_input.shape[1]))\n",
    "        yhat = model.predict(x_input, verbose=0)\n",
    "        y_output = y_val[io]\n",
    "        pdt=yhat[0]\n",
    "        act=y_output\n",
    "        pdt_cor=denormalize_output(pdt)\n",
    "        act_cor=denormalize_output(act)\n",
    "        if len(pdt_cor)!=len(act_cor):\n",
    "            print(\"ERROR\")\n",
    "            print(\"Predicted length:\",len(pdt_cor))\n",
    "            print(\"Actual length:\",len(act_cor))            \n",
    "        MSE_list.append(mean_squared_error(act_cor,pdt_cor))\n",
    "        RMSE_list.append(np.sqrt(mean_squared_error(act_cor,pdt_cor)))\n",
    "        MAPE_list.append(mean_absolute_percentage_error(act_cor,pdt_cor))\n",
    "    #Taking the mean of error values throughout the test set\n",
    "    mean_MSE=sum(MSE_list)/len(MSE_list)\n",
    "    mean_RMSE=sum(RMSE_list)/len(RMSE_list)\n",
    "    mean_MAPE=sum(MAPE_list)/len(MAPE_list)\n",
    "    print(\"MSE:\",sum(MSE_list)/len(MSE_list))\n",
    "    print(\"RMSE:\",sum(RMSE_list)/len(RMSE_list))\n",
    "    print(\"MAPE:\",sum(MAPE_list)/len(MAPE_list))\n",
    "    return mean_MSE,mean_RMSE,mean_MAPE\n",
    "trained_models=[model1,model2,model3,model4]\n",
    "X_test_list=[reshaped_X1[~msk],reshaped_X2[~msk],reshaped_X3[~msk],reshaped_X4[~msk]]\n",
    "y_test_list=[reshaped_y1[~msk],reshaped_y2[~msk],reshaped_y3[~msk],reshaped_y4[~msk]]\n",
    "#for i in range(4):\n",
    "X_test = reshaped_X4[~msk]\n",
    "y_test = reshaped_y4[~msk]\n",
    "\n",
    "\n",
    "#get_accuracy(X_test,y_test,model1)\n",
    "#Average accuracy along the models:\n",
    "MSE_models=[[] for i in range(4)]\n",
    "RMSE_models=[[] for i in range(4)]\n",
    "MAPE_models=[[] for i in range(4)]\n",
    "for i in range(4):\n",
    "    print(len(st2consider[i]))\n",
    "    print(X_test_list[i].shape)\n",
    "    MSE_models[i],RMSE_models[i],MAPE_models[i]=get_accuracy(X_test_list[i],y_test_list[i],trained_models[i])"
   ]
  },
  {
   "cell_type": "code",
   "execution_count": 80,
   "metadata": {},
   "outputs": [
    {
     "name": "stdout",
     "output_type": "stream",
     "text": [
      "Model - 4\n",
      "Average MAPE over all the Models: 13.705661692102572\n",
      "Average MSE over all the Models: 43.79909587983837\n",
      "Average RMSE over all the Models 6.494154065698127\n"
     ]
    }
   ],
   "source": [
    "print(\"Model - 4\")\n",
    "print(\"Average MAPE over all the Models:\",sum(MAPE_models)/len(MAPE_models))\n",
    "print(\"Average MSE over all the Models:\",sum(MSE_models)/len(MSE_models))\n",
    "print(\"Average RMSE over all the Models\",sum(RMSE_models)/len(RMSE_models))"
   ]
  },
  {
   "cell_type": "code",
   "execution_count": 27,
   "metadata": {},
   "outputs": [
    {
     "name": "stdout",
     "output_type": "stream",
     "text": [
      "pdt length: 2240\n",
      "act length: 2240\n"
     ]
    },
    {
     "ename": "NameError",
     "evalue": "name 'act_cor' is not defined",
     "output_type": "error",
     "traceback": [
      "\u001b[0;31m---------------------------------------------------------------------------\u001b[0m",
      "\u001b[0;31mNameError\u001b[0m                                 Traceback (most recent call last)",
      "\u001b[0;32m<ipython-input-27-b985d0f35740>\u001b[0m in \u001b[0;36m<module>\u001b[0;34m()\u001b[0m\n\u001b[1;32m     11\u001b[0m \u001b[0;31m#Plot the data:\u001b[0m\u001b[0;34m\u001b[0m\u001b[0;34m\u001b[0m\u001b[0;34m\u001b[0m\u001b[0m\n\u001b[1;32m     12\u001b[0m \u001b[0mx\u001b[0m\u001b[0;34m=\u001b[0m\u001b[0mlist\u001b[0m\u001b[0;34m(\u001b[0m\u001b[0mrange\u001b[0m\u001b[0;34m(\u001b[0m\u001b[0;36m1\u001b[0m\u001b[0;34m,\u001b[0m\u001b[0;36m281\u001b[0m\u001b[0;34m)\u001b[0m\u001b[0;34m)\u001b[0m\u001b[0;34m\u001b[0m\u001b[0;34m\u001b[0m\u001b[0m\n\u001b[0;32m---> 13\u001b[0;31m \u001b[0mplt\u001b[0m\u001b[0;34m.\u001b[0m\u001b[0mplot\u001b[0m\u001b[0;34m(\u001b[0m\u001b[0mx\u001b[0m\u001b[0;34m,\u001b[0m \u001b[0mact_cor\u001b[0m\u001b[0;34m[\u001b[0m\u001b[0;36m0\u001b[0m\u001b[0;34m:\u001b[0m\u001b[0;36m280\u001b[0m\u001b[0;34m]\u001b[0m\u001b[0;34m,\u001b[0m \u001b[0mcolor\u001b[0m\u001b[0;34m=\u001b[0m\u001b[0;34m'orange'\u001b[0m\u001b[0;34m,\u001b[0m\u001b[0mlabel\u001b[0m\u001b[0;34m=\u001b[0m\u001b[0;34m\"Actual\"\u001b[0m\u001b[0;34m)\u001b[0m\u001b[0;34m\u001b[0m\u001b[0;34m\u001b[0m\u001b[0m\n\u001b[0m\u001b[1;32m     14\u001b[0m \u001b[0mplt\u001b[0m\u001b[0;34m.\u001b[0m\u001b[0mplot\u001b[0m\u001b[0;34m(\u001b[0m\u001b[0mx\u001b[0m\u001b[0;34m,\u001b[0m \u001b[0mpdt_cor\u001b[0m\u001b[0;34m[\u001b[0m\u001b[0;36m0\u001b[0m\u001b[0;34m:\u001b[0m\u001b[0;36m280\u001b[0m\u001b[0;34m]\u001b[0m\u001b[0;34m,\u001b[0m \u001b[0mcolor\u001b[0m\u001b[0;34m=\u001b[0m\u001b[0;34m'g'\u001b[0m\u001b[0;34m,\u001b[0m\u001b[0mlabel\u001b[0m\u001b[0;34m=\u001b[0m\u001b[0;34m\"Predicted\"\u001b[0m\u001b[0;34m)\u001b[0m\u001b[0;34m\u001b[0m\u001b[0;34m\u001b[0m\u001b[0m\n\u001b[1;32m     15\u001b[0m \u001b[0mplt\u001b[0m\u001b[0;34m.\u001b[0m\u001b[0mxlabel\u001b[0m\u001b[0;34m(\u001b[0m\u001b[0;34m'Segments'\u001b[0m\u001b[0;34m)\u001b[0m\u001b[0;34m\u001b[0m\u001b[0;34m\u001b[0m\u001b[0m\n",
      "\u001b[0;31mNameError\u001b[0m: name 'act_cor' is not defined"
     ]
    }
   ],
   "source": [
    "# plot travel time actual vs predicted\n",
    "# Not complete ( Will not work!)\n",
    "x_input = X_test[1]\n",
    "x_input = x_input.reshape((1, x_input.shape[0], x_input.shape[1]))\n",
    "yhat = model4.predict(x_input, verbose=0)\n",
    "y_output = y_test[1]\n",
    "pdt=yhat[0]\n",
    "act=y_output\n",
    "\n",
    "print(\"pdt length:\",len(pdt))\n",
    "print(\"act length:\",len(act))\n",
    "#Plot the data: \n",
    "x=list(range(1,281))\n",
    "plt.plot(x, act_cor[0:280], color='orange',label=\"Actual\")\n",
    "plt.plot(x, pdt_cor[0:280], color='g',label=\"Predicted\")\n",
    "plt.xlabel('Segments')\n",
    "plt.ylabel('Travel time (s)')\n",
    "plt.title('Predicted vs Actual')\n",
    "axes = plt.gca()\n",
    "#axes.set_ylim([0,180])\n",
    "axes.set_xlim([-2,280+10])\n",
    "leg = plt.legend();\n",
    "plt.show()"
   ]
  },
  {
   "cell_type": "code",
   "execution_count": null,
   "metadata": {},
   "outputs": [],
   "source": []
  }
 ],
 "metadata": {
  "kernelspec": {
   "display_name": "Python 3",
   "language": "python",
   "name": "python3"
  },
  "language_info": {
   "codemirror_mode": {
    "name": "ipython",
    "version": 3
   },
   "file_extension": ".py",
   "mimetype": "text/x-python",
   "name": "python",
   "nbconvert_exporter": "python",
   "pygments_lexer": "ipython3",
   "version": "3.6.8"
  }
 },
 "nbformat": 4,
 "nbformat_minor": 2
}
