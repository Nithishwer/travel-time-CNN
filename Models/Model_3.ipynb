{
 "cells": [
  {
   "cell_type": "code",
   "execution_count": 66,
   "metadata": {},
   "outputs": [],
   "source": [
    "#https://machinelearningmastery.com/how-to-develop-convolutional-neural-network-models-for-time-series-forecasting/"
   ]
  },
  {
   "cell_type": "code",
   "execution_count": 101,
   "metadata": {},
   "outputs": [],
   "source": [
    "#Configuring the IO structure:\n",
    "W_size=3\n",
    "st=4\n",
    "et=22\n",
    "Bin_size=1\n",
    "prediction_size=1\n",
    "n_features=282\n",
    "irows=int(W_size/Bin_size)\n",
    "icols=n_features\n",
    "orows=int(prediction_size/Bin_size)\n",
    "ocols=147\n",
    "nipd=int((et-st)/Bin_size)-irows-orows+1"
   ]
  },
  {
   "cell_type": "code",
   "execution_count": 102,
   "metadata": {},
   "outputs": [
    {
     "name": "stderr",
     "output_type": "stream",
     "text": [
      "/home/pennyworth/.local/lib/python3.6/site-packages/ipykernel_launcher.py:11: FutureWarning: Method .as_matrix will be removed in a future version. Use .values instead.\n",
      "  # This is added back by InteractiveShellApp.init_path()\n"
     ]
    }
   ],
   "source": [
    "# Data Preparation\n",
    "import pandas as pd\n",
    "\n",
    "# Selecting data based on bin size\n",
    "if Bin_size==0.5:\n",
    "    df2 = pd.read_csv('/home/pennyworth/Documents/Bus/Data/from_R_19B_30min_n&f.csv',header =None)\n",
    "if Bin_size==1:\n",
    "    df2 = pd.read_csv('/home/pennyworth/Documents/Bus/Data/from_R_19B_1Hr_n&f.csv',header =None)\n",
    "    \n",
    "#Converting dataframe into matrix    \n",
    "dataset=df2.as_matrix()"
   ]
  },
  {
   "cell_type": "code",
   "execution_count": 103,
   "metadata": {},
   "outputs": [
    {
     "name": "stdout",
     "output_type": "stream",
     "text": [
      "Import successful!\n"
     ]
    }
   ],
   "source": [
    "#Checking if the import is good to go:\n",
    "if len(dataset)-1==34*18/Bin_size:\n",
    "    print(\"Import successful!\")"
   ]
  },
  {
   "cell_type": "code",
   "execution_count": 104,
   "metadata": {},
   "outputs": [
    {
     "name": "stdout",
     "output_type": "stream",
     "text": [
      "3 1\n"
     ]
    }
   ],
   "source": [
    "print(irows,orows)"
   ]
  },
  {
   "cell_type": "code",
   "execution_count": 109,
   "metadata": {},
   "outputs": [
    {
     "name": "stdout",
     "output_type": "stream",
     "text": [
      "[0.         0.01865434 0.10891486]\n",
      "[0.13697164 0.23473744 0.22698761]\n",
      "[0.12185569 0.05441312 0.03356269]\n"
     ]
    }
   ],
   "source": [
    "# Dataset looks good here\n",
    "def giveme_dataset(rows,cols):\n",
    "    for i in range(1,rows+1):\n",
    "        print(dataset[i][:cols])\n",
    "giveme_dataset(3,3)"
   ]
  },
  {
   "cell_type": "code",
   "execution_count": 110,
   "metadata": {},
   "outputs": [
    {
     "name": "stdout",
     "output_type": "stream",
     "text": [
      "Unit Subraction from cols2consider complete! \n",
      "\n",
      "Good to go! Cols2consider seems good..\n"
     ]
    }
   ],
   "source": [
    "#Fixing number of clusters:\n",
    "nclust=4\n",
    "\n",
    "#Selecting correlated columns based on cluster number\n",
    "if nclust==5:\n",
    "    df_clust = pd.read_csv('/home/pennyworth/Documents/Bus/Data/Tree_5branch.csv',header =None)\n",
    "if nclust==4:\n",
    "    df_clust = pd.read_csv('/home/pennyworth/Documents/Bus/Data/Tree_4branch.csv',header =None)\n",
    "if nclust==3:\n",
    "    df_clust = pd.read_csv('/home/pennyworth/Documents/Bus/Data/Tree_3branch.csv',header =None)    \n",
    "if nclust==2:\n",
    "    df_clust = pd.read_csv('/home/pennyworth/Documents/Bus/Data/Tree_2branch.csv',header =None)\n",
    "index_ps=df_clust[1]\n",
    "\n",
    "#Creating a list of columns to consider for each model\n",
    "cols2consider=[]\n",
    "for i in range(nclust):\n",
    "    cols2consider.append([])\n",
    "\n",
    "#Appending values to cols2consider\n",
    "for i in range(1,len(index_ps)):\n",
    "    bloc=int(index_ps[i])\n",
    "    cols2consider[bloc-1].append(i)\n",
    "    \n",
    "# Note: Here, in elements of cols2consider, segments start from 1 and go till 280.\n",
    "# but while indexing in dataset, it should start from 0 therefore we subtract 1 \n",
    "# from elements in cols2consider\n",
    "c2c_copy=cols2consider\n",
    "cols2consider=[]\n",
    "for ar in c2c_copy:\n",
    "    cols2consider.append([k-1 for k in ar])\n",
    "\n",
    "if cols2consider[0]==[k-1 for k in c2c_copy[0]]:\n",
    "    print(\"Unit Subraction from cols2consider complete! \\n\")\n",
    "else:\n",
    "    print(\"ERROR: Something wrong with subraction! \\n\")\n",
    "\n",
    "#Check if everything is fine\n",
    "index_l=index_ps.tolist()      # converting pandas series to list\n",
    "if index_l.count('1')==len(cols2consider[0]) and (len(cols2consider[nclust-1])==index_l.count(str(nclust))):\n",
    "    print(\"Good to go! Cols2consider seems good..\")"
   ]
  },
  {
   "cell_type": "code",
   "execution_count": 111,
   "metadata": {},
   "outputs": [
    {
     "data": {
      "text/plain": [
       "280"
      ]
     },
     "execution_count": 111,
     "metadata": {},
     "output_type": "execute_result"
    }
   ],
   "source": [
    "len(cols2consider[0])+len(cols2consider[1])+len(cols2consider[2])+len(cols2consider[3])"
   ]
  },
  {
   "cell_type": "code",
   "execution_count": 112,
   "metadata": {},
   "outputs": [],
   "source": [
    "# Function to check a X,y pair and look at the lengths:\n",
    "def verify_io(Xi,yi,info,i):\n",
    "    if info==True:\n",
    "        print(\"Number of X matrices:\",len(Xi))\n",
    "        print(\"Number of y matrices:\",len(yi))\n",
    "        print(\"Number i/o pairs expected:\",(rows_pday-irows-orows+1)*34)\n",
    "    elif(len(Xi)==len(yi)==(rows_pday-irows-orows+1)*34):\n",
    "        print(\"Number of i/o pairs is as expected!\")\n",
    "    else:\n",
    "        print(\"ERROR: Number of i/o pairs is not as expected!\")\n",
    "    if info==True:\n",
    "        print(\"Number of features in each X matrix:\",len(Xi[0][1]))\n",
    "        print(\"Number of features in each y matrix:\",len(yi[0]))\n",
    "        print(\"Number of features expected:\",len(cols2consider[i])+2,\"for X\")\n",
    "    elif(len(Xi[0][1])-2==len(yi[0])==len(cols2consider[i])):\n",
    "        print(\"Number of features is as expected!\")\n",
    "    else:\n",
    "        print(\"ERROR: Number of features is not as expected!\")"
   ]
  },
  {
   "cell_type": "code",
   "execution_count": 139,
   "metadata": {
    "scrolled": true
   },
   "outputs": [],
   "source": [
    "# multivariate multi-step data preparation\n",
    "import numpy as np\n",
    "from numpy import array\n",
    "from numpy import hstack\n",
    "from keras.models import Sequential\n",
    "from keras.layers import LSTM\n",
    "from keras.layers import Dense\n",
    "from keras.layers import RepeatVector\n",
    "from keras.layers import TimeDistributed\n",
    "\n",
    "# Create a list of X and y to put in X and y for different groups.\n",
    "yl=[]\n",
    "for i in range(nclust):\n",
    "    yl.append([])\n",
    "Xl=[]\n",
    "for i in range(nclust):\n",
    "    Xl.append([])\n",
    "\n",
    "#Split sequences according to group number given:\n",
    "def split_sequences_by_grp(sequences, n_steps_in, n_steps_out,grp_no): # Grp no should start from 0\n",
    "    for i in range(len(sequences)):\n",
    "        # Find the end of this pattern\n",
    "        end_ix = i + n_steps_in\n",
    "        out_end_ix = end_ix + n_steps_out\n",
    "        # Check if we are beyond the dataset\n",
    "        if out_end_ix > len(sequences):\n",
    "            break\n",
    "        # Select columns depending on grouping and adding Weekday and Hour data\n",
    "        ysel_col=[ji for ji in cols2consider[grp_no]]\n",
    "        Xsel_col=[ja for ja in cols2consider[grp_no]]\n",
    "        Xsel_col.append(280)\n",
    "        Xsel_col.append(281)\n",
    "        #print(\"Xsel_col=\",Xsel_col)\n",
    "        #print(\"ysel_col=\",ysel_col)\n",
    "        # Gather input and output parts of the pattern\n",
    "        seq_x, seq_y = sequences[i:end_ix,Xsel_col], sequences[end_ix:out_end_ix,ysel_col][0]\n",
    "        #print(\"Seq_x\",seq_x)\n",
    "        #print(\"Seq_y\",seq_y)\n",
    "        Xl[grp_no].append(seq_x)\n",
    "        yl[grp_no].append(seq_y)\n",
    "    if len(seq_x[0])!= len(seq_y)+2:\n",
    "        print(\"ERROR: column selection wrong!\")\n",
    "    return None\n",
    "\n",
    "n_steps_in, n_steps_out = int(irows), int(orows)\n",
    "rows_pday=int((et-st)/Bin_size)\n",
    "\n",
    "# Convert into input/output\n",
    "# Need to change to 34 or 35 or whatever when nrows in dataset change\n",
    "#i=1\n",
    "for i in range(1,35):\n",
    "    todays_df=dataset[(i-1)*rows_pday+1:i*rows_pday+1]\n",
    "    for j in range(nclust):\n",
    "         #print(\"\\n\\nFor group:\",j)\n",
    "# k=np.asarray([i for i in range(1,100*20+1)])\n",
    "# k1=k.reshape(20,100)\n",
    "        split_sequences_by_grp(todays_df, n_steps_in, n_steps_out,j)\n"
   ]
  },
  {
   "cell_type": "code",
   "execution_count": 147,
   "metadata": {},
   "outputs": [
    {
     "data": {
      "text/plain": [
       "array([0.51484876, 0.38869066, 0.26400687, 0.15547151, 0.37874471,\n",
       "       0.22215605, 0.28416143, 0.55939605, 0.63842087, 0.56784209,\n",
       "       0.39452182, 0.25072114, 0.27840254, 0.30507958, 0.29781677,\n",
       "       0.55703314, 0.39553329, 0.46972595, 0.62880497, 0.26116789,\n",
       "       0.46120352, 0.3553907 , 0.23528543, 0.48358584, 0.35772133,\n",
       "       0.5375267 , 0.42815704, 0.51061134, 0.46233389, 0.545437  ,\n",
       "       0.48670889, 0.56373214, 0.38952487, 0.53994075, 0.27584792,\n",
       "       0.43435522, 0.23350417, 0.46261133, 0.29118934, 0.40812769,\n",
       "       0.43579708, 0.49699324, 0.60511491, 0.49409514, 0.38815845,\n",
       "       0.37068872, 0.0717713 , 0.12283145, 0.57864332, 0.25144934,\n",
       "       0.37666975, 0.28090641, 0.11572088, 0.30940143, 0.07872083,\n",
       "       0.34727047, 0.3551827 , 0.26870468, 0.47488975, 0.25565278,\n",
       "       0.47368468, 0.0407128 , 0.06394164, 0.41618481, 0.58317546,\n",
       "       0.33802439, 0.29600153, 0.42909754])"
      ]
     },
     "execution_count": 147,
     "metadata": {},
     "output_type": "execute_result"
    }
   ],
   "source": [
    "#This\n",
    "yl[0][2]"
   ]
  },
  {
   "cell_type": "code",
   "execution_count": 142,
   "metadata": {},
   "outputs": [
    {
     "name": "stdout",
     "output_type": "stream",
     "text": [
      "Number of X matrices: 510\n",
      "Number of y matrices: 510\n",
      "Number i/o pairs expected: 510\n",
      "Number of features in each X matrix: 70\n",
      "Number of features in each y matrix: 68\n",
      "Number of features expected: 70 for X\n",
      "Number of i/o pairs is as expected!\n",
      "Number of features is as expected!\n",
      "Number of i/o pairs is as expected!\n",
      "Number of features is as expected!\n",
      "Number of i/o pairs is as expected!\n",
      "Number of features is as expected!\n"
     ]
    }
   ],
   "source": [
    "#Check if the matrix are created properly:\n",
    "verify_io(Xl[0],yl[0],True,0)\n",
    "verify_io(Xl[1],yl[1],False,1)\n",
    "verify_io(Xl[2],yl[2],False,2)\n",
    "verify_io(Xl[3],yl[3],False,3)"
   ]
  },
  {
   "cell_type": "code",
   "execution_count": 148,
   "metadata": {},
   "outputs": [
    {
     "name": "stdout",
     "output_type": "stream",
     "text": [
      "[0.06791322 0.33685298 0.34324812]\n",
      "[0.35811766 0.52902932 0.42222478]\n",
      "[0.51484876 0.38869066 0.26400687]\n",
      "[0.25059284 0.333912   0.2502424 ]\n"
     ]
    }
   ],
   "source": [
    "def giveme_y(rows,cols):\n",
    "    for i in range(0,rows+1):\n",
    "        print(yl[0][i][:cols])\n",
    "giveme_y(3,3)"
   ]
  },
  {
   "cell_type": "code",
   "execution_count": 149,
   "metadata": {},
   "outputs": [
    {
     "data": {
      "text/plain": [
       "(3, 1)"
      ]
     },
     "execution_count": 149,
     "metadata": {},
     "output_type": "execute_result"
    }
   ],
   "source": [
    "irows,orows"
   ]
  },
  {
   "cell_type": "code",
   "execution_count": 150,
   "metadata": {},
   "outputs": [
    {
     "name": "stdout",
     "output_type": "stream",
     "text": [
      "Na Matrices filtered out sucessfuly in G1 !\n",
      "Na Matrices filtered out sucessfuly in G2 !\n",
      "Na Matrices filtered out sucessfuly in G3 !\n",
      "Na Matrices filtered out sucessfuly in G4 !\n"
     ]
    }
   ],
   "source": [
    "#Filtering the Na IO matrices out\n",
    "from math import isnan\n",
    "import numpy as np\n",
    "\n",
    "# #Function to check if all the NA matrices are deleted.\n",
    "def check_NA(X_fil,y_fil,Name):\n",
    "    Na_count=0\n",
    "    for i in range(len(X_fil)):\n",
    "        if np.any(np.isnan(y_fil[i]))==True & np.any(np.isnan(X_fil[i]))==True:\n",
    "            Na_count=Na_count+1\n",
    "    if Na_count==0:\n",
    "        print(\"Na Matrices filtered out sucessfuly in\",Name,\"!\")\n",
    "    else:\n",
    "        print(\"ERROR: NA value found!\")\n",
    "        \n",
    "#Function to filter the NA matrices.\n",
    "def filter_NA(X_o,y_o):\n",
    "    X_fil=np.array(X_o)\n",
    "    y_fil=np.array(y_o)\n",
    "    del_index=[]\n",
    "    # Noting down the index of Na matrices in del_index \n",
    "    for i in range(len(X_fil)):\n",
    "        del_index.append(np.any(np.isnan(X_fil[i])) or np.any(np.isnan(y_fil[i])))\n",
    "    # Filtering out the Na matrices from y_fil and X_fil by indexing using a list\n",
    "    y_fil=y_fil[list(~np.array(del_index))]\n",
    "    X_fil=X_fil[list(~np.array(del_index))]\n",
    "    return X_fil,y_fil\n",
    "\n",
    "X1,y1=filter_NA(Xl[0],yl[0])\n",
    "X2,y2=filter_NA(Xl[1],yl[1])\n",
    "X3,y3=filter_NA(Xl[2],yl[2])\n",
    "X4,y4=filter_NA(Xl[3],yl[3])\n",
    "\n",
    "check_NA(X1,y1,\"G1\")\n",
    "check_NA(X2,y2,\"G2\")\n",
    "check_NA(X2,y2,\"G3\")\n",
    "check_NA(X2,y2,\"G4\")"
   ]
  },
  {
   "cell_type": "code",
   "execution_count": 151,
   "metadata": {},
   "outputs": [
    {
     "name": "stdout",
     "output_type": "stream",
     "text": [
      "[0.06791322 0.33685298 0.34324812]\n",
      "[0.35811766 0.52902932 0.42222478]\n",
      "[0.51484876 0.38869066 0.26400687]\n",
      "[0.25059284 0.333912   0.2502424 ]\n"
     ]
    }
   ],
   "source": [
    "giveme_y(3,3)"
   ]
  },
  {
   "cell_type": "code",
   "execution_count": 152,
   "metadata": {},
   "outputs": [
    {
     "name": "stdout",
     "output_type": "stream",
     "text": [
      "510  I/O pairs available\n",
      "Number of X matrices: 510\n",
      "Number of y matrices: 510\n",
      "Number i/o pairs expected: 510\n",
      "Number of features in each X matrix: 70\n",
      "Number of features in each y matrix: 68\n",
      "Number of features expected: 70 for X\n"
     ]
    }
   ],
   "source": [
    "# Print number of IO Pairs available:\n",
    "print(len(y4),\" I/O pairs available\")\n",
    "verify_io(X1,y1,True,0)"
   ]
  },
  {
   "cell_type": "code",
   "execution_count": 153,
   "metadata": {
    "scrolled": true
   },
   "outputs": [
    {
     "name": "stdout",
     "output_type": "stream",
     "text": [
      "Number of X matrices: 510\n",
      "Number of y matrices: 510\n",
      "Number i/o pairs expected: 510\n",
      "Number of features in each X matrix: 70\n",
      "Number of features in each y matrix: 68\n",
      "Number of features expected: 70 for X\n"
     ]
    },
    {
     "data": {
      "text/plain": [
       "(510, 68)"
      ]
     },
     "execution_count": 153,
     "metadata": {},
     "output_type": "execute_result"
    }
   ],
   "source": [
    "# Function to Flatten output\n",
    "verify_io(Xl[0],yl[0],True,0)\n",
    "\n",
    "# Note: No need to flatten output as y already has only 2 dimensions.\n",
    "y1.shape\n",
    "# def Flatten_output(y_il):\n",
    "#     n_output = y_il.shape[1] * y_il.shape[2]\n",
    "#     return y_il.reshape((y_il.shape[0], n_output))\n",
    "\n",
    "# print(y1)\n",
    "# y1=Flatten_output(y1)\n",
    "# y2=Flatten_output(y2)\n",
    "# y3=Flatten_output(y3)\n",
    "# y4=Flatten_output(y4)"
   ]
  },
  {
   "cell_type": "code",
   "execution_count": 154,
   "metadata": {},
   "outputs": [],
   "source": [
    "from numpy.random import seed\n",
    "seed(1)\n",
    "from tensorflow import set_random_seed\n",
    "set_random_seed(2)\n",
    "from numpy import array\n",
    "from numpy import hstack\n",
    "from keras.models import Sequential\n",
    "from keras.layers import Dense\n",
    "from keras.layers import Flatten\n",
    "from keras.layers.convolutional import Conv1D\n",
    "from keras.layers.convolutional import MaxPooling1D"
   ]
  },
  {
   "cell_type": "code",
   "execution_count": 155,
   "metadata": {
    "scrolled": true
   },
   "outputs": [
    {
     "name": "stdout",
     "output_type": "stream",
     "text": [
      "Number of X matrices: 510\n",
      "Number of y matrices: 510\n",
      "Number i/o pairs expected: 510\n",
      "Number of features in each X matrix: 70\n",
      "Number of features in each y matrix: 68\n",
      "Number of features expected: 70 for X\n"
     ]
    },
    {
     "data": {
      "text/plain": [
       "(510, 3, 70)"
      ]
     },
     "execution_count": 155,
     "metadata": {},
     "output_type": "execute_result"
    }
   ],
   "source": [
    "verify_io(X1,y1,True,0)\n",
    "X1.shape"
   ]
  },
  {
   "cell_type": "code",
   "execution_count": 156,
   "metadata": {},
   "outputs": [
    {
     "data": {
      "text/plain": [
       "(510, 510, 510, 510)"
      ]
     },
     "execution_count": 156,
     "metadata": {},
     "output_type": "execute_result"
    }
   ],
   "source": [
    "len(X1),len(X2),len(X3),len(X4)"
   ]
  },
  {
   "cell_type": "code",
   "execution_count": 157,
   "metadata": {},
   "outputs": [],
   "source": [
    "# Splitting into train and test sets randomly\n",
    "# np.random.seed(95)\n",
    "# msk = np.random.rand(len(X_fil)) < 0.8\n",
    "\n",
    "#Splitting taking the last 7days as the test set:\n",
    "#Change this if day number changes\n",
    "test_size=7\n",
    "train_end=(34-test_size)*(rows_pday-irows-orows+1)\n",
    "msk=[]\n",
    "for i in range(34*(rows_pday-irows-orows+1)):\n",
    "    if i<=train_end:\n",
    "        msk.append(True)\n",
    "    else:\n",
    "        msk.append(False)\n",
    "msk=np.asarray(msk)"
   ]
  },
  {
   "cell_type": "code",
   "execution_count": 158,
   "metadata": {
    "scrolled": true
   },
   "outputs": [
    {
     "name": "stdout",
     "output_type": "stream",
     "text": [
      "Dataset splitting done! for Grp-1\n",
      "Group-1 ; Model-3 \n",
      "\n",
      "Number or epochs: 12\n",
      "Number of input features: 70\n",
      "Number of output features: 68\n",
      "Bin size: 1\n",
      "Window size: 3\n",
      "Number of I/O pairs available for training: 406\n",
      "Number of I/O pairs available for testing: 104\n",
      "104/104 [==============================] - 0s 57us/step\n",
      "Model Mape loss: 2619902.735576923\n",
      "104/104 [==============================] - 0s 88us/step\n",
      "Model MSE loss (Minimized): 0.03841053809110935\n",
      "104/104 [==============================] - 0s 103us/step\n",
      "RMSE loss: 0.19598606606366012\n"
     ]
    }
   ],
   "source": [
    "# Splitting into train and test sets\n",
    "# np.random.seed(95)\n",
    "# msk = np.random.rand(len(X1)) < 0.8\n",
    "X_train = X1[msk]\n",
    "y_train = y1[msk]\n",
    "X_test = X1[~msk]\n",
    "y_test = y1[~msk]\n",
    "print(\"Dataset splitting done! for Grp-1\")\n",
    "\n",
    "#Verify shape once:\n",
    "#verify_io(X_test,y_test,False,0)\n",
    "\n",
    "\n",
    "n_output=len(y_train[0])\n",
    "n_colx=len(X1[0][0])\n",
    "\n",
    "# multivariate output multi-step 1d cnn example\n",
    "\n",
    "# define model\n",
    "model1 = Sequential()\n",
    "model1.add(Conv1D(filters=64, kernel_size=2, activation='relu', input_shape=(irows, n_colx)))\n",
    "model1.add(MaxPooling1D(pool_size=2))\n",
    "model1.add(Flatten())\n",
    "model1.add(Dense(500, activation='relu'))\n",
    "model1.add(Dense(n_output))\n",
    "model1.compile(optimizer='adam', loss=['mse'],metrics=[\"mape\"])\n",
    "epochno=12\n",
    "\n",
    "# fit model\n",
    "history=model1.fit(X_train, y_train, epochs=epochno, verbose=0, validation_data = (X_test, y_test))\n",
    "print(\"Group-1 ; Model-3 \\n\")\n",
    "print(\"Number or epochs:\",epochno)\n",
    "print(\"Number of input features:\",n_colx)\n",
    "print(\"Number of output features:\",n_output)\n",
    "print(\"Bin size:\",Bin_size)\n",
    "print(\"Window size:\",W_size)\n",
    "print(\"Number of I/O pairs available for training:\",len(y_train))\n",
    "print(\"Number of I/O pairs available for testing:\",len(y_test))\n",
    "print(\"Model Mape loss:\",model1.evaluate(X_test,y_test)[1])\n",
    "print(\"Model MSE loss (Minimized):\",model1.evaluate(X_test,y_test)[0])\n",
    "print(\"RMSE loss:\",np.sqrt(model1.evaluate(X_test,y_test)[0]))\n",
    "\n",
    "# Demonstrate Prediction\n",
    "# x_input = array([[60, 65, 125], [70, 75, 145], [80, 85, 165]])\n",
    "# x_input = x_input.reshape((1, n_steps_in, n_features))\n",
    "# yhat = model.predict(x_input, verbose=0)\n",
    "# print(yhat)"
   ]
  },
  {
   "cell_type": "code",
   "execution_count": 167,
   "metadata": {},
   "outputs": [
    {
     "name": "stdout",
     "output_type": "stream",
     "text": [
      "[0.20083781 0.46544411 0.24597875]\n",
      "[0.22675959 0.50208535 0.14565598]\n",
      "[0.18726386 0.47034024 0.13260803]\n",
      "[0.28267543 0.56848034 0.18880468]\n"
     ]
    }
   ],
   "source": [
    "def giveme_ytest(rows,cols):\n",
    "    for i in range(0,rows+1):\n",
    "        print(y_test[i][:cols])\n",
    "giveme_ytest(3,3)"
   ]
  },
  {
   "cell_type": "code",
   "execution_count": 168,
   "metadata": {
    "scrolled": false
   },
   "outputs": [
    {
     "name": "stdout",
     "output_type": "stream",
     "text": [
      "Dataset splitting done! for Grp-2\n",
      "\n",
      "Number of X matrices: 406\n",
      "Number of y matrices: 406\n",
      "Number i/o pairs expected: 510\n",
      "Number of features in each X matrix: 44\n",
      "Number of features in each y matrix: 42\n",
      "Number of features expected: 44 for X\n",
      "Group-2 ; Model-3 \n",
      "\n",
      "Number or epochs: 12\n",
      "Number of input features: 44\n",
      "Number of output features: 42\n",
      "Bin size: 1\n",
      "Window size: 3\n",
      "Number of I/O pairs available for training: 406\n",
      "Number of I/O pairs available for testing: 104\n",
      "104/104 [==============================] - 0s 64us/step\n",
      "Model Mape loss: 5995108.692307692\n",
      "104/104 [==============================] - 0s 79us/step\n",
      "Model MSE loss (Minimized): 0.03771251268111742\n",
      "104/104 [==============================] - 0s 58us/step\n",
      "RMSE loss: 0.19419709750950817\n"
     ]
    }
   ],
   "source": [
    "# Splitting into train and test sets\n",
    "#np.random.seed(95)\n",
    "#msk = np.random.rand(len(X2)) < 0.8\n",
    "X_train = X2[msk]\n",
    "y_train = y2[msk]\n",
    "X_test = X2[~msk]\n",
    "y_test = y2[~msk]\n",
    "print(\"Dataset splitting done! for Grp-2\\n\")\n",
    "\n",
    "#Verify shape once:\n",
    "verify_io(X_train,y_train,True,1)\n",
    "\n",
    "\n",
    "n_output=len(y_train[0])\n",
    "n_colx=len(X_train[0][0])\n",
    "\n",
    "# multivariate output multi-step 1d cnn example\n",
    "\n",
    "# define model\n",
    "model2 = Sequential()\n",
    "model2.add(Conv1D(filters=64, kernel_size=2, activation='relu', input_shape=(irows, n_colx)))\n",
    "model2.add(MaxPooling1D(pool_size=2))\n",
    "model2.add(Flatten())\n",
    "model2.add(Dense(500, activation='relu'))\n",
    "model2.add(Dense(n_output))\n",
    "model2.compile(optimizer='adam', loss=['mse'],metrics=[\"mape\"])\n",
    "epochno=12\n",
    "\n",
    "# fit model\n",
    "history=model2.fit(X_train, y_train, epochs=epochno, verbose=0, validation_data = (X_test, y_test))\n",
    "print(\"Group-2 ; Model-3 \\n\")\n",
    "print(\"Number or epochs:\",epochno)\n",
    "print(\"Number of input features:\",n_colx)\n",
    "print(\"Number of output features:\",n_output)\n",
    "print(\"Bin size:\",Bin_size)\n",
    "print(\"Window size:\",W_size)\n",
    "print(\"Number of I/O pairs available for training:\",len(y_train))\n",
    "print(\"Number of I/O pairs available for testing:\",len(y_test))\n",
    "print(\"Model Mape loss:\",model2.evaluate(X_test,y_test)[1])\n",
    "print(\"Model MSE loss (Minimized):\",model2.evaluate(X_test,y_test)[0])\n",
    "print(\"RMSE loss:\",np.sqrt(model2.evaluate(X_test,y_test)[0]))\n",
    "\n",
    "# Demonstrate Prediction\n",
    "# x_input = array([[60, 65, 125], [70, 75, 145], [80, 85, 165]])\n",
    "# x_input = x_input.reshape((1, n_steps_in, n_features))\n",
    "# yhat = model.predict(x_input, verbose=0)\n",
    "# print(yhat)"
   ]
  },
  {
   "cell_type": "code",
   "execution_count": 169,
   "metadata": {},
   "outputs": [
    {
     "name": "stdout",
     "output_type": "stream",
     "text": [
      "[0.52137706 0.39593718 0.36645147]\n",
      "[0.59118484 0.59280288 0.5789552 ]\n",
      "[0.45430397 0.48698881 0.80551811]\n",
      "[0.37559192 0.34580258 0.33377962]\n"
     ]
    }
   ],
   "source": [
    "def giveme_ytest(rows,cols):\n",
    "    for i in range(0,rows+1):\n",
    "        print(y_test[i][:cols])\n",
    "giveme_ytest(3,3)"
   ]
  },
  {
   "cell_type": "code",
   "execution_count": 170,
   "metadata": {},
   "outputs": [
    {
     "name": "stdout",
     "output_type": "stream",
     "text": [
      "Dataset splitting done! for Grp-3\n",
      "\n",
      "Number of X matrices: 406\n",
      "Number of y matrices: 406\n",
      "Number i/o pairs expected: 510\n",
      "Number of features in each X matrix: 31\n",
      "Number of features in each y matrix: 29\n",
      "Number of features expected: 31 for X\n",
      "Group-3 ; Model-3 \n",
      "\n",
      "Number or epochs: 12\n",
      "Number of input features: 31\n",
      "Number of output features: 29\n",
      "Bin size: 1\n",
      "Window size: 3\n",
      "Number of I/O pairs available for training: 406\n",
      "Number of I/O pairs available for testing: 104\n",
      "104/104 [==============================] - 0s 61us/step\n",
      "Model Mape loss: 2240801.898777888\n",
      "104/104 [==============================] - 0s 72us/step\n",
      "Model MSE loss (Minimized): 0.03768666031268927\n",
      "104/104 [==============================] - 0s 90us/step\n",
      "RMSE loss: 0.1941305239077288\n"
     ]
    }
   ],
   "source": [
    "# Splitting into train and test sets\n",
    "#np.random.seed(95)\n",
    "#msk = np.random.rand(len(X3)) < 0.8\n",
    "X_train = X3[msk]\n",
    "y_train = y3[msk]\n",
    "X_test = X3[~msk]\n",
    "y_test = y3[~msk]\n",
    "print(\"Dataset splitting done! for Grp-3\\n\")\n",
    "\n",
    "#Verify shape once:\n",
    "verify_io(X_train,y_train,True,2)\n",
    "\n",
    "\n",
    "n_output=len(y_train[0])\n",
    "n_colx=len(X_train[0][0])\n",
    "\n",
    "# multivariate output multi-step 1d cnn example\n",
    "\n",
    "# define model\n",
    "model3 = Sequential()\n",
    "model3.add(Conv1D(filters=64, kernel_size=2, activation='relu', input_shape=(irows, n_colx)))\n",
    "model3.add(MaxPooling1D(pool_size=2))\n",
    "model3.add(Flatten())\n",
    "model3.add(Dense(500, activation='relu'))\n",
    "model3.add(Dense(n_output))\n",
    "model3.compile(optimizer='adam', loss=['mse'],metrics=[\"mape\"])\n",
    "epochno=12\n",
    "\n",
    "# fit model\n",
    "history=model3.fit(X_train, y_train, epochs=epochno, verbose=0, validation_data = (X_test, y_test))\n",
    "print(\"Group-3 ; Model-3 \\n\")\n",
    "print(\"Number or epochs:\",epochno)\n",
    "print(\"Number of input features:\",n_colx)\n",
    "print(\"Number of output features:\",n_output)\n",
    "print(\"Bin size:\",Bin_size)\n",
    "print(\"Window size:\",W_size)\n",
    "print(\"Number of I/O pairs available for training:\",len(y_train))\n",
    "print(\"Number of I/O pairs available for testing:\",len(y_test))\n",
    "print(\"Model Mape loss:\",model3.evaluate(X_test,y_test)[1])\n",
    "print(\"Model MSE loss (Minimized):\",model3.evaluate(X_test,y_test)[0])\n",
    "print(\"RMSE loss:\",np.sqrt(model3.evaluate(X_test,y_test)[0]))\n",
    "\n",
    "# Demonstrate Prediction\n",
    "# x_input = array([[60, 65, 125], [70, 75, 145], [80, 85, 165]])\n",
    "# x_input = x_input.reshape((1, n_steps_in, n_features))\n",
    "# yhat = model.predict(x_input, verbose=0)\n",
    "# print(yhat)"
   ]
  },
  {
   "cell_type": "code",
   "execution_count": 171,
   "metadata": {},
   "outputs": [
    {
     "name": "stdout",
     "output_type": "stream",
     "text": [
      "Dataset splitting done! for Grp-4\n",
      "\n",
      "Number of X matrices: 406\n",
      "Number of y matrices: 406\n",
      "Number i/o pairs expected: 510\n",
      "Number of features in each X matrix: 143\n",
      "Number of features in each y matrix: 141\n",
      "Number of features expected: 143 for X\n",
      "Group-4 ; Model-3 \n",
      "\n",
      "Number or epochs: 12\n",
      "Number of input features: 143\n",
      "Number of output features: 141\n",
      "Bin size: 1\n",
      "Window size: 3\n",
      "Number of I/O pairs available for training: 406\n",
      "Number of I/O pairs available for testing: 104\n",
      "104/104 [==============================] - 0s 68us/step\n",
      "Model Mape loss: 1993782.3935834444\n",
      "104/104 [==============================] - 0s 73us/step\n",
      "Model MSE loss (Minimized): 0.03379194839642598\n",
      "104/104 [==============================] - 0s 89us/step\n",
      "RMSE loss: 0.183825864329332\n"
     ]
    }
   ],
   "source": [
    "# Splitting into train and test sets\n",
    "#np.random.seed(95)\n",
    "#msk = np.random.rand(len(X4)) < 0.8\n",
    "X_train = X4[msk]\n",
    "y_train = y4[msk]\n",
    "X_test = X4[~msk]\n",
    "y_test = y4[~msk]\n",
    "print(\"Dataset splitting done! for Grp-4\\n\")\n",
    "\n",
    "#Verify shape once:\n",
    "verify_io(X_train,y_train,True,3)\n",
    "\n",
    "\n",
    "n_output=len(y_train[0])\n",
    "n_colx=len(X_train[0][0])\n",
    "\n",
    "# multivariate output multi-step 1d cnn example\n",
    "\n",
    "# define model\n",
    "model4 = Sequential()\n",
    "model4.add(Conv1D(filters=64, kernel_size=2, activation='relu', input_shape=(irows, n_colx)))\n",
    "model4.add(MaxPooling1D(pool_size=2))\n",
    "model4.add(Flatten())\n",
    "model4.add(Dense(500, activation='relu'))\n",
    "model4.add(Dense(n_output))\n",
    "model4.compile(optimizer='adam', loss=['mse'],metrics=[\"mape\"])\n",
    "epochno=12\n",
    "\n",
    "# fit model\n",
    "history=model4.fit(X_train, y_train, epochs=epochno, verbose=0, validation_data = (X_test, y_test))\n",
    "print(\"Group-4 ; Model-3 \\n\")\n",
    "print(\"Number or epochs:\",epochno)\n",
    "print(\"Number of input features:\",n_colx)\n",
    "print(\"Number of output features:\",n_output)\n",
    "print(\"Bin size:\",Bin_size)\n",
    "print(\"Window size:\",W_size)\n",
    "print(\"Number of I/O pairs available for training:\",len(y_train))\n",
    "print(\"Number of I/O pairs available for testing:\",len(y_test))\n",
    "print(\"Model Mape loss:\",model4.evaluate(X_test,y_test)[1])\n",
    "print(\"Model MSE loss (Minimized):\",model4.evaluate(X_test,y_test)[0])\n",
    "print(\"RMSE loss:\",np.sqrt(model4.evaluate(X_test,y_test)[0]))\n",
    "\n",
    "# Demonstrate Prediction\n",
    "# x_input = array([[60, 65, 125], [70, 75, 145], [80, 85, 165]])\n",
    "# x_input = x_input.reshape((1, n_steps_in, n_features))\n",
    "# yhat = model.predict(x_input, verbose=0)\n",
    "# print(yhat)"
   ]
  },
  {
   "cell_type": "code",
   "execution_count": 172,
   "metadata": {
    "scrolled": true
   },
   "outputs": [
    {
     "name": "stdout",
     "output_type": "stream",
     "text": [
      "dict_keys(['val_loss', 'val_mean_absolute_percentage_error', 'loss', 'mean_absolute_percentage_error'])\n"
     ]
    },
    {
     "data": {
      "image/png": "[encoded data removed]",
      "text/plain": [
       "<Figure size 432x288 with 1 Axes>"
      ]
     },
     "metadata": {},
     "output_type": "display_data"
    }
   ],
   "source": [
    "import matplotlib.pyplot as plt\n",
    "import numpy\n",
    "%matplotlib inline\n",
    "\n",
    "print(history.history.keys())\n",
    "# summarize history for loss\n",
    "plt.plot(history.history['loss'])\n",
    "plt.plot(history.history['val_loss'])\n",
    "plt.title('Model Loss (MSE)')\n",
    "plt.ylabel('Loss')\n",
    "plt.xlabel('Epoch')\n",
    "plt.legend(['Train', 'Test'], loc='upper right')\n",
    "#axes = plt.gca()\n",
    "#axes.set_ylim([7500,0.2*100000])\n",
    "#axes.set_xlim([1500,3000])\n",
    "plt.show()"
   ]
  },
  {
   "cell_type": "code",
   "execution_count": 85,
   "metadata": {},
   "outputs": [
    {
     "data": {
      "text/plain": [
       "array([0.        , 0.01865434, 0.10891486, 0.18354451, 0.17191932,\n",
       "       0.16565897, 0.43818386, 0.28296556, 1.        , 1.        ,\n",
       "       1.        , 1.        , 0.12230949, 0.20450941, 0.26685608,\n",
       "       0.52618939, 0.17668065, 0.09829099, 0.40513264, 0.14483435,\n",
       "       0.25570204, 0.73522276, 1.        , 0.05360666, 0.10901715,\n",
       "       0.06669544, 0.0287042 , 0.05624088, 0.07337318, 0.11567154,\n",
       "       0.31129467, 0.32806198, 0.21255732, 0.81411288, 0.24779593,\n",
       "       0.00412964, 0.14676671, 0.04395396, 0.26760511, 0.26948608,\n",
       "       0.20623002, 0.23243357, 0.07792963, 0.09626329, 0.4059496 ,\n",
       "       0.33097558, 0.07663274, 0.17851208, 0.3411316 , 0.07066831,\n",
       "       0.2595229 , 0.01495825, 0.0278979 , 0.03242596, 0.        ,\n",
       "       0.541451  , 0.04862106, 0.        , 0.01385192, 0.1833435 ,\n",
       "       0.0140338 , 0.00567093, 0.38649259, 1.        , 0.        ,\n",
       "       0.        , 0.28474235, 0.        , 0.        , 0.0480427 ])"
      ]
     },
     "execution_count": 85,
     "metadata": {},
     "output_type": "execute_result"
    }
   ],
   "source": [
    "X1[0][0]"
   ]
  },
  {
   "cell_type": "code",
   "execution_count": 173,
   "metadata": {},
   "outputs": [],
   "source": [
    "#history=model.fit(X, y, epochs=3000, verbose=1)\n",
    "#model.evaluate(X,y)"
   ]
  },
  {
   "cell_type": "code",
   "execution_count": 174,
   "metadata": {},
   "outputs": [
    {
     "data": {
      "text/plain": [
       "(104, 3, 70)"
      ]
     },
     "execution_count": 174,
     "metadata": {},
     "output_type": "execute_result"
    }
   ],
   "source": [
    "X1[~msk].shape"
   ]
  },
  {
   "cell_type": "code",
   "execution_count": 175,
   "metadata": {},
   "outputs": [
    {
     "data": {
      "text/plain": [
       "[0,\n",
       " 1,\n",
       " 2,\n",
       " 3,\n",
       " 4,\n",
       " 5,\n",
       " 6,\n",
       " 13,\n",
       " 14,\n",
       " 15,\n",
       " 16,\n",
       " 17,\n",
       " 19,\n",
       " 20,\n",
       " 21,\n",
       " 23,\n",
       " 24,\n",
       " 41,\n",
       " 42,\n",
       " 54,\n",
       " 55,\n",
       " 56,\n",
       " 57,\n",
       " 63,\n",
       " 64,\n",
       " 70,\n",
       " 71,\n",
       " 87,\n",
       " 88,\n",
       " 89,\n",
       " 101,\n",
       " 105,\n",
       " 106,\n",
       " 114,\n",
       " 115,\n",
       " 132,\n",
       " 133,\n",
       " 138,\n",
       " 139,\n",
       " 146,\n",
       " 147,\n",
       " 148,\n",
       " 160,\n",
       " 161,\n",
       " 169,\n",
       " 170,\n",
       " 171,\n",
       " 172,\n",
       " 176,\n",
       " 177,\n",
       " 186,\n",
       " 188,\n",
       " 191,\n",
       " 192,\n",
       " 197,\n",
       " 200,\n",
       " 201,\n",
       " 206,\n",
       " 209,\n",
       " 210,\n",
       " 225,\n",
       " 232,\n",
       " 234,\n",
       " 235,\n",
       " 236,\n",
       " 256,\n",
       " 262,\n",
       " 266,\n",
       " 7,\n",
       " 8,\n",
       " 9,\n",
       " 10,\n",
       " 11,\n",
       " 25,\n",
       " 26,\n",
       " 27,\n",
       " 28,\n",
       " 29,\n",
       " 30,\n",
       " 31,\n",
       " 32,\n",
       " 33,\n",
       " 34,\n",
       " 35,\n",
       " 36,\n",
       " 37,\n",
       " 38,\n",
       " 39,\n",
       " 43,\n",
       " 44,\n",
       " 45,\n",
       " 46,\n",
       " 47,\n",
       " 48,\n",
       " 49,\n",
       " 50,\n",
       " 51,\n",
       " 90,\n",
       " 91,\n",
       " 92,\n",
       " 93,\n",
       " 94,\n",
       " 95,\n",
       " 96,\n",
       " 97,\n",
       " 98,\n",
       " 109,\n",
       " 110,\n",
       " 111,\n",
       " 112,\n",
       " 12,\n",
       " 18,\n",
       " 22,\n",
       " 40,\n",
       " 53,\n",
       " 62,\n",
       " 69,\n",
       " 86,\n",
       " 99,\n",
       " 100,\n",
       " 104,\n",
       " 113,\n",
       " 131,\n",
       " 145,\n",
       " 159,\n",
       " 167,\n",
       " 168,\n",
       " 175,\n",
       " 187,\n",
       " 196,\n",
       " 199,\n",
       " 204,\n",
       " 205,\n",
       " 208,\n",
       " 224,\n",
       " 233,\n",
       " 255,\n",
       " 261,\n",
       " 265,\n",
       " 52,\n",
       " 58,\n",
       " 59,\n",
       " 60,\n",
       " 61,\n",
       " 65,\n",
       " 66,\n",
       " 67,\n",
       " 68,\n",
       " 72,\n",
       " 73,\n",
       " 74,\n",
       " 75,\n",
       " 76,\n",
       " 77,\n",
       " 78,\n",
       " 79,\n",
       " 80,\n",
       " 81,\n",
       " 82,\n",
       " 83,\n",
       " 84,\n",
       " 85,\n",
       " 102,\n",
       " 103,\n",
       " 107,\n",
       " 108,\n",
       " 116,\n",
       " 117,\n",
       " 118,\n",
       " 119,\n",
       " 120,\n",
       " 121,\n",
       " 122,\n",
       " 123,\n",
       " 124,\n",
       " 125,\n",
       " 126,\n",
       " 127,\n",
       " 128,\n",
       " 129,\n",
       " 130,\n",
       " 134,\n",
       " 135,\n",
       " 136,\n",
       " 137,\n",
       " 140,\n",
       " 141,\n",
       " 142,\n",
       " 143,\n",
       " 144,\n",
       " 149,\n",
       " 150,\n",
       " 151,\n",
       " 152,\n",
       " 153,\n",
       " 154,\n",
       " 155,\n",
       " 156,\n",
       " 157,\n",
       " 158,\n",
       " 162,\n",
       " 163,\n",
       " 164,\n",
       " 165,\n",
       " 166,\n",
       " 173,\n",
       " 174,\n",
       " 178,\n",
       " 179,\n",
       " 180,\n",
       " 181,\n",
       " 182,\n",
       " 183,\n",
       " 184,\n",
       " 185,\n",
       " 189,\n",
       " 190,\n",
       " 193,\n",
       " 194,\n",
       " 195,\n",
       " 198,\n",
       " 202,\n",
       " 203,\n",
       " 207,\n",
       " 211,\n",
       " 212,\n",
       " 213,\n",
       " 214,\n",
       " 215,\n",
       " 216,\n",
       " 217,\n",
       " 218,\n",
       " 219,\n",
       " 220,\n",
       " 221,\n",
       " 222,\n",
       " 223,\n",
       " 226,\n",
       " 227,\n",
       " 228,\n",
       " 229,\n",
       " 230,\n",
       " 231,\n",
       " 237,\n",
       " 238,\n",
       " 239,\n",
       " 240,\n",
       " 241,\n",
       " 242,\n",
       " 243,\n",
       " 244,\n",
       " 245,\n",
       " 246,\n",
       " 247,\n",
       " 248,\n",
       " 249,\n",
       " 250,\n",
       " 251,\n",
       " 252,\n",
       " 253,\n",
       " 254,\n",
       " 257,\n",
       " 258,\n",
       " 259,\n",
       " 260,\n",
       " 263,\n",
       " 264,\n",
       " 267,\n",
       " 268,\n",
       " 269,\n",
       " 270,\n",
       " 271,\n",
       " 272,\n",
       " 273,\n",
       " 274,\n",
       " 275,\n",
       " 276,\n",
       " 277,\n",
       " 278,\n",
       " 279]"
      ]
     },
     "execution_count": 175,
     "metadata": {},
     "output_type": "execute_result"
    }
   ],
   "source": [
    "orderlist"
   ]
  },
  {
   "cell_type": "code",
   "execution_count": 187,
   "metadata": {},
   "outputs": [],
   "source": [
    "import matplotlib.pyplot as plt\n",
    "import numpy as np\n",
    "np.random.seed(98)\n",
    "\n",
    "#Defining order list\n",
    "orderlist=[]\n",
    "for grp in cols2consider:\n",
    "        orderlist=orderlist+grp\n",
    "\n",
    "# Define a function that returns the segment if a touple in the fom (index in list,tt) is given\n",
    "def tellme_seg(tu):\n",
    "    return orderlist[tu[0]]\n",
    "\n",
    "# Defining a function to map travel times to the segments\n",
    "def arrange_tt_by_seg(tlist):\n",
    "    touple_list=[(i,tlist[i]) for i in range(len(tlist))]\n",
    "    touple_list.sort(key=tellme_seg)\n",
    "    sorted_tp_list=touple_list\n",
    "    arranged_tt=[el[1] for el in sorted_tp_list]\n",
    "    return arranged_tt\n",
    "\n",
    "#Function to return arranged and normalized \n",
    "def get_pdt_and_act(obs):\n",
    "    \n",
    "    #Reshaping input to be suitable for the observation\n",
    "    x1_input = X1[~msk][obs].reshape((1, W_size, len(X1[0][0])))\n",
    "    x2_input = X2[~msk][obs].reshape((1, W_size, len(X2[0][0])))\n",
    "    x3_input = X3[~msk][obs].reshape((1, W_size, len(X3[0][0])))\n",
    "    x4_input = X4[~msk][obs].reshape((1, W_size, len(X4[0][0])))\n",
    "    \n",
    "    #Predicting values for each group for rnd observation\n",
    "    g1_yp=model1.predict(x1_input, verbose=0)\n",
    "    g2_yp=model2.predict(x2_input, verbose=0)\n",
    "    g3_yp=model3.predict(x3_input, verbose=0)\n",
    "    g4_yp=model4.predict(x4_input, verbose=0)\n",
    "\n",
    "    #Getting the real value for each group for the rnd\n",
    "    g1_ya=y1[~msk][obs]\n",
    "    g2_ya=y2[~msk][obs]\n",
    "    g3_ya=y3[~msk][obs]\n",
    "    g4_ya=y4[~msk][obs]\n",
    "    \n",
    "    tt_list_ya=list(g1_ya)+list(g2_ya)+list(g3_ya)+list(g4_ya)\n",
    "    tt_list_yp=list(g1_yp[0])+list(g2_yp[0])+list(g3_yp[0])+list(g4_yp[0])\n",
    "    \n",
    "    act=arrange_tt_by_seg(tt_list_ya)\n",
    "    pdt=arrange_tt_by_seg(tt_list_yp)\n",
    "    \n",
    "    return pdt,act\n",
    "\n",
    "pdt_1,act_1=get_pdt_and_act(2)\n",
    "\n",
    "#print(type(g1_ya.shape),\"\\n\\n\")\n",
    "#print(len(yhat[0]))\n",
    "# pdt=yhat[0]\n",
    "# act=y_output\n",
    "# if len(pdt)==len(act):\n",
    "#     print(\"Lengths match good to go!\")"
   ]
  },
  {
   "cell_type": "code",
   "execution_count": 188,
   "metadata": {},
   "outputs": [
    {
     "name": "stdout",
     "output_type": "stream",
     "text": [
      "[0.28356101 0.50250905 0.43128462]\n",
      "[0.45137143 0.3397505  0.2888186 ]\n",
      "[0.27907351 0.23940181 0.24288811]\n",
      "[0.49906565 0.21410657 0.21686101]\n"
     ]
    }
   ],
   "source": [
    "def giveme_ytest(rows,cols):\n",
    "    for i in range(0,rows+1):\n",
    "        print(y_test[i][:cols])\n",
    "giveme_ytest(3,3)"
   ]
  },
  {
   "cell_type": "code",
   "execution_count": 186,
   "metadata": {},
   "outputs": [
    {
     "data": {
      "text/plain": [
       "[0.18726385602313803,\n",
       " 0.47034024096674204,\n",
       " 0.132608028059884,\n",
       " 0.18145204393133105,\n",
       " 0.636882611257088,\n",
       " 0.6013526392772309,\n",
       " 0.32364572197377695,\n",
       " 0.45430397393004107,\n",
       " 0.486988810600674,\n",
       " 0.8055181099177379,\n",
       " 0.944956427933226,\n",
       " 0.802168876553088,\n",
       " 0.7700790246058,\n",
       " 0.32144564458592895,\n",
       " 0.5729494352079879,\n",
       " 0.649977149204697,\n",
       " 0.8264911575558042,\n",
       " 0.7883332480306859,\n",
       " 0.6669565641871821,\n",
       " 0.27844553154507895,\n",
       " 0.38769561338074604,\n",
       " 0.277662976676116,\n",
       " 0.45534883497824297,\n",
       " 0.535804254198907,\n",
       " 0.214581715305892,\n",
       " 0.3622413756507629,\n",
       " 0.351118180125314,\n",
       " 0.452308658580845,\n",
       " 0.412423381697101,\n",
       " 0.35952767567472993,\n",
       " 0.45127440647695205,\n",
       " 0.47904461917668895,\n",
       " 0.435927656716857,\n",
       " 0.41304012383616706,\n",
       " 0.37459373392512,\n",
       " 0.34027898417409,\n",
       " 0.350410464399552,\n",
       " 0.39794180265612294,\n",
       " 0.377145675097591,\n",
       " 0.37689570872959494,\n",
       " 0.5378663561507511,\n",
       " 0.617919031981492,\n",
       " 0.657439474067044,\n",
       " 0.546295880884656,\n",
       " 0.38686934354775504,\n",
       " 0.41940870958054,\n",
       " 0.39164101211654795,\n",
       " 0.178538143396235,\n",
       " 0.10171614324012801,\n",
       " 0.291076641293164,\n",
       " 0.35031165957077004,\n",
       " 0.33413725504146097,\n",
       " 0.279073513877203,\n",
       " 0.37704070094329,\n",
       " 0.6384275881833721,\n",
       " 0.403204182907348,\n",
       " 0.40707805308012895,\n",
       " 0.25447571584489104,\n",
       " 0.239401814188709,\n",
       " 0.24288811292281198,\n",
       " 0.26095409700670397,\n",
       " 0.276903153100002,\n",
       " 0.0637673722742311,\n",
       " 0.0724575952262017,\n",
       " 0.27565105993878397,\n",
       " 0.418670887603948,\n",
       " 0.369731481054765,\n",
       " 0.331239912476872,\n",
       " 0.553875008378207,\n",
       " 0.26188247662217395,\n",
       " 0.49909626036272897,\n",
       " 0.34433395224679997,\n",
       " 0.314769990614555,\n",
       " 0.255605971199792,\n",
       " 0.175948498955071,\n",
       " 0.116794290828622,\n",
       " 0.577381248393336,\n",
       " 0.48320117702996795,\n",
       " 0.376442857573607,\n",
       " 0.289048221306919,\n",
       " 0.231202977431691,\n",
       " 0.18433442316338397,\n",
       " 0.124204592860138,\n",
       " 0.0527809700434565,\n",
       " 0.0312912841504476,\n",
       " 0.0510627082095535,\n",
       " 0.091682306141261,\n",
       " 0.4616128431248979,\n",
       " 0.263445956731399,\n",
       " 0.264178290595748,\n",
       " 0.273532511465772,\n",
       " 0.327057050128119,\n",
       " 0.344736059868033,\n",
       " 0.33856614889602105,\n",
       " 0.462775944997156,\n",
       " 0.380296222652312,\n",
       " 0.295538755078545,\n",
       " 0.297109992473001,\n",
       " 0.390908691776668,\n",
       " 0.28510073474894704,\n",
       " 0.17597240346512802,\n",
       " 0.45147771697033295,\n",
       " 0.342699824561989,\n",
       " 0.26735367094797396,\n",
       " 0.13664710642714697,\n",
       " 0.4739300128722971,\n",
       " 0.24804849031676798,\n",
       " 0.331328621000206,\n",
       " 0.5402946466534171,\n",
       " 0.6645537228534859,\n",
       " 0.5794011031323599,\n",
       " 0.47315032770571,\n",
       " 0.468051501650346,\n",
       " 0.417001282301933,\n",
       " 0.42986090383050607,\n",
       " 0.31742173250421196,\n",
       " 0.36497606132063104,\n",
       " 0.34865815933790306,\n",
       " 0.318318166528385,\n",
       " 0.191659143768724,\n",
       " 0.23883955265742998,\n",
       " 0.325383635905377,\n",
       " 0.35304958411215,\n",
       " 0.507794907375799,\n",
       " 0.33836859680865994,\n",
       " 0.320205759210478,\n",
       " 0.361026249765435,\n",
       " 0.29678667368775397,\n",
       " 0.13653319647422002,\n",
       " 0.0986005752502315,\n",
       " 0.39424983346458203,\n",
       " 0.3927869206312721,\n",
       " 0.44897645279464,\n",
       " 0.532632955776429,\n",
       " 0.24281301065514396,\n",
       " 0.300663766762887,\n",
       " 0.49938873021749197,\n",
       " 0.778214197657702,\n",
       " 0.11636668195135501,\n",
       " 0.513472089552016,\n",
       " 0.46107657955108,\n",
       " 0.612314527378732,\n",
       " 0.628691367242259,\n",
       " 0.7249481894115191,\n",
       " 0.7516799003540799,\n",
       " 0.7340819126825491,\n",
       " 0.43575093762389794,\n",
       " 0.569873353679747,\n",
       " 0.600984554717182,\n",
       " 0.7187199479595869,\n",
       " 0.720902334175139,\n",
       " 0.686124322135152,\n",
       " 0.40394473021725297,\n",
       " 0.418771431550219,\n",
       " 0.5147646949726989,\n",
       " 0.541691363856549,\n",
       " 0.499412129433116,\n",
       " 0.459376628675324,\n",
       " 0.46908545407721003,\n",
       " 0.399009251408116,\n",
       " 0.337776190110147,\n",
       " 0.6260903439002901,\n",
       " 0.65701992247695,\n",
       " 0.7329798024717109,\n",
       " 0.571385833733725,\n",
       " 0.54305220882261,\n",
       " 0.316437999704588,\n",
       " 0.211647013353425,\n",
       " 0.5127077231950229,\n",
       " 0.576816249859506,\n",
       " 0.32099866113700504,\n",
       " 0.529351289385955,\n",
       " 0.298710805478144,\n",
       " 0.264026810869118,\n",
       " 0.17992041073457601,\n",
       " 0.12112653256064301,\n",
       " 0.36867367804024,\n",
       " 0.5687548845146421,\n",
       " 0.419525175788755,\n",
       " 0.35776055679687296,\n",
       " 0.352168071122439,\n",
       " 0.22961161159118498,\n",
       " 0.29053770944431295,\n",
       " 0.39224461155980894,\n",
       " 0.135565922558842,\n",
       " 0.0465665451520619,\n",
       " 0.42045126552838796,\n",
       " 0.434744346127174,\n",
       " 0.07304845108123899,\n",
       " 0.312912717566194,\n",
       " 0.151181867589371,\n",
       " 0.12304117977417402,\n",
       " 0.500759328930424,\n",
       " 0.588283151767225,\n",
       " 0.33107282005635197,\n",
       " 0.441328276260197,\n",
       " 0.0476088775048243,\n",
       " 0.037338430479235005,\n",
       " 0.35029455316554703,\n",
       " 0.256950949106701,\n",
       " 0.4944811842145301,\n",
       " 0.314892203166436,\n",
       " 0.262914440560208,\n",
       " 0.167850375612541,\n",
       " 0.0937141315990748,\n",
       " 0.3945938790222679,\n",
       " 0.357650289886751,\n",
       " 0.332477294517419,\n",
       " 0.23093877728789497,\n",
       " 0.318798418085298,\n",
       " 0.28664115566184806,\n",
       " 0.44073165390102403,\n",
       " 0.501707859740859,\n",
       " 0.320712122303234,\n",
       " 0.282480538656269,\n",
       " 0.25941702743249395,\n",
       " 0.33887973927961,\n",
       " 0.546879903472744,\n",
       " 0.336451186402558,\n",
       " 0.21507078133147303,\n",
       " 0.23482273626906303,\n",
       " 0.26495301198131604,\n",
       " 0.17756368879480303,\n",
       " 0.10570960565344001,\n",
       " 0.204823133981108,\n",
       " 0.0566109807938045,\n",
       " 0.22954488636549103,\n",
       " 0.545113705936537,\n",
       " 0.512182900972873,\n",
       " 0.18590047191242,\n",
       " 0.27793773365675895,\n",
       " 1.0,\n",
       " 0.20523910987551502,\n",
       " 0.0886118412908202,\n",
       " 0.0322916097773442,\n",
       " 0.49085766543387505,\n",
       " 0.578761497559495,\n",
       " 0.263133179271876,\n",
       " 0.14767634647692301,\n",
       " 0.117073011987915,\n",
       " 0.10569250945978802,\n",
       " 0.114217462329873,\n",
       " 0.12233416987168301,\n",
       " 0.126106236659051,\n",
       " 0.507397306021207,\n",
       " 0.30498966324518395,\n",
       " 0.311134944120767,\n",
       " 0.312785607838878,\n",
       " 0.247308940754188,\n",
       " 0.176299874722091,\n",
       " 0.17280997921064903,\n",
       " 0.135806534212863,\n",
       " 0.165744130618435,\n",
       " 0.156913895531915,\n",
       " 0.10661616963171199,\n",
       " 0.35979670779555106,\n",
       " 0.376404160104474,\n",
       " 0.119307803064407,\n",
       " 0.174343810969,\n",
       " 0.20620050040031698,\n",
       " 0.11554522609446902,\n",
       " 0.20191944052094501,\n",
       " 0.588438038171765,\n",
       " 0.395371650372369,\n",
       " 0.20443296595659502,\n",
       " 0.15186365001837301,\n",
       " 0.483401750919885,\n",
       " 0.269471890858179,\n",
       " 0.17111887613403,\n",
       " 0.22530061516047897,\n",
       " 0.1751695819176,\n",
       " 0.20814981371624802,\n",
       " 0.23779238785213397,\n",
       " 0.201479460755672,\n",
       " 0.19608696955971397,\n",
       " 0.259850010259901,\n",
       " 0.16504978447448498,\n",
       " 0.238581017329499,\n",
       " 0.22588458092803002,\n",
       " 0.19069473485504798]"
      ]
     },
     "execution_count": 186,
     "metadata": {},
     "output_type": "execute_result"
    }
   ],
   "source": [
    "act_1"
   ]
  },
  {
   "cell_type": "code",
   "execution_count": 189,
   "metadata": {},
   "outputs": [],
   "source": [
    "# Just python refreshment\n",
    "#chin=np.asarray([i for i in range(280\n",
    "#chin.reshape((1,W_size,70))"
   ]
  },
  {
   "cell_type": "code",
   "execution_count": 190,
   "metadata": {},
   "outputs": [
    {
     "data": {
      "image/png": "[encoded data removed]",
      "text/plain": [
       "<Figure size 432x288 with 1 Axes>"
      ]
     },
     "metadata": {},
     "output_type": "display_data"
    }
   ],
   "source": [
    "import matplotlib.pyplot as plt\n",
    "import numpy\n",
    "\n",
    "#Function to plot any two values:\n",
    "def plot_this(predicted,actual):\n",
    "    x=list(range(1,len(predicted)+1))\n",
    "    plt.plot(x, predicted[0:], color='g',label=\"Predicted\")\n",
    "    plt.plot(x, actual[0:], color='orange',label=\"Actual\")\n",
    "    plt.xlabel('Segments')\n",
    "    plt.ylabel('Travel time (s)')\n",
    "    plt.title('Predicted vs Actual')\n",
    "    axes = plt.gca()\n",
    "    #axes.set_ylim([0,180])\n",
    "    axes.set_xlim([-2,len(predicted)+10])\n",
    "    leg = plt.legend();\n",
    "    plt.show()\n",
    "plot_this(pdt_1,act_1)"
   ]
  },
  {
   "cell_type": "code",
   "execution_count": 191,
   "metadata": {},
   "outputs": [],
   "source": [
    "#Scaling the IO values and then determining MSE and shit\n",
    "import pandas as pd\n",
    "\n",
    "# Selecting data min-max data\n",
    "Minmax = pd.read_csv('/home/pennyworth/Documents/Bus/Data/Minmax.csv')\n"
   ]
  },
  {
   "cell_type": "code",
   "execution_count": 192,
   "metadata": {},
   "outputs": [
    {
     "data": {
      "text/html": [
       "<div>\n",
       "<style scoped>\n",
       "    .dataframe tbody tr th:only-of-type {\n",
       "        vertical-align: middle;\n",
       "    }\n",
       "\n",
       "    .dataframe tbody tr th {\n",
       "        vertical-align: top;\n",
       "    }\n",
       "\n",
       "    .dataframe thead th {\n",
       "        text-align: right;\n",
       "    }\n",
       "</style>\n",
       "<table border=\"1\" class=\"dataframe\">\n",
       "  <thead>\n",
       "    <tr style=\"text-align: right;\">\n",
       "      <th></th>\n",
       "      <th>V1</th>\n",
       "      <th>V2</th>\n",
       "      <th>V3</th>\n",
       "      <th>V4</th>\n",
       "      <th>V5</th>\n",
       "      <th>V6</th>\n",
       "      <th>V7</th>\n",
       "      <th>V8</th>\n",
       "      <th>V9</th>\n",
       "      <th>V10</th>\n",
       "      <th>...</th>\n",
       "      <th>V271</th>\n",
       "      <th>V272</th>\n",
       "      <th>V273</th>\n",
       "      <th>V274</th>\n",
       "      <th>V275</th>\n",
       "      <th>V276</th>\n",
       "      <th>V277</th>\n",
       "      <th>V278</th>\n",
       "      <th>V279</th>\n",
       "      <th>V280</th>\n",
       "    </tr>\n",
       "  </thead>\n",
       "  <tbody>\n",
       "    <tr>\n",
       "      <th>0</th>\n",
       "      <td>144.393008</td>\n",
       "      <td>115.714823</td>\n",
       "      <td>42.493365</td>\n",
       "      <td>24.211194</td>\n",
       "      <td>20.792030</td>\n",
       "      <td>31.301400</td>\n",
       "      <td>15.261249</td>\n",
       "      <td>11.463829</td>\n",
       "      <td>10.438957</td>\n",
       "      <td>10.160103</td>\n",
       "      <td>...</td>\n",
       "      <td>16.602995</td>\n",
       "      <td>14.777967</td>\n",
       "      <td>13.615912</td>\n",
       "      <td>14.194309</td>\n",
       "      <td>13.784148</td>\n",
       "      <td>15.715016</td>\n",
       "      <td>15.611628</td>\n",
       "      <td>16.334124</td>\n",
       "      <td>23.636502</td>\n",
       "      <td>32.203997</td>\n",
       "    </tr>\n",
       "    <tr>\n",
       "      <th>1</th>\n",
       "      <td>21.743496</td>\n",
       "      <td>27.824041</td>\n",
       "      <td>12.590967</td>\n",
       "      <td>10.181975</td>\n",
       "      <td>9.777823</td>\n",
       "      <td>10.144633</td>\n",
       "      <td>8.673208</td>\n",
       "      <td>7.440940</td>\n",
       "      <td>6.730975</td>\n",
       "      <td>6.393548</td>\n",
       "      <td>...</td>\n",
       "      <td>6.540165</td>\n",
       "      <td>6.273787</td>\n",
       "      <td>6.223952</td>\n",
       "      <td>6.223956</td>\n",
       "      <td>6.212245</td>\n",
       "      <td>6.268387</td>\n",
       "      <td>6.356335</td>\n",
       "      <td>6.478718</td>\n",
       "      <td>6.811262</td>\n",
       "      <td>7.332060</td>\n",
       "    </tr>\n",
       "  </tbody>\n",
       "</table>\n",
       "<p>2 rows × 280 columns</p>\n",
       "</div>"
      ],
      "text/plain": [
       "           V1          V2         V3         V4         V5         V6  \\\n",
       "0  144.393008  115.714823  42.493365  24.211194  20.792030  31.301400   \n",
       "1   21.743496   27.824041  12.590967  10.181975   9.777823  10.144633   \n",
       "\n",
       "          V7         V8         V9        V10  ...       V271       V272  \\\n",
       "0  15.261249  11.463829  10.438957  10.160103  ...  16.602995  14.777967   \n",
       "1   8.673208   7.440940   6.730975   6.393548  ...   6.540165   6.273787   \n",
       "\n",
       "        V273       V274       V275       V276       V277       V278  \\\n",
       "0  13.615912  14.194309  13.784148  15.715016  15.611628  16.334124   \n",
       "1   6.223952   6.223956   6.212245   6.268387   6.356335   6.478718   \n",
       "\n",
       "        V279       V280  \n",
       "0  23.636502  32.203997  \n",
       "1   6.811262   7.332060  \n",
       "\n",
       "[2 rows x 280 columns]"
      ]
     },
     "execution_count": 192,
     "metadata": {},
     "output_type": "execute_result"
    }
   ],
   "source": [
    "# Just to eyeball data\n",
    "Minmax.drop([\"V281\"],axis=1)"
   ]
  },
  {
   "cell_type": "code",
   "execution_count": 194,
   "metadata": {},
   "outputs": [
    {
     "data": {
      "image/png": "[encoded data removed]",
      "text/plain": [
       "<Figure size 432x288 with 1 Axes>"
      ]
     },
     "metadata": {},
     "output_type": "display_data"
    }
   ],
   "source": [
    "from sklearn.metrics import mean_squared_error\n",
    "import numpy as np\n",
    "\n",
    "def mean_absolute_percentage_error(y_pred,y_true):\n",
    "    y_true, y_pred = np.array(y_true), np.array(y_pred)\n",
    "    return np.mean(np.abs((y_true - y_pred) / y_true)) * 100\n",
    "\n",
    "# To denormalize\n",
    "def denormalize_pdt_act(nor_pdt,nor_act):\n",
    "    pdt_cor=[i for i in range(280)]\n",
    "    act_cor=[i for i in range(280)]\n",
    "    i=0\n",
    "    for col in Minmax.drop([\"V281\"],axis=1):\n",
    "        mn=Minmax[col][1]\n",
    "        mx=Minmax[col][0]\n",
    "        pdt_cor[i]=(nor_pdt[i]*(mx - mn))+mn\n",
    "        act_cor[i]=(nor_act[i]*(mx - mn))+mn\n",
    "        i=i+1\n",
    "    return pdt_cor,act_cor\n",
    "\n",
    "P,A=denormalize_pdt_act(pdt_1,act_1)\n",
    "plot_this(P,A)"
   ]
  },
  {
   "cell_type": "code",
   "execution_count": 196,
   "metadata": {},
   "outputs": [
    {
     "data": {
      "text/plain": [
       "(105.53639990925399, 10.27309105913376, 14.446374235539741)"
      ]
     },
     "execution_count": 196,
     "metadata": {},
     "output_type": "execute_result"
    }
   ],
   "source": [
    "import matplotlib.pyplot as plt\n",
    "import numpy\n",
    "\n",
    "#function to get errror for any pdt and act\n",
    "def get_error_pdt_act(pdt_err,act_err,printing=False):\n",
    "    if printing==True:\n",
    "        print(\"MSE Error:\",mean_squared_error(pdt_err,act_err))\n",
    "        print(\"RMSE Error:\",np.sqrt(mean_squared_error(pdt_err,act_err)))\n",
    "        print(\"MAPE Error:\",mean_absolute_percentage_error(pdt_err,act_err))\n",
    "    mse=mean_squared_error(pdt_err,act_err)\n",
    "    rmse=np.sqrt(mean_squared_error(pdt_err,act_err))\n",
    "    mape=mean_absolute_percentage_error(pdt_err,act_err)\n",
    "    return mse,rmse,mape\n",
    "\n",
    "get_error_pdt_act(P,A,False) \n"
   ]
  },
  {
   "cell_type": "code",
   "execution_count": 197,
   "metadata": {},
   "outputs": [
    {
     "name": "stdout",
     "output_type": "stream",
     "text": [
      "Good to go!\n",
      "\n",
      "\n",
      "Model - 3\n",
      "Overall MSE 43.70746085309494\n",
      "Overall RMSE 6.303040151202656\n",
      "Overall MAPE 18.567470278156073\n"
     ]
    }
   ],
   "source": [
    "#Iterating over all tensors in test set\n",
    "\n",
    "#Check if lengths match:\n",
    "if X1.shape[0]==y1.shape[0]==X2.shape[0]:\n",
    "    print(\"Good to go!\")\n",
    "else:\n",
    "    print(\"Lengths dont match!\")\n",
    "\n",
    "MSE_list=[]\n",
    "RMSE_list=[]\n",
    "MAPE_list=[]\n",
    "pdt_list=[]\n",
    "act_list=[]\n",
    "\n",
    "\n",
    "total_test=X1[~msk].shape[0]\n",
    "for ind in range(total_test):\n",
    "    norm_pdt,norm_act=get_pdt_and_act(ind)\n",
    "    denorm_pdt,denorm_act=denormalize_pdt_act(norm_pdt,norm_act)\n",
    "    pdt_list.append(denorm_pdt)\n",
    "    act_list.append(denorm_act)\n",
    "    MSE_list.append(get_error_pdt_act(denorm_pdt,denorm_act)[0])\n",
    "    RMSE_list.append(get_error_pdt_act(denorm_pdt,denorm_act)[1])\n",
    "    MAPE_list.append(get_error_pdt_act(denorm_pdt,denorm_act)[2])\n",
    "\n",
    "mean_MSE=sum(MSE_list)/len(MSE_list)\n",
    "mean_RMSE=sum(RMSE_list)/len(RMSE_list)\n",
    "mean_MAPE=sum(MAPE_list)/len(MAPE_list)    \n",
    "\n",
    "print(\"\\n\")\n",
    "print(\"Model - 3\")\n",
    "\n",
    "print(\"Overall MSE\",mean_MSE)\n",
    "print(\"Overall RMSE\",mean_RMSE)\n",
    "print(\"Overall MAPE\",mean_MAPE)"
   ]
  },
  {
   "cell_type": "code",
   "execution_count": 198,
   "metadata": {},
   "outputs": [
    {
     "data": {
      "text/plain": [
       "104"
      ]
     },
     "execution_count": 198,
     "metadata": {},
     "output_type": "execute_result"
    }
   ],
   "source": [
    "X1[~msk].shape[0]"
   ]
  },
  {
   "cell_type": "code",
   "execution_count": 199,
   "metadata": {},
   "outputs": [],
   "source": [
    "# Creating a dataframe out of the tt lists\n",
    "predicted_df=pd.DataFrame(pdt_list)\n",
    "actual_df=pd.DataFrame(act_list)"
   ]
  },
  {
   "cell_type": "code",
   "execution_count": 200,
   "metadata": {},
   "outputs": [],
   "source": [
    "#Saving the dataframes as csv tables.\n",
    "predicted_df.to_csv(\"Model3_pdt.csv\")\n",
    "actual_df.to_csv(\"Model3_act.csv\")"
   ]
  },
  {
   "cell_type": "code",
   "execution_count": null,
   "metadata": {},
   "outputs": [],
   "source": []
  },
  {
   "cell_type": "code",
   "execution_count": null,
   "metadata": {},
   "outputs": [],
   "source": []
  },
  {
   "cell_type": "code",
   "execution_count": null,
   "metadata": {},
   "outputs": [],
   "source": []
  },
  {
   "cell_type": "code",
   "execution_count": null,
   "metadata": {},
   "outputs": [],
   "source": []
  }
 ],
 "metadata": {
  "kernelspec": {
   "display_name": "Python 3",
   "language": "python",
   "name": "python3"
  },
  "language_info": {
   "codemirror_mode": {
    "name": "ipython",
    "version": 3
   },
   "file_extension": ".py",
   "mimetype": "text/x-python",
   "name": "python",
   "nbconvert_exporter": "python",
   "pygments_lexer": "ipython3",
   "version": "3.6.8"
  }
 },
 "nbformat": 4,
 "nbformat_minor": 2
}
