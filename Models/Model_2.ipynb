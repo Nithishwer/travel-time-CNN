{
 "cells": [
  {
   "cell_type": "code",
   "execution_count": 43,
   "metadata": {},
   "outputs": [],
   "source": [
    "#https://machinelearningmastery.com/how-to-develop-convolutional-neural-network-models-for-time-series-forecasting/"
   ]
  },
  {
   "cell_type": "code",
   "execution_count": 44,
   "metadata": {},
   "outputs": [],
   "source": [
    "#Configuring the IO structure:\n",
    "W_size=3\n",
    "st=4\n",
    "et=22\n",
    "Bin_size=1\n",
    "prediction_size=1\n",
    "n_features=282\n",
    "irows=int(W_size/Bin_size)\n",
    "icols=n_features\n",
    "orows=int(prediction_size/Bin_size)\n",
    "ocols=147\n",
    "nipd=int((et-st)/Bin_size)-irows-orows+1"
   ]
  },
  {
   "cell_type": "code",
   "execution_count": 45,
   "metadata": {},
   "outputs": [
    {
     "name": "stderr",
     "output_type": "stream",
     "text": [
      "/home/pennyworth/.local/lib/python3.6/site-packages/ipykernel_launcher.py:11: FutureWarning: Method .as_matrix will be removed in a future version. Use .values instead.\n",
      "  # This is added back by InteractiveShellApp.init_path()\n"
     ]
    }
   ],
   "source": [
    "# Data Preparation\n",
    "import pandas as pd\n",
    "\n",
    "# Selecting data based on bin size\n",
    "if Bin_size==0.5:\n",
    "    df2 = pd.read_csv('/home/pennyworth/Documents/Bus/Data/from_R_19B_30min_n&f.csv',header =None)\n",
    "if Bin_size==1:\n",
    "    df2 = pd.read_csv('/home/pennyworth/Documents/Bus/Data/from_R_19B_1Hr_n&f.csv',header =None)\n",
    "    \n",
    "#Converting dataframe into matrix    \n",
    "dataset=df2.as_matrix()"
   ]
  },
  {
   "cell_type": "code",
   "execution_count": 46,
   "metadata": {},
   "outputs": [
    {
     "name": "stdout",
     "output_type": "stream",
     "text": [
      "Import successful!\n"
     ]
    }
   ],
   "source": [
    "#Checking if the import is good to go:\n",
    "if len(dataset)-1==34*18/Bin_size:\n",
    "    print(\"Import successful!\")"
   ]
  },
  {
   "cell_type": "code",
   "execution_count": 47,
   "metadata": {},
   "outputs": [
    {
     "name": "stdout",
     "output_type": "stream",
     "text": [
      "3 1\n"
     ]
    },
    {
     "data": {
      "text/plain": [
       "array([], shape=(0, 282), dtype=float64)"
      ]
     },
     "execution_count": 47,
     "metadata": {},
     "output_type": "execute_result"
    }
   ],
   "source": [
    "print(irows,orows)\n",
    "dataset[700:714]"
   ]
  },
  {
   "cell_type": "code",
   "execution_count": 48,
   "metadata": {
    "scrolled": false
   },
   "outputs": [
    {
     "name": "stdout",
     "output_type": "stream",
     "text": [
      "IO Matrix creation successful!\n"
     ]
    }
   ],
   "source": [
    "# multivariate multi-step data preparation\n",
    "import numpy as np\n",
    "from numpy import array\n",
    "from numpy import hstack\n",
    "from keras.models import Sequential\n",
    "from keras.layers import LSTM\n",
    "from keras.layers import Dense\n",
    "from keras.layers import RepeatVector\n",
    "from keras.layers import TimeDistributed\n",
    "\n",
    "#Split a multivariate sequence into samples and put them into X and y\n",
    "X, y = list(), list()\n",
    "def split_sequences(sequences, n_steps_in, n_steps_out):\n",
    "    #print(n_steps_in,n_steps_out)\n",
    "    for i in range(len(sequences)):\n",
    "        # find the end of this pattern\n",
    "        end_ix = i + n_steps_in\n",
    "        out_end_ix = end_ix + n_steps_out\n",
    "        # check if we are beyond the dataset\n",
    "        if out_end_ix > len(sequences):\n",
    "            break\n",
    "        # gather input and output parts of the pattern\n",
    "        seq_x, seq_y = sequences[i:end_ix, :], sequences[end_ix:out_end_ix, :-2]\n",
    "        X.append(seq_x)\n",
    "        y.append(seq_y)\n",
    "    return None\n",
    "\n",
    "n_steps_in, n_steps_out = int(irows), int(orows)\n",
    "rows_pday=int((et-st)/Bin_size)\n",
    "\n",
    "i=1\n",
    "# convert into input/output\n",
    "# Need to change to 34 or 35 or whatever when nrows in dataset change\n",
    "for i in range(1,35):\n",
    "    todays_df=dataset[(i-1)*rows_pday+1:i*rows_pday+1]\n",
    "    split_sequences(todays_df, n_steps_in, n_steps_out)\n",
    "\n",
    "\n",
    "#Check if the io sample count is valid:\n",
    "if len(X[1][1])==n_features and nipd*34==len(X)==len(y) and len(y[1][0])==280:\n",
    "        print(\"IO Matrix creation successful!\")\n",
    "else:\n",
    "    print(\"IO Matrix creation unsuccessful!\",len(X[1][1])==n_features,nipd*34==len(X)==len(y),len(y[1][0])==280)"
   ]
  },
  {
   "cell_type": "code",
   "execution_count": 49,
   "metadata": {},
   "outputs": [
    {
     "data": {
      "text/plain": [
       "array([[0.24045624, 0.23950137, 0.38706875, ..., 0.0918801 , 1.        ,\n",
       "        0.02313167],\n",
       "       [0.21217305, 0.28343602, 0.50255008, ..., 0.09123512, 1.        ,\n",
       "        0.07651246],\n",
       "       [0.05673372, 0.16196049, 0.18025789, ..., 0.03979822, 1.        ,\n",
       "        0.14190391],\n",
       "       ...,\n",
       "       [0.11917432, 0.46284269, 0.09528498, ..., 0.14025146, 1.        ,\n",
       "        0.81672598],\n",
       "       [0.29927743, 0.78598557, 0.8412775 , ..., 0.28696058, 1.        ,\n",
       "        0.85913405],\n",
       "       [0.24406702, 0.58756366, 0.57368792, ..., 0.24887576, 1.        ,\n",
       "        0.93060498]])"
      ]
     },
     "execution_count": 49,
     "metadata": {},
     "output_type": "execute_result"
    }
   ],
   "source": [
    "todays_df"
   ]
  },
  {
   "cell_type": "code",
   "execution_count": 50,
   "metadata": {},
   "outputs": [
    {
     "data": {
      "text/plain": [
       "array([   1,    2,    3,    4,    5,    6,    7,    8,    9,   10,   11,\n",
       "         12,   13,   14,   15,   16,   17,   18,   19,   20,   21,   22,\n",
       "         23,   24,   25,   26,   27,   28,   29,   30,   31,   32,   33,\n",
       "         34,   35,   36,   37,   38,   39,   40,   41,   42,   43,   44,\n",
       "         45,   46,   47,   48,   49,   50,   51,   52,   53,   54,   55,\n",
       "         56,   57,   58,   59,   60,   61,   62,   63,   64,   65,   66,\n",
       "         67,   68,   69,   70,   71,   72,   73,   74,   75,   76,   77,\n",
       "         78,   79,   80,   81,   82,   83,   84,   85,   86,   87,   88,\n",
       "         89,   90,   91,   92,   93,   94,   95,   96,   97,   98,   99,\n",
       "        100,  101,  102,  103,  104,  105,  106,  107,  108,  109,  110,\n",
       "        111,  112,  113,  114,  115,  116,  117,  118,  119,  120,  121,\n",
       "        122,  123,  124,  125,  126,  127,  128,  129,  130,  131,  132,\n",
       "        133,  134,  135,  136,  137,  138,  139,  140,  141,  142,  143,\n",
       "        144,  145,  146,  147,  148,  149,  150,  151,  152,  153,  154,\n",
       "        155,  156,  157,  158,  159,  160,  161,  162,  163,  164,  165,\n",
       "        166,  167,  168,  169,  170,  171,  172,  173,  174,  175,  176,\n",
       "        177,  178,  179,  180,  181,  182,  183,  184,  185,  186,  187,\n",
       "        188,  189,  190,  191,  192,  193,  194,  195,  196,  197,  198,\n",
       "        199,  200,  201,  202,  203,  204,  205,  206,  207,  208,  209,\n",
       "        210,  211,  212,  213,  214,  215,  216,  217,  218,  219,  220,\n",
       "        221,  222,  223,  224,  225,  226,  227,  228,  229,  230,  231,\n",
       "        232,  233,  234,  235,  236,  237,  238,  239,  240,  241,  242,\n",
       "        243,  244,  245,  246,  247,  248,  249,  250,  251,  252,  253,\n",
       "        254,  255,  256,  257,  258,  259,  260,  261,  262,  263,  264,\n",
       "        265,  266,  267,  268,  269,  270,  271,  272,  273,  274,  275,\n",
       "        276,  277,  278,  279,  280,  281,  282,  283,  284,  285,  286,\n",
       "        287,  288,  289,  290,  291,  292,  293,  294,  295,  296,  297,\n",
       "        298,  299,  300,  301,  302,  303,  304,  305,  306,  307,  308,\n",
       "        309,  310,  311,  312,  313,  314,  315,  316,  317,  318,  319,\n",
       "        320,  321,  322,  323,  324,  325,  326,  327,  328,  329,  330,\n",
       "        331,  332,  333,  334,  335,  336,  337,  338,  339,  340,  341,\n",
       "        342,  343,  344,  345,  346,  347,  348,  349,  350,  351,  352,\n",
       "        353,  354,  355,  356,  357,  358,  359,  360,  361,  362,  363,\n",
       "        364,  365,  366,  367,  368,  369,  370,  371,  372,  373,  374,\n",
       "        375,  376,  377,  378,  379,  380,  381,  382,  383,  384,  385,\n",
       "        386,  387,  388,  389,  390,  391,  392,  393,  394,  395,  396,\n",
       "        397,  398,  399,  400,  401,  402,  403,  404,  405,  406,  407,\n",
       "        408,  409,  410,  411,  412,  413,  414,  415,  416,  417,  418,\n",
       "        419,  420,  421,  422,  423,  424,  425,  426,  427,  428,  429,\n",
       "        430,  431,  432,  433,  434,  435,  436,  437,  438,  439,  440,\n",
       "        441,  442,  443,  444,  445,  446,  447,  448,  449,  450,  451,\n",
       "        452,  453,  454,  455,  456,  457,  458,  459,  460,  461,  462,\n",
       "        463,  464,  465,  466,  467,  468,  469,  470,  471,  472,  473,\n",
       "        474,  475,  476,  477,  478,  479,  480,  481,  482,  483,  484,\n",
       "        485,  486,  487,  488,  489,  490,  491,  492,  493,  494,  495,\n",
       "        496,  497,  498,  499,  500,  501,  502,  503,  504,  505,  506,\n",
       "        507,  508,  509,  510,  511,  512,  513,  514,  515,  516,  517,\n",
       "        518,  519,  520,  521,  522,  523,  524,  525,  526,  527,  528,\n",
       "        529,  530,  531,  532,  533,  534,  535,  536,  537,  538,  539,\n",
       "        540,  541,  542,  543,  544,  545,  546,  547,  548,  549,  550,\n",
       "        551,  552,  553,  554,  555,  556,  557,  558,  559,  560,  561,\n",
       "        562,  563,  564,  565,  566,  567,  568,  569,  570,  571,  572,\n",
       "        573,  574,  575,  576,  577,  578,  579,  580,  581,  582,  583,\n",
       "        584,  585,  586,  587,  588,  589,  590,  591,  592,  593,  594,\n",
       "        595,  596,  597,  598,  599,  600,  601,  602,  603,  604,  605,\n",
       "        606,  607,  608,  609,  610,  611,  612,  613,  614,  615,  616,\n",
       "        617,  618,  619,  620,  621,  622,  623,  624,  625,  626,  627,\n",
       "        628,  629,  630,  631,  632,  633,  634,  635,  636,  637,  638,\n",
       "        639,  640,  641,  642,  643,  644,  645,  646,  647,  648,  649,\n",
       "        650,  651,  652,  653,  654,  655,  656,  657,  658,  659,  660,\n",
       "        661,  662,  663,  664,  665,  666,  667,  668,  669,  670,  671,\n",
       "        672,  673,  674,  675,  676,  677,  678,  679,  680,  681,  682,\n",
       "        683,  684,  685,  686,  687,  688,  689,  690,  691,  692,  693,\n",
       "        694,  695,  696,  697,  698,  699,  700,  701,  702,  703,  704,\n",
       "        705,  706,  707,  708,  709,  710,  711,  712,  713,  714,  715,\n",
       "        716,  717,  718,  719,  720,  721,  722,  723,  724,  725,  726,\n",
       "        727,  728,  729,  730,  731,  732,  733,  734,  735,  736,  737,\n",
       "        738,  739,  740,  741,  742,  743,  744,  745,  746,  747,  748,\n",
       "        749,  750,  751,  752,  753,  754,  755,  756,  757,  758,  759,\n",
       "        760,  761,  762,  763,  764,  765,  766,  767,  768,  769,  770,\n",
       "        771,  772,  773,  774,  775,  776,  777,  778,  779,  780,  781,\n",
       "        782,  783,  784,  785,  786,  787,  788,  789,  790,  791,  792,\n",
       "        793,  794,  795,  796,  797,  798,  799,  800,  801,  802,  803,\n",
       "        804,  805,  806,  807,  808,  809,  810,  811,  812,  813,  814,\n",
       "        815,  816,  817,  818,  819,  820,  821,  822,  823,  824,  825,\n",
       "        826,  827,  828,  829,  830,  831,  832,  833,  834,  835,  836,\n",
       "        837,  838,  839,  840,  841,  842,  843,  844,  845,  846,  847,\n",
       "        848,  849,  850,  851,  852,  853,  854,  855,  856,  857,  858,\n",
       "        859,  860,  861,  862,  863,  864,  865,  866,  867,  868,  869,\n",
       "        870,  871,  872,  873,  874,  875,  876,  877,  878,  879,  880,\n",
       "        881,  882,  883,  884,  885,  886,  887,  888,  889,  890,  891,\n",
       "        892,  893,  894,  895,  896,  897,  898,  899,  900,  901,  902,\n",
       "        903,  904,  905,  906,  907,  908,  909,  910,  911,  912,  913,\n",
       "        914,  915,  916,  917,  918,  919,  920,  921,  922,  923,  924,\n",
       "        925,  926,  927,  928,  929,  930,  931,  932,  933,  934,  935,\n",
       "        936,  937,  938,  939,  940,  941,  942,  943,  944,  945,  946,\n",
       "        947,  948,  949,  950,  951,  952,  953,  954,  955,  956,  957,\n",
       "        958,  959,  960,  961,  962,  963,  964,  965,  966,  967,  968,\n",
       "        969,  970,  971,  972,  973,  974,  975,  976,  977,  978,  979,\n",
       "        980,  981,  982,  983,  984,  985,  986,  987,  988,  989,  990,\n",
       "        991,  992,  993,  994,  995,  996,  997,  998,  999, 1000])"
      ]
     },
     "execution_count": 50,
     "metadata": {},
     "output_type": "execute_result"
    }
   ],
   "source": [
    "seq=np.array([i for i in range(1,1001)])\n",
    "seq_list=seq.reshape(100,10)\n",
    "seq"
   ]
  },
  {
   "cell_type": "code",
   "execution_count": 51,
   "metadata": {},
   "outputs": [
    {
     "name": "stdout",
     "output_type": "stream",
     "text": [
      "Na Matrices filtered out sucessfuly!\n"
     ]
    }
   ],
   "source": [
    "#Filtering the Na IO matrices out\n",
    "from math import isnan\n",
    "import numpy as np\n",
    "X_fil=np.array(X)\n",
    "y_fil=np.array(y)\n",
    "del_index=[]\n",
    "\n",
    "# Noting down the index of Na matricesin del_index \n",
    "for i in range(len(X_fil)):\n",
    "    del_index.append(np.any(np.isnan(X_fil[i])) or np.any(np.isnan(y_fil[i])))\n",
    "\n",
    "# Filtering out the Na matrices from y_fil and X_fil by indexing using a list\n",
    "y_fil=y_fil[list(~np.array(del_index))]\n",
    "X_fil=X_fil[list(~np.array(del_index))]\n",
    "\n",
    "# Check if the filtering is successful:\n",
    "Na_count=0\n",
    "for i in range(len(X_fil)):\n",
    "    if np.any(np.isnan(y_fil[i]))==True & np.any(np.isnan(X_fil[i]))==True:\n",
    "        Na_count=Na_count+1\n",
    "if Na_count==0:\n",
    "    print(\"Na Matrices filtered out sucessfuly!\")\n",
    "# y=np.array(y)\n",
    "# for el in y[list(~np.array(deathlist))]:\n",
    "#     print(np.any(np.isnan(Xtrial[i])))\n"
   ]
  },
  {
   "cell_type": "code",
   "execution_count": 52,
   "metadata": {},
   "outputs": [
    {
     "name": "stdout",
     "output_type": "stream",
     "text": [
      "510  I/O pairs available.\n"
     ]
    }
   ],
   "source": [
    "# Print number of IO Pairs available:\n",
    "print(len(y_fil),\" I/O pairs available.\")"
   ]
  },
  {
   "cell_type": "code",
   "execution_count": 53,
   "metadata": {},
   "outputs": [],
   "source": [
    "# Flatten output\n",
    "n_output = y_fil.shape[1] * y_fil.shape[2]\n",
    "y_fil = y_fil.reshape((y_fil.shape[0], n_output))"
   ]
  },
  {
   "cell_type": "code",
   "execution_count": 54,
   "metadata": {},
   "outputs": [
    {
     "name": "stdout",
     "output_type": "stream",
     "text": [
      "Good to go!\n"
     ]
    }
   ],
   "source": [
    "# Check the number of features\n",
    "if n_features == X_fil.shape[2]:\n",
    "    print(\"Good to go!\")"
   ]
  },
  {
   "cell_type": "code",
   "execution_count": 55,
   "metadata": {},
   "outputs": [
    {
     "data": {
      "text/plain": [
       "array([0.00000000e+00, 1.86543419e-02, 1.08914857e-01, 1.83544514e-01,\n",
       "       1.71919321e-01, 1.65658966e-01, 4.38183864e-01, 6.45631347e-01,\n",
       "       9.12602057e-01, 1.00000000e+00, 1.00000000e+00, 1.00000000e+00,\n",
       "       2.85282818e-01, 2.82965558e-01, 1.00000000e+00, 1.00000000e+00,\n",
       "       1.00000000e+00, 1.00000000e+00, 2.64321630e-01, 1.22309486e-01,\n",
       "       2.04509409e-01, 2.66856082e-01, 6.60065227e-01, 5.26189395e-01,\n",
       "       1.76680648e-01, 2.09703220e-01, 2.92368416e-01, 4.08191470e-01,\n",
       "       4.31609216e-01, 4.86386397e-01, 5.59498008e-01, 6.38697027e-01,\n",
       "       7.34000134e-01, 7.18822694e-01, 5.96487195e-01, 5.82187077e-01,\n",
       "       6.56233117e-01, 6.36347984e-01, 5.02851892e-01, 4.10973889e-01,\n",
       "       9.80020921e-02, 9.82909921e-02, 4.05132638e-01, 5.52442751e-01,\n",
       "       6.55613883e-01, 7.29110070e-01, 7.19170403e-01, 3.14989498e-01,\n",
       "       1.66410943e-01, 5.01613545e-01, 5.71713549e-01, 6.94405489e-01,\n",
       "       5.44127695e-01, 3.62969269e-01, 1.44834353e-01, 2.55702038e-01,\n",
       "       7.35222764e-01, 1.00000000e+00, 1.00000000e+00, 7.98002416e-01,\n",
       "       4.48746247e-01, 2.12630420e-01, 9.20893900e-02, 5.36066650e-02,\n",
       "       1.09017154e-01, 1.26746121e-01, 7.68515540e-02, 1.14245081e-01,\n",
       "       4.28927205e-01, 1.20607848e-01, 6.66954419e-02, 2.87041990e-02,\n",
       "       0.00000000e+00, 0.00000000e+00, 2.26779894e-02, 1.37826127e-02,\n",
       "       1.54711963e-02, 4.96818268e-02, 6.07680119e-02, 7.96408053e-02,\n",
       "       8.90776791e-02, 8.61861132e-02, 7.21383681e-02, 3.93765674e-02,\n",
       "       6.70344829e-02, 1.23922321e-01, 1.25241378e-01, 5.62408753e-02,\n",
       "       7.33731785e-02, 1.15671539e-01, 1.53700113e-01, 2.27518994e-01,\n",
       "       2.43518808e-01, 2.13714654e-01, 2.09087297e-01, 2.31122334e-01,\n",
       "       2.21017256e-01, 2.13688819e-01, 2.12534797e-01, 6.08851135e-02,\n",
       "       4.35601086e-01, 3.11294668e-01, 3.35327751e-01, 8.63132664e-02,\n",
       "       2.47051913e-01, 3.28061979e-01, 2.12557325e-01, 1.61826203e-01,\n",
       "       1.50702029e-01, 1.85292636e-01, 2.75878926e-01, 3.07526193e-01,\n",
       "       2.56580582e-01, 1.39068688e-01, 8.14112876e-01, 2.47795928e-01,\n",
       "       3.29550367e-01, 2.33479185e-01, 1.57319281e-01, 9.10260485e-02,\n",
       "       9.96564124e-02, 2.18684452e-02, 5.06730656e-02, 1.75759216e-01,\n",
       "       1.29634901e-01, 1.06680402e-01, 1.05551102e-01, 1.16012354e-01,\n",
       "       6.60909240e-02, 2.19673405e-02, 3.04239933e-03, 4.60498595e-04,\n",
       "       4.12963931e-03, 1.46766710e-01, 6.17355651e-01, 3.30013958e-01,\n",
       "       1.05876150e-01, 7.41399010e-02, 4.39539641e-02, 2.67605114e-01,\n",
       "       1.00000000e+00, 6.29442161e-01, 2.25390268e-01, 2.20372175e-01,\n",
       "       2.02046131e-01, 5.57345531e-01, 2.69486078e-01, 2.06230025e-01,\n",
       "       2.32433573e-01, 1.28143770e-01, 9.94994793e-02, 3.62668549e-01,\n",
       "       3.06491818e-01, 3.79810023e-01, 5.60062472e-01, 6.57194352e-01,\n",
       "       6.43813255e-01, 6.23243430e-01, 4.97399597e-01, 3.18076336e-01,\n",
       "       7.79296319e-02, 9.62632868e-02, 1.48155057e-01, 3.30991988e-02,\n",
       "       1.37460806e-02, 6.97688186e-03, 7.52822083e-02, 6.17247481e-02,\n",
       "       1.00000000e+00, 4.05949599e-01, 3.30975585e-01, 7.66327382e-02,\n",
       "       1.78512084e-01, 2.57350944e-01, 2.40390762e-01, 2.11784854e-01,\n",
       "       3.41131604e-01, 7.06683096e-02, 2.61473029e-01, 4.30599591e-01,\n",
       "       3.99323742e-01, 3.45712553e-01, 5.28261004e-01, 5.75045114e-01,\n",
       "       4.12402831e-01, 3.89059308e-01, 2.59522896e-01, 8.99269591e-03,\n",
       "       1.49582536e-02, 1.75476649e-01, 1.28665641e-01, 2.78978987e-02,\n",
       "       3.24259575e-02, 6.81367332e-02, 7.67658110e-02, 0.00000000e+00,\n",
       "       0.00000000e+00, 0.00000000e+00, 9.93278025e-02, 3.84490975e-01,\n",
       "       5.41451004e-01, 4.86210566e-02, 0.00000000e+00, 2.04664947e-02,\n",
       "       6.93732070e-04, 0.00000000e+00, 0.00000000e+00, 2.78707386e-01,\n",
       "       9.08887269e-02, 1.38519207e-02, 1.83343500e-01, 7.21719577e-01,\n",
       "       9.12404152e-01, 9.55504128e-01, 1.00000000e+00, 1.00000000e+00,\n",
       "       1.00000000e+00, 1.00000000e+00, 7.71735833e-01, 7.05905483e-01,\n",
       "       7.02650248e-01, 6.79836909e-01, 4.78588645e-01, 1.37485649e-01,\n",
       "       8.42278520e-02, 1.40337971e-02, 5.70038661e-03, 3.19241946e-02,\n",
       "       1.15950614e-02, 7.26163884e-03, 5.18956924e-03, 3.31336066e-03,\n",
       "       5.67093128e-03, 2.39863095e-01, 3.86492593e-01, 1.00000000e+00,\n",
       "       0.00000000e+00, 0.00000000e+00, 0.00000000e+00, 0.00000000e+00,\n",
       "       2.77939011e-01, 5.06397918e-01, 5.37146951e-01, 4.06915433e-01,\n",
       "       1.59107917e-01, 3.11005647e-01, 1.00000000e+00, 1.00000000e+00,\n",
       "       1.00000000e+00, 1.00000000e+00, 8.38676805e-01, 3.73606182e-01,\n",
       "       4.51363648e-01, 3.59620344e-01, 1.26944482e-01, 1.92321538e-02,\n",
       "       0.00000000e+00, 1.81909182e-01, 6.25312659e-02, 3.62599194e-02,\n",
       "       3.51204179e-02, 4.39881413e-02, 2.84742353e-01, 1.38179919e-01,\n",
       "       3.94391809e-02, 0.00000000e+00, 0.00000000e+00, 7.40546114e-02,\n",
       "       1.00000000e+00, 1.00000000e+00, 5.38629157e-01, 4.09508343e-01,\n",
       "       3.55025203e-01, 3.26637922e-01, 3.45499793e-01, 3.71496000e-01,\n",
       "       4.29559703e-01, 3.34779547e-01, 1.50080145e-01, 7.91964914e-02,\n",
       "       0.00000000e+00, 4.80427046e-02])"
      ]
     },
     "execution_count": 55,
     "metadata": {},
     "output_type": "execute_result"
    }
   ],
   "source": [
    "X_fil[0][0]"
   ]
  },
  {
   "cell_type": "code",
   "execution_count": 56,
   "metadata": {},
   "outputs": [
    {
     "name": "stdout",
     "output_type": "stream",
     "text": [
      "Dataset splitting done!\n"
     ]
    }
   ],
   "source": [
    "# Splitting into train and test sets\n",
    "test_size=7\n",
    "train_end=(34-test_size)*(rows_pday-irows-orows+1)\n",
    "msk=[]\n",
    "for i in range(34*(rows_pday-irows-orows+1)):\n",
    "    if i<=train_end:\n",
    "        msk.append(True)\n",
    "    else:\n",
    "        msk.append(False)\n",
    "msk=np.asarray(msk)\n",
    "X_train = X_fil[msk]\n",
    "y_train = y_fil[msk]\n",
    "X_test = X_fil[~msk]\n",
    "y_test = y_fil[~msk]\n",
    "print(\"Dataset splitting done!\")"
   ]
  },
  {
   "cell_type": "code",
   "execution_count": 57,
   "metadata": {
    "scrolled": true
   },
   "outputs": [
    {
     "name": "stdout",
     "output_type": "stream",
     "text": [
      "Number or epochs: 10\n",
      "Number of input features: 282\n",
      "Number of output features: 280\n",
      "Bin size: 1\n",
      "Window size: 3\n",
      "Number of I/O pairs available: 510\n",
      "104/104 [==============================] - 0s 55us/step\n",
      "Model Mape loss: 2806901.40625\n",
      "104/104 [==============================] - 0s 93us/step\n",
      "Model MSE loss (Minimized): 0.0358154598910075\n",
      "104/104 [==============================] - 0s 60us/step\n",
      "RMSE loss: 0.18924972890603436\n"
     ]
    }
   ],
   "source": [
    "# multivariate output multi-step 1d cnn example\n",
    "from numpy.random import seed\n",
    "seed(1)\n",
    "from tensorflow import set_random_seed\n",
    "set_random_seed(2)\n",
    "from numpy import array\n",
    "from numpy import hstack\n",
    "from keras.models import Sequential\n",
    "from keras.layers import Dense\n",
    "from keras.layers import Flatten\n",
    "from keras.layers.convolutional import Conv1D\n",
    "from keras.layers.convolutional import MaxPooling1D\n",
    "\n",
    "# define model\n",
    "model = Sequential()\n",
    "model.add(Conv1D(filters=64, kernel_size=2, activation='relu', input_shape=(irows, n_features)))\n",
    "model.add(MaxPooling1D(pool_size=2))\n",
    "model.add(Flatten())\n",
    "model.add(Dense(500, activation='relu'))\n",
    "model.add(Dense(n_output))\n",
    "model.compile(optimizer='adam', loss=['mse'],metrics=[\"mape\"])\n",
    "epochno=10\n",
    "# fit model\n",
    "history=model.fit(X_train, y_train, epochs=epochno, verbose=0, validation_data = (X_test, y_test))\n",
    "print(\"Number or epochs:\",epochno)\n",
    "print(\"Number of input features:\",n_features)\n",
    "print(\"Number of output features:\",n_output)\n",
    "print(\"Bin size:\",Bin_size)\n",
    "print(\"Window size:\",W_size)\n",
    "print(\"Number of I/O pairs available:\",len(y_fil))\n",
    "print(\"Model Mape loss:\",model.evaluate(X_test,y_test)[1])\n",
    "print(\"Model MSE loss (Minimized):\",model.evaluate(X_test,y_test)[0])\n",
    "print(\"RMSE loss:\",np.sqrt(model.evaluate(X_test,y_test)[0]))\n",
    "\n",
    "# Demonstrate Prediction\n",
    "# x_input = array([[60, 65, 125], [70, 75, 145], [80, 85, 165]])\n",
    "# x_input = x_input.reshape((1, n_steps_in, n_features))\n",
    "# yhat = model.predict(x_input, verbose=0)\n",
    "# print(yhat)"
   ]
  },
  {
   "cell_type": "code",
   "execution_count": 58,
   "metadata": {},
   "outputs": [
    {
     "name": "stdout",
     "output_type": "stream",
     "text": [
      "dict_keys(['val_loss', 'val_mean_absolute_percentage_error', 'loss', 'mean_absolute_percentage_error'])\n"
     ]
    },
    {
     "data": {
      "image/png": "[encoded data removed]",
      "text/plain": [
       "<Figure size 432x288 with 1 Axes>"
      ]
     },
     "metadata": {},
     "output_type": "display_data"
    }
   ],
   "source": [
    "import matplotlib.pyplot as plt\n",
    "import numpy\n",
    "%matplotlib inline\n",
    "\n",
    "print(history.history.keys())\n",
    "# summarize history for loss\n",
    "plt.plot(history.history['loss'])\n",
    "plt.plot(history.history['val_loss'])\n",
    "plt.title('Model Loss (MSE)')\n",
    "plt.ylabel('Loss')\n",
    "plt.xlabel('Epoch')\n",
    "plt.legend(['Train', 'Test'], loc='upper right')\n",
    "#axes = plt.gca()\n",
    "#axes.set_ylim([7500,0.2*100000])\n",
    "#axes.set_xlim([1500,3000])\n",
    "plt.show()"
   ]
  },
  {
   "cell_type": "code",
   "execution_count": 59,
   "metadata": {},
   "outputs": [],
   "source": [
    "#history=model.fit(X, y, epochs=3000, verbose=1)\n",
    "#model.evaluate(X,y)"
   ]
  },
  {
   "cell_type": "code",
   "execution_count": 60,
   "metadata": {},
   "outputs": [],
   "source": [
    "# import random\n",
    "# #from plotnine import *\n",
    "# rn=random.randint(1,150)\n",
    "# # demonstrate prediction\n",
    "# x_input = X[rn]\n",
    "# y_output = y[rn]\n",
    "# x_input = x_input.reshape((1, n_steps, n_features))\n",
    "# yhat = model.predict(x_input, verbose=1)\n",
    "# pdt=yhat[0]\n",
    "# act=y_output\n",
    "# print(len(pdt))\n",
    "# print(len(act))\n",
    "# #library(ggplot2)\n",
    "# #ggplot(, aes(x = drat, y = mpg)) + geom_point()"
   ]
  },
  {
   "cell_type": "code",
   "execution_count": 1,
   "metadata": {},
   "outputs": [
    {
     "ename": "NameError",
     "evalue": "name 'X_test' is not defined",
     "output_type": "error",
     "traceback": [
      "\u001b[0;31m---------------------------------------------------------------------------\u001b[0m",
      "\u001b[0;31mNameError\u001b[0m                                 Traceback (most recent call last)",
      "\u001b[0;32m<ipython-input-1-7d5c43c1ffbc>\u001b[0m in \u001b[0;36m<module>\u001b[0;34m()\u001b[0m\n\u001b[1;32m     18\u001b[0m         \u001b[0mprint\u001b[0m\u001b[0;34m(\u001b[0m\u001b[0;34m\"ERROR!\"\u001b[0m\u001b[0;34m)\u001b[0m\u001b[0;34m\u001b[0m\u001b[0;34m\u001b[0m\u001b[0m\n\u001b[1;32m     19\u001b[0m     \u001b[0;32mreturn\u001b[0m \u001b[0mpdt\u001b[0m\u001b[0;34m,\u001b[0m\u001b[0mact\u001b[0m\u001b[0;34m\u001b[0m\u001b[0;34m\u001b[0m\u001b[0m\n\u001b[0;32m---> 20\u001b[0;31m \u001b[0mnorm_pdt\u001b[0m\u001b[0;34m,\u001b[0m\u001b[0mnorm_act\u001b[0m\u001b[0;34m=\u001b[0m\u001b[0mget_pdt_act\u001b[0m\u001b[0;34m(\u001b[0m\u001b[0;36m0\u001b[0m\u001b[0;34m)\u001b[0m\u001b[0;34m\u001b[0m\u001b[0;34m\u001b[0m\u001b[0m\n\u001b[0m",
      "\u001b[0;32m<ipython-input-1-7d5c43c1ffbc>\u001b[0m in \u001b[0;36mget_pdt_act\u001b[0;34m(ind)\u001b[0m\n\u001b[1;32m      8\u001b[0m     \u001b[0;31m#print(ind)\u001b[0m\u001b[0;34m\u001b[0m\u001b[0;34m\u001b[0m\u001b[0;34m\u001b[0m\u001b[0m\n\u001b[1;32m      9\u001b[0m     \u001b[0;31m# Demonstrate Prediction\u001b[0m\u001b[0;34m\u001b[0m\u001b[0;34m\u001b[0m\u001b[0;34m\u001b[0m\u001b[0m\n\u001b[0;32m---> 10\u001b[0;31m     \u001b[0mx_input\u001b[0m \u001b[0;34m=\u001b[0m \u001b[0mX_test\u001b[0m\u001b[0;34m[\u001b[0m\u001b[0mind\u001b[0m\u001b[0;34m]\u001b[0m\u001b[0;34m\u001b[0m\u001b[0;34m\u001b[0m\u001b[0m\n\u001b[0m\u001b[1;32m     11\u001b[0m     \u001b[0mx_input\u001b[0m \u001b[0;34m=\u001b[0m \u001b[0mx_input\u001b[0m\u001b[0;34m.\u001b[0m\u001b[0mreshape\u001b[0m\u001b[0;34m(\u001b[0m\u001b[0;34m(\u001b[0m\u001b[0;36m1\u001b[0m\u001b[0;34m,\u001b[0m \u001b[0mirows\u001b[0m\u001b[0;34m,\u001b[0m \u001b[0mn_features\u001b[0m\u001b[0;34m)\u001b[0m\u001b[0;34m)\u001b[0m\u001b[0;34m\u001b[0m\u001b[0;34m\u001b[0m\u001b[0m\n\u001b[1;32m     12\u001b[0m     \u001b[0myhat\u001b[0m \u001b[0;34m=\u001b[0m \u001b[0mmodel\u001b[0m\u001b[0;34m.\u001b[0m\u001b[0mpredict\u001b[0m\u001b[0;34m(\u001b[0m\u001b[0mx_input\u001b[0m\u001b[0;34m,\u001b[0m \u001b[0mverbose\u001b[0m\u001b[0;34m=\u001b[0m\u001b[0;36m0\u001b[0m\u001b[0;34m)\u001b[0m\u001b[0;34m\u001b[0m\u001b[0;34m\u001b[0m\u001b[0m\n",
      "\u001b[0;31mNameError\u001b[0m: name 'X_test' is not defined"
     ]
    }
   ],
   "source": [
    "# Plot a random Prediction vs actual travel time\n",
    "import matplotlib.pyplot as plt\n",
    "import numpy as np\n",
    "np.random.seed(100)\n",
    "\n",
    "#function to get the act and pdt values of a specified sample in the test set\n",
    "def get_pdt_act(ind):\n",
    "    #print(ind)\n",
    "    # Demonstrate Prediction\n",
    "    x_input = X_test[ind]\n",
    "    x_input = x_input.reshape((1, irows, n_features))\n",
    "    yhat = model.predict(x_input, verbose=0)\n",
    "    y_output = y_test[ind]\n",
    "    #print(len(yhat[0]))\n",
    "    pdt=yhat[0]\n",
    "    act=y_output\n",
    "    if len(pdt)!=len(act):\n",
    "        print(\"ERROR!\")\n",
    "    return pdt,act\n",
    "norm_pdt,norm_act=get_pdt_act(0)"
   ]
  },
  {
   "cell_type": "code",
   "execution_count": null,
   "metadata": {},
   "outputs": [],
   "source": [
    "#print(dataset[4][:5])\n",
    "print(\"\\n\\n \")\n",
    "print(norm_act[:5])\n",
    "#print(y_test[1][:5])\n",
    "\n",
    "for i in range(100):\n",
    "    if (norm_act==dataset[i][:280])[0]==True:\n",
    "        print(i)\n",
    "        print(dataset[i][:5])"
   ]
  },
  {
   "cell_type": "code",
   "execution_count": null,
   "metadata": {},
   "outputs": [],
   "source": [
    "dataset[4][:280]==norm_act"
   ]
  },
  {
   "cell_type": "code",
   "execution_count": 2,
   "metadata": {},
   "outputs": [
    {
     "ename": "NameError",
     "evalue": "name 'norm_pdt' is not defined",
     "output_type": "error",
     "traceback": [
      "\u001b[0;31m---------------------------------------------------------------------------\u001b[0m",
      "\u001b[0;31mNameError\u001b[0m                                 Traceback (most recent call last)",
      "\u001b[0;32m<ipython-input-2-6a8223bebaa7>\u001b[0m in \u001b[0;36m<module>\u001b[0;34m()\u001b[0m\n\u001b[1;32m     14\u001b[0m     \u001b[0mleg\u001b[0m \u001b[0;34m=\u001b[0m \u001b[0mplt\u001b[0m\u001b[0;34m.\u001b[0m\u001b[0mlegend\u001b[0m\u001b[0;34m(\u001b[0m\u001b[0;34m)\u001b[0m\u001b[0;34m;\u001b[0m\u001b[0;34m\u001b[0m\u001b[0;34m\u001b[0m\u001b[0m\n\u001b[1;32m     15\u001b[0m     \u001b[0mplt\u001b[0m\u001b[0;34m.\u001b[0m\u001b[0mshow\u001b[0m\u001b[0;34m(\u001b[0m\u001b[0;34m)\u001b[0m\u001b[0;34m\u001b[0m\u001b[0;34m\u001b[0m\u001b[0m\n\u001b[0;32m---> 16\u001b[0;31m \u001b[0mplot_this\u001b[0m\u001b[0;34m(\u001b[0m\u001b[0mnorm_pdt\u001b[0m\u001b[0;34m,\u001b[0m\u001b[0mnorm_act\u001b[0m\u001b[0;34m)\u001b[0m\u001b[0;34m\u001b[0m\u001b[0;34m\u001b[0m\u001b[0m\n\u001b[0m",
      "\u001b[0;31mNameError\u001b[0m: name 'norm_pdt' is not defined"
     ]
    }
   ],
   "source": [
    "import matplotlib.pyplot as plt\n",
    "import numpy\n",
    "\n",
    "def plot_this(pdt_plt,act_plt):\n",
    "    x=list(range(1,len(pdt_plt)+1))\n",
    "    plt.plot(x, pdt_plt[0:], color='g',label=\"Predicted\")\n",
    "    plt.plot(x, act_plt[0:], color='orange',label=\"Actual\")\n",
    "    plt.xlabel('Segments')\n",
    "    plt.ylabel('Travel time (s)')\n",
    "    plt.title('Predicted vs Actual')\n",
    "    axes = plt.gca()\n",
    "    #axes.set_ylim([0,180])\n",
    "    axes.set_xlim([-2,len(pdt_plt)+10])\n",
    "    leg = plt.legend();\n",
    "    plt.show()\n",
    "plot_this(norm_pdt,norm_act)"
   ]
  },
  {
   "cell_type": "code",
   "execution_count": 3,
   "metadata": {},
   "outputs": [],
   "source": [
    "#Scaling the IO values and then determining MSE and shit\n",
    "import pandas as pd\n",
    "\n",
    "# Selecting data min-max data\n",
    "Minmax = pd.read_csv('/home/pennyworth/Documents/Bus/Data/Minmax.csv')\n"
   ]
  },
  {
   "cell_type": "code",
   "execution_count": 4,
   "metadata": {},
   "outputs": [
    {
     "ename": "NameError",
     "evalue": "name 'norm_pdt' is not defined",
     "output_type": "error",
     "traceback": [
      "\u001b[0;31m---------------------------------------------------------------------------\u001b[0m",
      "\u001b[0;31mNameError\u001b[0m                                 Traceback (most recent call last)",
      "\u001b[0;32m<ipython-input-4-3128a3e9ad6a>\u001b[0m in \u001b[0;36m<module>\u001b[0;34m()\u001b[0m\n\u001b[1;32m     18\u001b[0m     \u001b[0;32mreturn\u001b[0m \u001b[0mpdt_cor\u001b[0m\u001b[0;34m,\u001b[0m\u001b[0mact_cor\u001b[0m\u001b[0;34m\u001b[0m\u001b[0;34m\u001b[0m\u001b[0m\n\u001b[1;32m     19\u001b[0m \u001b[0;34m\u001b[0m\u001b[0m\n\u001b[0;32m---> 20\u001b[0;31m \u001b[0mdenorm_pdt\u001b[0m\u001b[0;34m,\u001b[0m\u001b[0mdenorm_act\u001b[0m\u001b[0;34m=\u001b[0m\u001b[0mdenormalize\u001b[0m\u001b[0;34m(\u001b[0m\u001b[0mnorm_pdt\u001b[0m\u001b[0;34m,\u001b[0m\u001b[0mnorm_act\u001b[0m\u001b[0;34m)\u001b[0m\u001b[0;34m\u001b[0m\u001b[0;34m\u001b[0m\u001b[0m\n\u001b[0m\u001b[1;32m     21\u001b[0m \u001b[0mplot_this\u001b[0m\u001b[0;34m(\u001b[0m\u001b[0mdenorm_pdt\u001b[0m\u001b[0;34m,\u001b[0m\u001b[0mdenorm_act\u001b[0m\u001b[0;34m)\u001b[0m\u001b[0;34m\u001b[0m\u001b[0;34m\u001b[0m\u001b[0m\n",
      "\u001b[0;31mNameError\u001b[0m: name 'norm_pdt' is not defined"
     ]
    }
   ],
   "source": [
    "from sklearn.metrics import mean_squared_error\n",
    "import numpy as np\n",
    "\n",
    "def mean_absolute_percentage_error(y_true, y_pred): \n",
    "    y_true, y_pred = np.array(y_true), np.array(y_pred)\n",
    "    return np.mean(np.abs((y_true - y_pred) / y_true)) * 100\n",
    "\n",
    "def denormalize(nor_pdt,nor_act):\n",
    "    pdt_cor=[i for i in range(280)]\n",
    "    act_cor=[i for i in range(280)]\n",
    "    i=0\n",
    "    for col in Minmax.drop([\"V281\"],axis=1):\n",
    "        mn=Minmax[col][1]\n",
    "        mx=Minmax[col][0]\n",
    "        pdt_cor[i]=(nor_pdt[i]*(mx - mn))+mn\n",
    "        act_cor[i]=(nor_act[i]*(mx - mn))+mn\n",
    "        i=i+1\n",
    "    return pdt_cor,act_cor\n",
    "\n",
    "denorm_pdt,denorm_act=denormalize(norm_pdt,norm_act)    \n",
    "plot_this(denorm_pdt,denorm_act)"
   ]
  },
  {
   "cell_type": "code",
   "execution_count": null,
   "metadata": {},
   "outputs": [],
   "source": [
    "import matplotlib.pyplot as plt\n",
    "import numpy\n",
    "\n",
    "#function to get errror for any pdt and act\n",
    "def get_error_pdt_act(pdt_err,act_err,printing=False):\n",
    "    if printing==True:\n",
    "        print(\"MSE Error:\",mean_squared_error(pdt_err,act_err))\n",
    "        print(\"RMSE Error:\",np.sqrt(mean_squared_error(pdt_err,act_err)))\n",
    "        print(\"MAPE Error:\",mean_absolute_percentage_error(pdt_err,act_err))\n",
    "    mse=mean_squared_error(pdt_err,act_err)\n",
    "    rmse=np.sqrt(mean_squared_error(pdt_err,act_err))\n",
    "    mape=mean_absolute_percentage_error(pdt_err,act_err)\n",
    "    return mse,rmse,mape\n",
    "\n",
    "get_error_pdt_act(denorm_pdt,denorm_act,False) \n",
    "print(\"MSE Error:\",mean_squared_error(denorm_pdt,denorm_act))\n",
    "print(\"RMSE Error:\",np.sqrt(mean_squared_error(denorm_pdt,denorm_act)))\n",
    "print(\"MAPE Error:\",mean_absolute_percentage_error(denorm_pdt,denorm_act))\n"
   ]
  },
  {
   "cell_type": "code",
   "execution_count": null,
   "metadata": {},
   "outputs": [],
   "source": [
    "#Iterating over all tensors in test set\n",
    "#Check if lengths match:\n",
    "if X_test.shape[0]==y_test.shape[0]:\n",
    "    print(\"Good to go!\")\n",
    "else:\n",
    "    print(\"Lengths dont match!\")\n",
    "\n",
    "MSE_list=[]\n",
    "RMSE_list=[]\n",
    "MAPE_list=[]\n",
    "pdt_list=[]\n",
    "act_list=[]\n",
    "\n",
    "total_test=X_test.shape[0]\n",
    "for ind in range(total_test):\n",
    "    norm_pdt,norm_act=get_pdt_act(ind)\n",
    "    denorm_pdt,denorm_act=denormalize(norm_pdt,norm_act)\n",
    "    pdt_list.append(denorm_pdt)\n",
    "    act_list.append(denorm_act)\n",
    "    MSE_list.append(get_error_pdt_act(denorm_pdt,denorm_act)[0])\n",
    "    RMSE_list.append(get_error_pdt_act(denorm_pdt,denorm_act)[1])\n",
    "    MAPE_list.append(get_error_pdt_act(denorm_pdt,denorm_act)[2])\n",
    "\n",
    "mean_MSE=sum(MSE_list)/len(MSE_list)\n",
    "mean_RMSE=sum(RMSE_list)/len(RMSE_list)\n",
    "mean_MAPE=sum(MAPE_list)/len(MAPE_list)    \n",
    "\n",
    "print(\"\\n\")\n",
    "print(\"Model - 2\")\n",
    "print(\"Overall MSE\",mean_MSE)\n",
    "print(\"Overall RMSE\",mean_RMSE)\n",
    "print(\"Overall MAPE\",mean_MAPE)"
   ]
  },
  {
   "cell_type": "code",
   "execution_count": null,
   "metadata": {},
   "outputs": [],
   "source": [
    "# Creating a dataframe out of the tt lists\n",
    "predicted_df=pd.DataFrame(pdt_list)\n",
    "actual_df=pd.DataFrame(act_list)"
   ]
  },
  {
   "cell_type": "code",
   "execution_count": 76,
   "metadata": {},
   "outputs": [],
   "source": [
    "#Saving the dataframes as csv tables.\n",
    "predicted_df.to_csv(\"Model2_pdt.csv\")\n",
    "actual_df.to_csv(\"Model2_act.csv\")"
   ]
  },
  {
   "cell_type": "code",
   "execution_count": null,
   "metadata": {},
   "outputs": [],
   "source": []
  },
  {
   "cell_type": "code",
   "execution_count": null,
   "metadata": {},
   "outputs": [],
   "source": []
  }
 ],
 "metadata": {
  "kernelspec": {
   "display_name": "Python 3",
   "language": "python",
   "name": "python3"
  },
  "language_info": {
   "codemirror_mode": {
    "name": "ipython",
    "version": 3
   },
   "file_extension": ".py",
   "mimetype": "text/x-python",
   "name": "python",
   "nbconvert_exporter": "python",
   "pygments_lexer": "ipython3",
   "version": "3.6.8"
  }
 },
 "nbformat": 4,
 "nbformat_minor": 2
}
