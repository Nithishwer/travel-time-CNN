{
 "cells": [
  {
   "cell_type": "code",
   "execution_count": 66,
   "metadata": {},
   "outputs": [],
   "source": [
    "#https://machinelearningmastery.com/how-to-develop-convolutional-neural-network-models-for-time-series-forecasting/"
   ]
  },
  {
   "cell_type": "code",
   "execution_count": 1,
   "metadata": {},
   "outputs": [],
   "source": [
    "#Configuring the IO structure:\n",
    "W_size=3\n",
    "st=4\n",
    "et=22\n",
    "Bin_size=1\n",
    "prediction_size=1\n",
    "n_features=282\n",
    "irows=int(W_size/Bin_size)\n",
    "icols=n_features\n",
    "orows=int(prediction_size/Bin_size)\n",
    "ocols=147\n",
    "nipd=int((et-st)/Bin_size)-irows-orows+1"
   ]
  },
  {
   "cell_type": "code",
   "execution_count": 2,
   "metadata": {},
   "outputs": [
    {
     "name": "stderr",
     "output_type": "stream",
     "text": [
      "/home/pennyworth/.local/lib/python3.6/site-packages/ipykernel_launcher.py:11: FutureWarning: Method .as_matrix will be removed in a future version. Use .values instead.\n",
      "  # This is added back by InteractiveShellApp.init_path()\n"
     ]
    }
   ],
   "source": [
    "# Data Preparation\n",
    "import pandas as pd\n",
    "\n",
    "# Selecting data based on bin size\n",
    "if Bin_size==0.5:\n",
    "    df2 = pd.read_csv('/home/pennyworth/Documents/Bus/Data/from_R_19B_30min_n&f.csv',header =None)\n",
    "if Bin_size==1:\n",
    "    df2 = pd.read_csv('/home/pennyworth/Documents/Bus/Data/from_R_19B_1Hr_n&f.csv',header =None)\n",
    "    \n",
    "#Converting dataframe into matrix    \n",
    "dataset=df2.as_matrix()"
   ]
  },
  {
   "cell_type": "code",
   "execution_count": 3,
   "metadata": {},
   "outputs": [
    {
     "name": "stdout",
     "output_type": "stream",
     "text": [
      "Import successful!\n"
     ]
    }
   ],
   "source": [
    "#Checking if the import is good to go:\n",
    "if len(dataset)-1==34*18/Bin_size:\n",
    "    print(\"Import successful!\")"
   ]
  },
  {
   "cell_type": "code",
   "execution_count": 4,
   "metadata": {},
   "outputs": [
    {
     "name": "stdout",
     "output_type": "stream",
     "text": [
      "3 1\n"
     ]
    },
    {
     "data": {
      "text/plain": [
       "array([], shape=(0, 282), dtype=float64)"
      ]
     },
     "execution_count": 4,
     "metadata": {},
     "output_type": "execute_result"
    }
   ],
   "source": [
    "print(irows,orows)\n",
    "dataset[700:714]"
   ]
  },
  {
   "cell_type": "code",
   "execution_count": 5,
   "metadata": {
    "scrolled": false
   },
   "outputs": [
    {
     "name": "stderr",
     "output_type": "stream",
     "text": [
      "Using TensorFlow backend.\n"
     ]
    },
    {
     "name": "stdout",
     "output_type": "stream",
     "text": [
      "IO Matrix creation successful!\n"
     ]
    }
   ],
   "source": [
    "# multivariate multi-step data preparation\n",
    "import numpy as np\n",
    "from numpy import array\n",
    "from numpy import hstack\n",
    "from keras.models import Sequential\n",
    "from keras.layers import LSTM\n",
    "from keras.layers import Dense\n",
    "from keras.layers import RepeatVector\n",
    "from keras.layers import TimeDistributed\n",
    "\n",
    "#Split a multivariate sequence into samples and put them into X and y\n",
    "X, y = list(), list()\n",
    "def split_sequences(sequences, n_steps_in, n_steps_out):\n",
    "\tfor i in range(len(sequences)):\n",
    "\t\t# find the end of this pattern\n",
    "\t\tend_ix = i + n_steps_in\n",
    "\t\tout_end_ix = end_ix + n_steps_out\n",
    "\t\t# check if we are beyond the dataset\n",
    "\t\tif out_end_ix > len(sequences):\n",
    "\t\t\tbreak\n",
    "\t\t# gather input and output parts of the pattern\n",
    "\t\tseq_x, seq_y = sequences[i:end_ix, :], sequences[end_ix:out_end_ix, :-2]\n",
    "\t\tX.append(seq_x)\n",
    "\t\ty.append(seq_y)\n",
    "\treturn None\n",
    "\n",
    "n_steps_in, n_steps_out = int(irows), int(orows)\n",
    "rows_pday=int((et-st)/Bin_size)\n",
    "\n",
    "# convert into input/output\n",
    "# Need to change to 34 or 35 or whatever when nrows in dataset change\n",
    "for i in range(1,35):\n",
    "    todays_df=dataset[(i-1)*rows_pday+1:i*rows_pday+1]\n",
    "    split_sequences(todays_df, n_steps_in, n_steps_out)\n",
    "\n",
    "\n",
    "#Check if the io sample count is valid:\n",
    "if len(X[1][1])==n_features and nipd*34==len(X)==len(y) and len(y[1][0])==280:\n",
    "        print(\"IO Matrix creation successful!\")\n",
    "else:\n",
    "    print(\"IO Matrix creation unsuccessful!\",len(X[1][1])==n_features,nipd*34==len(X)==len(y),len(y[1][0])==280)"
   ]
  },
  {
   "cell_type": "code",
   "execution_count": 6,
   "metadata": {},
   "outputs": [
    {
     "name": "stdout",
     "output_type": "stream",
     "text": [
      "Na Matrices filtered out sucessfuly!\n"
     ]
    }
   ],
   "source": [
    "#Filtering the Na IO matrices out\n",
    "from math import isnan\n",
    "import numpy as np\n",
    "X_fil=np.array(X)\n",
    "y_fil=np.array(y)\n",
    "del_index=[]\n",
    "\n",
    "# Noting down the index of Na matricesin del_index \n",
    "for i in range(len(X_fil)):\n",
    "    del_index.append(np.any(np.isnan(X_fil[i])) or np.any(np.isnan(y_fil[i])))\n",
    "\n",
    "# Filtering out the Na matrices from y_fil and X_fil by indexing using a list\n",
    "y_fil=y_fil[list(~np.array(del_index))]\n",
    "X_fil=X_fil[list(~np.array(del_index))]\n",
    "\n",
    "# Check if the filtering is successful:\n",
    "Na_count=0\n",
    "for i in range(len(X_fil)):\n",
    "    if np.any(np.isnan(y_fil[i]))==True & np.any(np.isnan(X_fil[i]))==True:\n",
    "        Na_count=Na_count+1\n",
    "if Na_count==0:\n",
    "    print(\"Na Matrices filtered out sucessfuly!\")\n",
    "# y=np.array(y)\n",
    "# for el in y[list(~np.array(deathlist))]:\n",
    "#     print(np.any(np.isnan(Xtrial[i])))\n"
   ]
  },
  {
   "cell_type": "code",
   "execution_count": 7,
   "metadata": {},
   "outputs": [
    {
     "name": "stdout",
     "output_type": "stream",
     "text": [
      "510  I/O pairs available.\n"
     ]
    }
   ],
   "source": [
    "# Print number of IO Pairs available:\n",
    "print(len(y_fil),\" I/O pairs available.\")"
   ]
  },
  {
   "cell_type": "code",
   "execution_count": 8,
   "metadata": {},
   "outputs": [],
   "source": [
    "# Flatten output\n",
    "n_output = y_fil.shape[1] * y_fil.shape[2]\n",
    "y_fil = y_fil.reshape((y_fil.shape[0], n_output))"
   ]
  },
  {
   "cell_type": "code",
   "execution_count": 9,
   "metadata": {},
   "outputs": [
    {
     "name": "stdout",
     "output_type": "stream",
     "text": [
      "Good to go!\n"
     ]
    }
   ],
   "source": [
    "# Check the number of features\n",
    "if n_features == X_fil.shape[2]:\n",
    "    print(\"Good to go!\")"
   ]
  },
  {
   "cell_type": "code",
   "execution_count": 10,
   "metadata": {},
   "outputs": [
    {
     "name": "stdout",
     "output_type": "stream",
     "text": [
      "Dataset splitting done!\n"
     ]
    }
   ],
   "source": [
    "# Splitting into train and test sets\n",
    "np.random.seed(95)\n",
    "msk = np.random.rand(len(X_fil)) < 0.9\n",
    "X_train = X_fil[msk]\n",
    "y_train = y_fil[msk]\n",
    "X_test = X_fil[~msk]\n",
    "y_test = y_fil[~msk]\n",
    "print(\"Dataset splitting done!\")"
   ]
  },
  {
   "cell_type": "code",
   "execution_count": 13,
   "metadata": {
    "scrolled": true
   },
   "outputs": [
    {
     "name": "stdout",
     "output_type": "stream",
     "text": [
      "Number or epochs: 10\n",
      "Number of input features: 282\n",
      "Number of output features: 280\n",
      "Bin size: 1\n",
      "Window size: 3\n",
      "Number of I/O pairs available: 510\n",
      "52/52 [==============================] - 0s 131us/step\n",
      "Model Mape loss: 3499426.923076923\n",
      "52/52 [==============================] - 0s 94us/step\n",
      "Model MSE loss (Minimized): 0.04460853854051003\n",
      "52/52 [==============================] - 0s 102us/step\n",
      "RMSE loss: 0.21120733543253187\n"
     ]
    }
   ],
   "source": [
    "# multivariate output multi-step 1d cnn example\n",
    "from numpy.random import seed\n",
    "seed(1)\n",
    "from tensorflow import set_random_seed\n",
    "set_random_seed(2)\n",
    "from numpy import array\n",
    "from numpy import hstack\n",
    "from keras.models import Sequential\n",
    "from keras.layers import Dense\n",
    "from keras.layers import Flatten\n",
    "from keras.layers.convolutional import Conv1D\n",
    "from keras.layers.convolutional import MaxPooling1D\n",
    "\n",
    "# define model\n",
    "model = Sequential()\n",
    "model.add(Conv1D(filters=64, kernel_size=2, activation='relu', input_shape=(irows, n_features)))\n",
    "model.add(MaxPooling1D(pool_size=2))\n",
    "model.add(Flatten())\n",
    "model.add(Dense(500, activation='relu'))\n",
    "model.add(Dense(n_output))\n",
    "model.compile(optimizer='adam', loss=['mse'],metrics=[\"mape\"])\n",
    "epochno=10\n",
    "# fit model\n",
    "history=model.fit(X_train, y_train, epochs=epochno, verbose=0, validation_data = (X_test, y_test))\n",
    "print(\"Number or epochs:\",epochno)\n",
    "print(\"Number of input features:\",n_features)\n",
    "print(\"Number of output features:\",n_output)\n",
    "print(\"Bin size:\",Bin_size)\n",
    "print(\"Window size:\",W_size)\n",
    "print(\"Number of I/O pairs available:\",len(y_fil))\n",
    "print(\"Model Mape loss:\",model.evaluate(X_test,y_test)[1])\n",
    "print(\"Model MSE loss (Minimized):\",model.evaluate(X_test,y_test)[0])\n",
    "print(\"RMSE loss:\",np.sqrt(model.evaluate(X_test,y_test)[0]))\n",
    "\n",
    "# Demonstrate Prediction\n",
    "# x_input = array([[60, 65, 125], [70, 75, 145], [80, 85, 165]])\n",
    "# x_input = x_input.reshape((1, n_steps_in, n_features))\n",
    "# yhat = model.predict(x_input, verbose=0)\n",
    "# print(yhat)"
   ]
  },
  {
   "cell_type": "code",
   "execution_count": 14,
   "metadata": {},
   "outputs": [
    {
     "name": "stdout",
     "output_type": "stream",
     "text": [
      "dict_keys(['val_loss', 'val_mean_absolute_percentage_error', 'loss', 'mean_absolute_percentage_error'])\n"
     ]
    },
    {
     "data": {
      "image/png": "[encoded data removed]",
      "text/plain": [
       "<Figure size 432x288 with 1 Axes>"
      ]
     },
     "metadata": {},
     "output_type": "display_data"
    }
   ],
   "source": [
    "import matplotlib.pyplot as plt\n",
    "import numpy\n",
    "%matplotlib inline\n",
    "\n",
    "print(history.history.keys())\n",
    "# summarize history for loss\n",
    "plt.plot(history.history['loss'])\n",
    "plt.plot(history.history['val_loss'])\n",
    "plt.title('Model Loss (MSE)')\n",
    "plt.ylabel('Loss')\n",
    "plt.xlabel('Epoch')\n",
    "plt.legend(['Train', 'Test'], loc='upper right')\n",
    "#axes = plt.gca()\n",
    "#axes.set_ylim([7500,0.2*100000])\n",
    "#axes.set_xlim([1500,3000])\n",
    "plt.show()"
   ]
  },
  {
   "cell_type": "code",
   "execution_count": 15,
   "metadata": {},
   "outputs": [],
   "source": [
    "#history=model.fit(X, y, epochs=3000, verbose=1)\n",
    "#model.evaluate(X,y)"
   ]
  },
  {
   "cell_type": "code",
   "execution_count": 16,
   "metadata": {},
   "outputs": [],
   "source": [
    "# import random\n",
    "# #from plotnine import *\n",
    "# rn=random.randint(1,150)\n",
    "# # demonstrate prediction\n",
    "# x_input = X[rn]\n",
    "# y_output = y[rn]\n",
    "# x_input = x_input.reshape((1, n_steps, n_features))\n",
    "# yhat = model.predict(x_input, verbose=1)\n",
    "# pdt=yhat[0]\n",
    "# act=y_output\n",
    "# print(len(pdt))\n",
    "# print(len(act))\n",
    "# #library(ggplot2)\n",
    "# #ggplot(, aes(x = drat, y = mpg)) + geom_point()"
   ]
  },
  {
   "cell_type": "code",
   "execution_count": 40,
   "metadata": {},
   "outputs": [],
   "source": [
    "# Plot a random Prediction vs actual travel time\n",
    "import matplotlib.pyplot as plt\n",
    "import numpy as np\n",
    "np.random.seed(100)\n",
    "\n",
    "#function to get the act and pdt values of a specified sample in the test set\n",
    "def get_pdt_act(ind):\n",
    "    #print(ind)\n",
    "    # Demonstrate Prediction\n",
    "    x_input = X_test[ind]\n",
    "    x_input = x_input.reshape((1, irows, n_features))\n",
    "    yhat = model.predict(x_input, verbose=0)\n",
    "    y_output = y_test[ind]\n",
    "    #print(len(yhat[0]))\n",
    "    pdt=yhat[0]\n",
    "    act=y_output\n",
    "    if len(pdt)!=len(act):\n",
    "        print(\"ERROR!\")\n",
    "    return pdt,act\n",
    "        \n",
    "norm_pdt,norm_act=get_pdt_act(6)"
   ]
  },
  {
   "cell_type": "code",
   "execution_count": 41,
   "metadata": {},
   "outputs": [
    {
     "data": {
      "image/png": "[encoded data removed]",
      "text/plain": [
       "<Figure size 432x288 with 1 Axes>"
      ]
     },
     "metadata": {},
     "output_type": "display_data"
    }
   ],
   "source": [
    "import matplotlib.pyplot as plt\n",
    "import numpy\n",
    "\n",
    "def plot_this(pdt_plt,act_plt):\n",
    "    x=list(range(1,len(pdt)+1))\n",
    "    plt.plot(x, pdt_plt[0:], color='g',label=\"Predicted\")\n",
    "    plt.plot(x, act_plt[0:], color='orange',label=\"Actual\")\n",
    "    plt.xlabel('Segments')\n",
    "    plt.ylabel('Travel time (s)')\n",
    "    plt.title('Predicted vs Actual')\n",
    "    axes = plt.gca()\n",
    "    #axes.set_ylim([0,180])\n",
    "    axes.set_xlim([-2,len(pdt)+10])\n",
    "    leg = plt.legend();\n",
    "    plt.show()\n",
    "plot_this(norm_pdt,norm_act)"
   ]
  },
  {
   "cell_type": "code",
   "execution_count": 42,
   "metadata": {},
   "outputs": [],
   "source": [
    "#Scaling the IO values and then determining MSE and shit\n",
    "import pandas as pd\n",
    "\n",
    "# Selecting data min-max data\n",
    "Minmax = pd.read_csv('/home/pennyworth/Documents/Bus/Data/Minmax.csv')\n"
   ]
  },
  {
   "cell_type": "code",
   "execution_count": 43,
   "metadata": {},
   "outputs": [
    {
     "data": {
      "image/png": "[encoded data removed]",
      "text/plain": [
       "<Figure size 432x288 with 1 Axes>"
      ]
     },
     "metadata": {},
     "output_type": "display_data"
    }
   ],
   "source": [
    "from sklearn.metrics import mean_squared_error\n",
    "import numpy as np\n",
    "\n",
    "def mean_absolute_percentage_error(y_true, y_pred): \n",
    "    y_true, y_pred = np.array(y_true), np.array(y_pred)\n",
    "    return np.mean(np.abs((y_true - y_pred) / y_true)) * 100\n",
    "\n",
    "def denormalize(nor_pdt,nor_act):\n",
    "    pdt_cor=[i for i in range(280)]\n",
    "    act_cor=[i for i in range(280)]\n",
    "    i=0\n",
    "    for col in Minmax.drop([\"V281\"],axis=1):\n",
    "        mn=Minmax[col][1]\n",
    "        mx=Minmax[col][0]\n",
    "        pdt_cor[i]=(nor_pdt[i]*(mx - mn))+mn\n",
    "        act_cor[i]=(nor_act[i]*(mx - mn))+mn\n",
    "        i=i+1\n",
    "    return pdt_cor,act_cor\n",
    "\n",
    "denorm_pdt,denorm_act=denormalize(norm_pdt,norm_act)    \n",
    "plot_this(denorm_pdt,denorm_act)"
   ]
  },
  {
   "cell_type": "code",
   "execution_count": 44,
   "metadata": {},
   "outputs": [
    {
     "name": "stdout",
     "output_type": "stream",
     "text": [
      "MSE Error: 45.471005288432934\n",
      "RMSE Error: 6.743219208095859\n",
      "MAPE Error: 24.924974288257438\n"
     ]
    }
   ],
   "source": [
    "import matplotlib.pyplot as plt\n",
    "import numpy\n",
    "\n",
    "#function to get errror for any pdt and act\n",
    "def get_error_pdt_act(pdt_err,act_err,printing=False):\n",
    "    if printing==True:\n",
    "        print(\"MSE Error:\",mean_squared_error(pdt_err,act_err))\n",
    "        print(\"RMSE Error:\",np.sqrt(mean_squared_error(pdt_err,act_err)))\n",
    "        print(\"MAPE Error:\",mean_absolute_percentage_error(pdt_err,act_err))\n",
    "    mse=mean_squared_error(pdt_err,act_err)\n",
    "    rmse=np.sqrt(mean_squared_error(pdt_err,act_err))\n",
    "    mape=mean_absolute_percentage_error(pdt_err,act_err)\n",
    "    return mse,rmse,mape\n",
    "\n",
    "get_error_pdt_act(denorm_pdt,denorm_act,False) \n",
    "print(\"MSE Error:\",mean_squared_error(act_cor,pdt_cor))\n",
    "print(\"RMSE Error:\",np.sqrt(mean_squared_error(act_cor,pdt_cor)))\n",
    "print(\"MAPE Error:\",mean_absolute_percentage_error(act_cor,pdt_cor))\n"
   ]
  },
  {
   "cell_type": "code",
   "execution_count": 46,
   "metadata": {},
   "outputs": [
    {
     "name": "stdout",
     "output_type": "stream",
     "text": [
      "Good to go!\n",
      "\n",
      "\n",
      "Model - 2\n",
      "Overall MSE 42.91589024775818\n",
      "Overall RMSE 6.131881772516015\n",
      "Overall MAPE 18.651214614387076\n"
     ]
    }
   ],
   "source": [
    "#Iterating over all tensors in test set\n",
    "#Check if lengths match:\n",
    "if X_test.shape[0]==y_test.shape[0]:\n",
    "    print(\"Good to go!\")\n",
    "else:\n",
    "    print(\"Lengths dont match!\")\n",
    "\n",
    "MSE_list=[]\n",
    "RMSE_list=[]\n",
    "MAPE_list=[]\n",
    "\n",
    "total_test=X_test.shape[0]\n",
    "for ind in range(total_test):\n",
    "    norm_pdt,norm_act=get_pdt_act(ind)\n",
    "    denorm_pdt,denorm_act=denormalize(norm_pdt,norm_act)\n",
    "    MSE_list.append(get_error_pdt_act(denorm_pdt,denorm_act)[0])\n",
    "    RMSE_list.append(get_error_pdt_act(denorm_pdt,denorm_act)[1])\n",
    "    MAPE_list.append(get_error_pdt_act(denorm_pdt,denorm_act)[2])\n",
    "\n",
    "mean_MSE=sum(MSE_list)/len(MSE_list)\n",
    "mean_RMSE=sum(RMSE_list)/len(RMSE_list)\n",
    "mean_MAPE=sum(MAPE_list)/len(MAPE_list)    \n",
    "\n",
    "print(\"\\n\")\n",
    "print(\"Model - 2\")\n",
    "print(\"Overall MSE\",mean_MSE)\n",
    "print(\"Overall RMSE\",mean_RMSE)\n",
    "print(\"Overall MAPE\",mean_MAPE)"
   ]
  },
  {
   "cell_type": "code",
   "execution_count": null,
   "metadata": {},
   "outputs": [],
   "source": []
  },
  {
   "cell_type": "code",
   "execution_count": null,
   "metadata": {},
   "outputs": [],
   "source": []
  }
 ],
 "metadata": {
  "kernelspec": {
   "display_name": "Python 3",
   "language": "python",
   "name": "python3"
  },
  "language_info": {
   "codemirror_mode": {
    "name": "ipython",
    "version": 3
   },
   "file_extension": ".py",
   "mimetype": "text/x-python",
   "name": "python",
   "nbconvert_exporter": "python",
   "pygments_lexer": "ipython3",
   "version": "3.6.8"
  }
 },
 "nbformat": 4,
 "nbformat_minor": 2
}
