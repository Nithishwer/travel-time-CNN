{
 "cells": [
  {
   "cell_type": "code",
   "execution_count": 24,
   "metadata": {},
   "outputs": [],
   "source": [
    "#https://machinelearningmastery.com/how-to-develop-convolutional-neural-network-models-for-time-series-forecasting/"
   ]
  },
  {
   "cell_type": "code",
   "execution_count": 25,
   "metadata": {},
   "outputs": [],
   "source": [
    "#Configuring the IO structure:\n",
    "W_size=3\n",
    "st=4\n",
    "et=22\n",
    "Bin_size=1\n",
    "prediction_size=1\n",
    "n_features=52\n",
    "irows=int(W_size/Bin_size)\n",
    "icols=n_features\n",
    "orows=int(prediction_size/Bin_size)\n",
    "ocols=52\n",
    "nipd=int((et-st)/Bin_size)-irows-orows+1"
   ]
  },
  {
   "cell_type": "code",
   "execution_count": 26,
   "metadata": {},
   "outputs": [
    {
     "name": "stderr",
     "output_type": "stream",
     "text": [
      "/home/pennyworth/.local/lib/python3.6/site-packages/ipykernel_launcher.py:11: FutureWarning: Method .as_matrix will be removed in a future version. Use .values instead.\n",
      "  # This is added back by InteractiveShellApp.init_path()\n"
     ]
    }
   ],
   "source": [
    "# Data Preparation\n",
    "import pandas as pd\n",
    "\n",
    "# Selecting data based on bin size\n",
    "#if Bin_size==0.5:\n",
    "#    df2 = pd.read_csv('/home/pennyworth/Documents/Bus/Data/from_R_19B_30min_n&f.csv',header =None)\n",
    "if Bin_size==1:\n",
    "    df2 = pd.read_csv('/home/pennyworth/Documents/Bus/Final_Results/Data/from_R_M1_1Hr_Model123.csv',header =None)\n",
    "    \n",
    "#Converting dataframe into matrix    \n",
    "dataset=df2.as_matrix()"
   ]
  },
  {
   "cell_type": "code",
   "execution_count": 27,
   "metadata": {},
   "outputs": [
    {
     "name": "stdout",
     "output_type": "stream",
     "text": [
      "Import successful!\n"
     ]
    }
   ],
   "source": [
    "#Checking if the import is good to go:\n",
    "Nos=332\n",
    "if len(dataset)-1==Nos*18/Bin_size:\n",
    "    print(\"Import successful!\")"
   ]
  },
  {
   "cell_type": "code",
   "execution_count": 28,
   "metadata": {},
   "outputs": [
    {
     "name": "stdout",
     "output_type": "stream",
     "text": [
      "[0.08259227 0.01696887 0.02251618]\n",
      "[0.00654287 0.0388456  0.04031916]\n",
      "[0.00663925 0.11435217 0.05657526]\n",
      "[0.10327419 0.09795866 0.09841556]\n"
     ]
    }
   ],
   "source": [
    "def giveme_dataset(rows,cols):\n",
    "    for i in range(1,rows+1):\n",
    "        print(dataset[i][:cols])\n",
    "giveme_dataset(4,3)"
   ]
  },
  {
   "cell_type": "code",
   "execution_count": 29,
   "metadata": {},
   "outputs": [
    {
     "name": "stdout",
     "output_type": "stream",
     "text": [
      "3 1\n"
     ]
    }
   ],
   "source": [
    "print(irows,orows)"
   ]
  },
  {
   "cell_type": "code",
   "execution_count": 30,
   "metadata": {
    "scrolled": false
   },
   "outputs": [
    {
     "name": "stdout",
     "output_type": "stream",
     "text": [
      "IO Matrix creation successful!\n"
     ]
    }
   ],
   "source": [
    "# multivariate multi-step data preparation\n",
    "import numpy as np\n",
    "from numpy import array\n",
    "from numpy import hstack\n",
    "from keras.models import Sequential\n",
    "from keras.layers import LSTM\n",
    "from keras.layers import Dense\n",
    "from keras.layers import RepeatVector\n",
    "from keras.layers import TimeDistributed\n",
    "\n",
    "# split a multivariate sequence into samples and put them into X and y\n",
    "X, y = list(), list()\n",
    "def split_sequences(sequences, n_steps_in, n_steps_out):\n",
    "    for i in range(len(sequences)):\n",
    "        # find the end of this pattern\n",
    "        end_ix = i + n_steps_in\n",
    "        out_end_ix = end_ix + n_steps_out\n",
    "        # check if we are beyond the dataset\n",
    "        if out_end_ix > len(sequences):\n",
    "            break\n",
    "        # gather input and output parts of the pattern\n",
    "        seq_x, seq_y = sequences[i:end_ix, :-2], sequences[end_ix:out_end_ix, :-2]\n",
    "        X.append(seq_x)\n",
    "        y.append(seq_y)\n",
    "    return None\n",
    "\n",
    "n_steps_in, n_steps_out = int(irows), int(orows)\n",
    "rows_pday=int((et-st)/Bin_size)\n",
    "\n",
    "# convert into input/output\n",
    "for i in range(1,333):\n",
    "    todays_df=dataset[(i-1)*rows_pday+1:i*rows_pday+1]\n",
    "    split_sequences(todays_df, n_steps_in, n_steps_out)\n",
    "\n",
    "#Check if the io sample count is valid:\n",
    "if nipd*332==len(X)==len(y):\n",
    "    print(\"IO Matrix creation successful!\")\n",
    "else:\n",
    "    print(\"IO Matrix creation unsuccessful!\")"
   ]
  },
  {
   "cell_type": "code",
   "execution_count": 31,
   "metadata": {},
   "outputs": [
    {
     "name": "stdout",
     "output_type": "stream",
     "text": [
      "Na Matrices filtered out sucessfuly!\n"
     ]
    }
   ],
   "source": [
    "#Supposed to Filter the Na IO matrices out but now obsolete\n",
    "from math import isnan\n",
    "import numpy as np\n",
    "X_fil=np.array(X)\n",
    "y_fil=np.array(y)\n",
    "del_index=[]\n",
    "\n",
    "# # Noting down the index of Na matricesin del_index \n",
    "# for i in range(len(X_fil)):\n",
    "#     del_index.append(np.any(np.isnan(X_fil[i])) or np.any(np.isnan(y_fil[i])))\n",
    "\n",
    "# # Filtering out the Na matrices from y_fil and X_fil by indexing using a list\n",
    "# y_fil=y_fil[list(~np.array(del_index))]\n",
    "# X_fil=X_fil[list(~np.array(del_index))]\n",
    "\n",
    "# Check if the filtering is successful:\n",
    "Na_count=0\n",
    "for i in range(len(X_fil)):\n",
    "    if np.any(np.isnan(y_fil[i]))==True & np.any(np.isnan(X_fil[i]))==True:\n",
    "        Na_count=Na_count+1\n",
    "if Na_count==0:\n",
    "    print(\"Na Matrices filtered out sucessfuly!\")\n",
    "# y=np.array(y)\n",
    "# for el in y[list(~np.array(deathlist))]:\n",
    "#     print(np.any(np.isnan(Xtrial[i])))\n"
   ]
  },
  {
   "cell_type": "code",
   "execution_count": 32,
   "metadata": {},
   "outputs": [],
   "source": [
    "# X_fil=np.array(X)\n",
    "# y_fil=np.array(y)"
   ]
  },
  {
   "cell_type": "code",
   "execution_count": 33,
   "metadata": {},
   "outputs": [
    {
     "name": "stdout",
     "output_type": "stream",
     "text": [
      "[0.10327419 0.09795866 0.09841556]\n",
      "[0.02636669 0.19792282 0.08418935]\n",
      "[0.0538049  0.12850689 0.2091169 ]\n",
      "[0.14940848 0.27323049 0.37205773]\n"
     ]
    }
   ],
   "source": [
    "def giveme_y(rows,cols):\n",
    "    for i in range(0,rows+1):\n",
    "        print(y[i][0][:cols])\n",
    "giveme_y(3,3)"
   ]
  },
  {
   "cell_type": "code",
   "execution_count": 34,
   "metadata": {},
   "outputs": [
    {
     "name": "stdout",
     "output_type": "stream",
     "text": [
      "[[0.10327419 0.09795866 0.09841556 0.06960573 0.17012785 0.15456501\n",
      "  0.155676   0.03564261 0.40191629 0.28398069 0.14016725 0.1128586\n",
      "  0.05368977 0.27378737 0.21713625 0.16448683 0.38364814 0.18414642\n",
      "  0.53262904 0.2100609  0.12798476 0.58677311 0.45341319 0.25676541\n",
      "  0.28733465 0.0376813  0.10410499 0.31481056 0.03210404 0.21912386\n",
      "  0.22974579 0.21537663 0.13075398 0.08178135 0.55499854 0.07749528\n",
      "  0.72991017 0.18631643 0.23907195 0.29676717 0.45509127 0.19366937\n",
      "  0.69580406 0.51521577 0.22564744 0.31168057 0.20080339 0.44088554\n",
      "  0.1639637  0.3374171  0.25340938 0.37486702]]\n",
      "[[0.02636669 0.19792282 0.08418935 0.32063957 0.08941972 0.0556715\n",
      "  0.04063686 0.26590287 0.57288939 0.15310206 0.08467973 0.07307732\n",
      "  0.05123042 0.35920425 0.08867821 0.53513715 0.56285029 0.39560052\n",
      "  0.80784993 0.26736255 0.34523351 0.89446451 0.17389147 0.87081739\n",
      "  0.16178663 0.02895752 0.58615868 0.49896179 0.06694888 0.45550273\n",
      "  0.20500085 0.25384907 0.29156564 0.46458893 0.23305872 0.32593216\n",
      "  0.47333467 0.10149456 0.67651443 0.48606957 0.18147209 0.3136597\n",
      "  0.6007579  0.05655035 0.5366535  0.24034449 0.20271145 0.31938013\n",
      "  0.63327417 0.24964807 0.21709081 0.6070096 ]]\n",
      "[[0.0538049  0.12850689 0.2091169  0.84753524 0.20396594 0.04657286\n",
      "  0.05951147 0.34054078 0.49348455 0.42295633 0.14287017 0.14362834\n",
      "  0.0504198  0.56019661 0.34081741 0.28618517 0.5797167  0.42579883\n",
      "  0.58920991 0.38072775 0.57535064 0.26780239 0.36248931 0.27195259\n",
      "  0.25510556 0.00816214 0.25375195 0.36923267 0.13706335 0.46238829\n",
      "  0.31931275 0.4025251  0.26288731 0.1582159  0.28878566 0.12827641\n",
      "  0.62902405 0.20163038 0.46110673 0.55613658 0.30157223 0.11594713\n",
      "  0.3799816  0.3317103  0.26665536 0.41526961 0.31266037 0.64207026\n",
      "  0.501947   0.23485782 0.19588775 0.09715398]]\n",
      "[[0.14940848 0.27323049 0.37205773 0.52222298 0.40405195 0.11770395\n",
      "  0.16252238 0.28357933 0.78561829 0.29772332 0.11608556 0.04860444\n",
      "  0.12070067 0.18439277 0.51885901 0.182807   0.40363987 0.23996921\n",
      "  0.28476522 0.3005167  0.27145009 0.45918127 0.46986018 0.10537857\n",
      "  0.23264427 0.17251006 0.404286   0.26744028 0.10100182 0.1187645\n",
      "  0.16349216 0.17043528 0.12575473 0.12413339 0.43130595 0.18545541\n",
      "  0.41928131 0.20183294 0.33650211 0.32378165 0.46566266 0.2539924\n",
      "  0.63087252 0.20182923 0.3371436  0.42016557 0.16957663 0.39470269\n",
      "  0.4241947  0.45055741 0.21560126 0.31357809]]\n"
     ]
    }
   ],
   "source": [
    "def giveme_y_fil(rows,cols):\n",
    "    for i in range(0,rows+1):\n",
    "        print(y_fil[i][:cols])\n",
    "giveme_y_fil(3,3)"
   ]
  },
  {
   "cell_type": "code",
   "execution_count": 35,
   "metadata": {},
   "outputs": [
    {
     "name": "stdout",
     "output_type": "stream",
     "text": [
      "4980  I/O pairs available.\n"
     ]
    }
   ],
   "source": [
    "# Print number of IO Pairs available:\n",
    "print(len(y_fil),\" I/O pairs available.\")"
   ]
  },
  {
   "cell_type": "code",
   "execution_count": 36,
   "metadata": {},
   "outputs": [],
   "source": [
    "# Flatten output\n",
    "n_output = y_fil.shape[1] * y_fil.shape[2]\n",
    "y_fil = y_fil.reshape((y_fil.shape[0], n_output))"
   ]
  },
  {
   "cell_type": "code",
   "execution_count": 37,
   "metadata": {},
   "outputs": [
    {
     "name": "stdout",
     "output_type": "stream",
     "text": [
      "Good to go!\n"
     ]
    }
   ],
   "source": [
    "# Check the number of features\n",
    "if n_features == X_fil.shape[2]:\n",
    "    print(\"Good to go!\")\n",
    "else:\n",
    "    print(\"Something wrong..\")"
   ]
  },
  {
   "cell_type": "code",
   "execution_count": 38,
   "metadata": {
    "scrolled": true
   },
   "outputs": [
    {
     "name": "stdout",
     "output_type": "stream",
     "text": [
      "[0.10327419 0.09795866 0.09841556]\n",
      "[0.02636669 0.19792282 0.08418935]\n",
      "[0.0538049  0.12850689 0.2091169 ]\n",
      "[0.14940848 0.27323049 0.37205773]\n",
      "[0.10327419 0.09795866 0.09841556]\n",
      "[0.02636669 0.19792282 0.08418935]\n",
      "[0.0538049  0.12850689 0.2091169 ]\n",
      "[0.14940848 0.27323049 0.37205773]\n",
      "\n",
      "\n",
      "\n",
      "[0.08259227 0.01696887 0.02251618]\n",
      "[0.00654287 0.0388456  0.04031916]\n",
      "[0.00663925 0.11435217 0.05657526]\n",
      "[0.10327419 0.09795866 0.09841556]\n",
      "[0.02636669 0.19792282 0.08418935]\n",
      "[0.0538049  0.12850689 0.2091169 ]\n",
      "[0.14940848 0.27323049 0.37205773]\n"
     ]
    }
   ],
   "source": [
    "giveme_y_fil(3,3)\n",
    "giveme_y(3,3)\n",
    "print(\"\\n\\n\")\n",
    "giveme_dataset(7,3)"
   ]
  },
  {
   "cell_type": "code",
   "execution_count": 39,
   "metadata": {},
   "outputs": [
    {
     "data": {
      "text/plain": [
       "16.5"
      ]
     },
     "execution_count": 39,
     "metadata": {},
     "output_type": "execute_result"
    }
   ],
   "source": [
    "330*.05"
   ]
  },
  {
   "cell_type": "code",
   "execution_count": 40,
   "metadata": {},
   "outputs": [
    {
     "name": "stdout",
     "output_type": "stream",
     "text": [
      "Dataset splitting done!\n"
     ]
    }
   ],
   "source": [
    "# Splitting into train and test sets randomly\n",
    "# np.random.seed(99)\n",
    "# msk = np.random.rand(len(X_fil)) < 0.80\n",
    "\n",
    "#Splitting taking the 4th to 9th days as the test set:\n",
    "#Change this if day number changes\n",
    "nipd=(rows_pday-irows-orows+1)\n",
    "test_start=nipd*3\n",
    "test_end=nipd*10\n",
    "msk=[]\n",
    "for i in range(332*(rows_pday-irows-orows+1)):\n",
    "    if i<test_end and i>=test_start:\n",
    "        msk.append(False)\n",
    "    else:\n",
    "        msk.append(True)\n",
    "\n",
    "msk=np.asarray(msk)\n",
    "X_train = X_fil[msk]\n",
    "y_train = y_fil[msk]\n",
    "X_test = X_fil[~msk]\n",
    "y_test = y_fil[~msk]\n",
    "print(\"Dataset splitting done!\")"
   ]
  },
  {
   "cell_type": "code",
   "execution_count": 41,
   "metadata": {},
   "outputs": [
    {
     "data": {
      "text/plain": [
       "array([[[0.36486995, 0.190957  , 0.2193343 , ..., 0.48322437,\n",
       "         0.41470993, 0.45268014],\n",
       "        [0.15042128, 0.02860484, 0.06474073, ..., 0.05462773,\n",
       "         0.23020617, 0.62500402],\n",
       "        [1.        , 0.        , 0.04301833, ..., 0.41943776,\n",
       "         0.17055755, 0.07640038]],\n",
       "\n",
       "       [[0.15042128, 0.02860484, 0.06474073, ..., 0.05462773,\n",
       "         0.23020617, 0.62500402],\n",
       "        [1.        , 0.        , 0.04301833, ..., 0.41943776,\n",
       "         0.17055755, 0.07640038],\n",
       "        [0.09325643, 0.51755682, 0.44849585, ..., 0.36969963,\n",
       "         0.35153883, 0.55502222]],\n",
       "\n",
       "       [[1.        , 0.        , 0.04301833, ..., 0.41943776,\n",
       "         0.17055755, 0.07640038],\n",
       "        [0.09325643, 0.51755682, 0.44849585, ..., 0.36969963,\n",
       "         0.35153883, 0.55502222],\n",
       "        [0.02916969, 0.13798173, 0.05778976, ..., 0.49489835,\n",
       "         0.06862348, 0.16463497]],\n",
       "\n",
       "       ...,\n",
       "\n",
       "       [[0.0763812 , 0.10686665, 0.05639693, ..., 0.23997451,\n",
       "         0.1270165 , 0.65653634],\n",
       "        [0.27226558, 0.40271889, 0.1896302 , ..., 0.40032024,\n",
       "         0.36257316, 0.45713867],\n",
       "        [0.19753546, 1.        , 0.20818118, ..., 0.67204715,\n",
       "         0.93744266, 0.35280605]],\n",
       "\n",
       "       [[0.27226558, 0.40271889, 0.1896302 , ..., 0.40032024,\n",
       "         0.36257316, 0.45713867],\n",
       "        [0.19753546, 1.        , 0.20818118, ..., 0.67204715,\n",
       "         0.93744266, 0.35280605],\n",
       "        [0.09602486, 0.56148632, 0.11377929, ..., 0.4416243 ,\n",
       "         0.51689855, 0.6697808 ]],\n",
       "\n",
       "       [[0.19753546, 1.        , 0.20818118, ..., 0.67204715,\n",
       "         0.93744266, 0.35280605],\n",
       "        [0.09602486, 0.56148632, 0.11377929, ..., 0.4416243 ,\n",
       "         0.51689855, 0.6697808 ],\n",
       "        [0.01415791, 0.57759232, 0.07675975, ..., 0.41285125,\n",
       "         0.48623648, 1.        ]]])"
      ]
     },
     "execution_count": 41,
     "metadata": {},
     "output_type": "execute_result"
    }
   ],
   "source": [
    "X_test"
   ]
  },
  {
   "cell_type": "code",
   "execution_count": 42,
   "metadata": {},
   "outputs": [],
   "source": [
    "# dataset_ytest_strt=(333-test_size)*(rows_pday)\n",
    "# print(dataset[dataset_ytest_strt][:5])\n",
    "# print(dataset[dataset_ytest_strt+5][:5])\n",
    "# print(dataset[dataset_ytest_strt+6][:5])\n",
    "# print(dataset[dataset_ytest_strt+7][:5])\n",
    "# print(dataset[dataset_ytest_strt+8][:5])\n",
    "# print(dataset[dataset_ytest_strt+9][:5])\n",
    "# print(dataset[dataset_ytest_strt+10][:5])\n",
    "# print(dataset[dataset_ytest_strt+11][:5])"
   ]
  },
  {
   "cell_type": "code",
   "execution_count": 43,
   "metadata": {},
   "outputs": [],
   "source": [
    "# print(y_fil[train_end][:5])\n",
    "# print(y_fil[train_end+1][:5])\n",
    "# print(y_fil[train_end+2][:5])\n",
    "# print(y_fil[train_end+3][:5])\n",
    "# print(y_fil[train_end+4][:5])\n",
    "# print(y_fil[train_end+5][:5])\n",
    "# print(y_fil[train_end+6][:5])\n",
    "# print(y_fil[train_end+7][:5])\n",
    "# print(y_fil[train_end+8][:5])\n",
    "# print(y_fil[train_end+9][:5])\n",
    "# print(y_fil[train_end+10][:5])\n",
    "# print(y_fil[train_end+11][:5])"
   ]
  },
  {
   "cell_type": "code",
   "execution_count": 44,
   "metadata": {},
   "outputs": [
    {
     "name": "stdout",
     "output_type": "stream",
     "text": [
      "[0.09325643 0.51755682 0.44849585]\n",
      "[0.02916969 0.13798173 0.05778976]\n",
      "[0.49983757 0.16516625 0.22388411]\n",
      "[0.01341018 0.0647609  0.09274434]\n"
     ]
    }
   ],
   "source": [
    "print(y_test[0][:3])\n",
    "print(y_test[1][:3])\n",
    "print(y_test[2][:3])\n",
    "print(y_test[3][:3])"
   ]
  },
  {
   "cell_type": "code",
   "execution_count": 45,
   "metadata": {
    "scrolled": true
   },
   "outputs": [
    {
     "name": "stderr",
     "output_type": "stream",
     "text": [
      "WARNING: Logging before flag parsing goes to stderr.\n",
      "W0729 03:52:55.922556 140707543476032 deprecation_wrapper.py:119] From /home/pennyworth/.local/lib/python3.6/site-packages/keras/backend/tensorflow_backend.py:74: The name tf.get_default_graph is deprecated. Please use tf.compat.v1.get_default_graph instead.\n",
      "\n",
      "W0729 03:52:55.924748 140707543476032 deprecation_wrapper.py:119] From /home/pennyworth/.local/lib/python3.6/site-packages/keras/backend/tensorflow_backend.py:517: The name tf.placeholder is deprecated. Please use tf.compat.v1.placeholder instead.\n",
      "\n",
      "W0729 03:52:55.928926 140707543476032 deprecation_wrapper.py:119] From /home/pennyworth/.local/lib/python3.6/site-packages/keras/backend/tensorflow_backend.py:4138: The name tf.random_uniform is deprecated. Please use tf.random.uniform instead.\n",
      "\n",
      "W0729 03:52:55.966360 140707543476032 deprecation_wrapper.py:119] From /home/pennyworth/.local/lib/python3.6/site-packages/keras/backend/tensorflow_backend.py:3976: The name tf.nn.max_pool is deprecated. Please use tf.nn.max_pool2d instead.\n",
      "\n",
      "W0729 03:52:56.011118 140707543476032 deprecation_wrapper.py:119] From /home/pennyworth/.local/lib/python3.6/site-packages/keras/optimizers.py:790: The name tf.train.Optimizer is deprecated. Please use tf.compat.v1.train.Optimizer instead.\n",
      "\n",
      "W0729 03:52:56.167928 140707543476032 deprecation_wrapper.py:119] From /home/pennyworth/.local/lib/python3.6/site-packages/keras/backend/tensorflow_backend.py:986: The name tf.assign_add is deprecated. Please use tf.compat.v1.assign_add instead.\n",
      "\n",
      "W0729 03:52:56.275140 140707543476032 deprecation_wrapper.py:119] From /home/pennyworth/.local/lib/python3.6/site-packages/keras/backend/tensorflow_backend.py:973: The name tf.assign is deprecated. Please use tf.compat.v1.assign instead.\n",
      "\n"
     ]
    },
    {
     "name": "stdout",
     "output_type": "stream",
     "text": [
      "Number or epochs: 4\n",
      "Number of input features: 52\n",
      "Number of output features: 52\n",
      "Bin size: 1\n",
      "Window size: 3\n",
      "Number of I/O pairs available: 4980\n",
      "105/105 [==============================] - 0s 50us/step\n",
      "Model Mape loss: 3130733.038095238\n",
      "105/105 [==============================] - 0s 51us/step\n",
      "Model MSE loss (Minimized): 0.04589988404796237\n",
      "105/105 [==============================] - 0s 69us/step\n",
      "RMSE loss: 0.21424258224723294\n"
     ]
    }
   ],
   "source": [
    "# multivariate output multi-step 1d cnn example\n",
    "from numpy.random import seed\n",
    "seed(1)\n",
    "from tensorflow import set_random_seed\n",
    "set_random_seed(2)\n",
    "from numpy import array\n",
    "from numpy import hstack\n",
    "from keras.models import Sequential\n",
    "from keras.layers import Dense\n",
    "from keras.layers import Flatten\n",
    "from keras.layers.convolutional import Conv1D\n",
    "from keras.layers.convolutional import MaxPooling1D\n",
    "\n",
    "# define model\n",
    "model = Sequential()\n",
    "model.add(Conv1D(filters=64, kernel_size=2, activation='relu', input_shape=(irows, n_features)))\n",
    "model.add(MaxPooling1D(pool_size=2))\n",
    "model.add(Flatten())\n",
    "model.add(Dense(500, activation='relu'))\n",
    "model.add(Dense(n_output))\n",
    "model.compile(optimizer='adam', loss=['mse'],metrics=[\"mape\"])\n",
    "epochno=4\n",
    "# fit model\n",
    "history=model.fit(X_train, y_train, epochs=epochno, verbose=0, validation_data = (X_test, y_test))\n",
    "print(\"Number or epochs:\",epochno)\n",
    "print(\"Number of input features:\",n_features)\n",
    "print(\"Number of output features:\",n_output)\n",
    "print(\"Bin size:\",Bin_size)\n",
    "print(\"Window size:\",W_size)\n",
    "print(\"Number of I/O pairs available:\",len(y_fil))\n",
    "print(\"Model Mape loss:\",model.evaluate(X_test,y_test)[1])\n",
    "print(\"Model MSE loss (Minimized):\",model.evaluate(X_test,y_test)[0])\n",
    "print(\"RMSE loss:\",np.sqrt(model.evaluate(X_test,y_test)[0]))\n",
    "\n",
    "# Demonstrate Prediction\n",
    "# x_input = array([[60, 65, 125], [70, 75, 145], [80, 85, 165]])\n",
    "# x_input = x_input.reshape((1, n_steps_in, n_features))\n",
    "# yhat = model.predict(x_input, verbose=0)\n",
    "# print(yhat)"
   ]
  },
  {
   "cell_type": "code",
   "execution_count": 46,
   "metadata": {},
   "outputs": [
    {
     "name": "stdout",
     "output_type": "stream",
     "text": [
      "dict_keys(['val_loss', 'val_mean_absolute_percentage_error', 'loss', 'mean_absolute_percentage_error'])\n"
     ]
    },
    {
     "data": {
      "image/png": "[encoded data removed]",
      "text/plain": [
       "<Figure size 432x288 with 1 Axes>"
      ]
     },
     "metadata": {},
     "output_type": "display_data"
    }
   ],
   "source": [
    "import matplotlib.pyplot as plt\n",
    "import numpy\n",
    "%matplotlib inline\n",
    "\n",
    "print(history.history.keys())\n",
    "# summarize history for loss\n",
    "plt.plot(history.history['loss'])\n",
    "plt.plot(history.history['val_loss'])\n",
    "plt.title('Model Loss (MSE)')\n",
    "plt.ylabel('Loss')\n",
    "plt.xlabel('Epoch')\n",
    "plt.legend(['Train', 'Test'], loc='upper right')\n",
    "#axes = plt.gca()\n",
    "#axes.set_ylim([7500,0.2*100000])\n",
    "#axes.set_xlim([1500,3000])\n",
    "plt.show()"
   ]
  },
  {
   "cell_type": "code",
   "execution_count": 47,
   "metadata": {},
   "outputs": [],
   "source": [
    "#history=model.fit(X, y, epochs=3000, verbose=1)\n",
    "#model.evaluate(X,y)"
   ]
  },
  {
   "cell_type": "code",
   "execution_count": 48,
   "metadata": {},
   "outputs": [],
   "source": [
    "# Plot a random Prediction vs actual travel time\n",
    "import matplotlib.pyplot as plt\n",
    "import numpy as np\n",
    "np.random.seed(100)\n",
    "\n",
    "#function to get the act and pdt values of a specified sample in the test set\n",
    "def get_pdt_act(ind):\n",
    "    #print(ind)\n",
    "    # Demonstrate Prediction\n",
    "    x_input = X_test[ind]\n",
    "    x_input = x_input.reshape((1, irows, n_features))\n",
    "    yhat = model.predict(x_input, verbose=0)\n",
    "    y_output = y_test[ind]\n",
    "    #print(len(yhat[0]))\n",
    "    pdt=yhat[0]\n",
    "    act=y_output\n",
    "    if len(pdt)!=len(act):\n",
    "        print(\"ERROR!\")\n",
    "    return pdt,act\n",
    "\n",
    "norm_pdt,norm_act=get_pdt_act(0)"
   ]
  },
  {
   "cell_type": "code",
   "execution_count": 49,
   "metadata": {},
   "outputs": [
    {
     "data": {
      "image/png": "[encoded data removed]",
      "text/plain": [
       "<Figure size 432x288 with 1 Axes>"
      ]
     },
     "metadata": {},
     "output_type": "display_data"
    }
   ],
   "source": [
    "import matplotlib.pyplot as plt\n",
    "import numpy\n",
    "\n",
    "def plot_this(pdt_plt,act_plt):\n",
    "    x=list(range(1,len(pdt_plt)+1))\n",
    "    plt.plot(x, pdt_plt[0:], color='g',label=\"Predicted\")\n",
    "    plt.plot(x, act_plt[0:], color='orange',label=\"Actual\")\n",
    "    plt.xlabel('Segments')\n",
    "    plt.ylabel('Travel time (s)')\n",
    "    plt.title('Predicted vs Actual')\n",
    "    axes = plt.gca()\n",
    "    #axes.set_ylim([0,180])\n",
    "    axes.set_xlim([-2,len(pdt_plt)+10])\n",
    "    leg = plt.legend();\n",
    "    plt.show()\n",
    "plot_this(norm_pdt,norm_act)"
   ]
  },
  {
   "cell_type": "code",
   "execution_count": 50,
   "metadata": {},
   "outputs": [],
   "source": [
    "#Scaling the IO values and then determining MSE and shit\n",
    "import pandas as pd\n",
    "\n",
    "# Selecting data min-max data\n",
    "Minmax = pd.read_csv('/home/pennyworth/Documents/Bus/Data/Minmax_M1.csv')\n"
   ]
  },
  {
   "cell_type": "code",
   "execution_count": 51,
   "metadata": {},
   "outputs": [
    {
     "data": {
      "text/html": [
       "<div>\n",
       "<style scoped>\n",
       "    .dataframe tbody tr th:only-of-type {\n",
       "        vertical-align: middle;\n",
       "    }\n",
       "\n",
       "    .dataframe tbody tr th {\n",
       "        vertical-align: top;\n",
       "    }\n",
       "\n",
       "    .dataframe thead th {\n",
       "        text-align: right;\n",
       "    }\n",
       "</style>\n",
       "<table border=\"1\" class=\"dataframe\">\n",
       "  <thead>\n",
       "    <tr style=\"text-align: right;\">\n",
       "      <th></th>\n",
       "      <th>V1</th>\n",
       "      <th>V2</th>\n",
       "      <th>V3</th>\n",
       "      <th>V4</th>\n",
       "      <th>V5</th>\n",
       "      <th>V6</th>\n",
       "      <th>V7</th>\n",
       "      <th>V8</th>\n",
       "      <th>V9</th>\n",
       "      <th>V10</th>\n",
       "      <th>...</th>\n",
       "      <th>V43</th>\n",
       "      <th>V44</th>\n",
       "      <th>V45</th>\n",
       "      <th>V46</th>\n",
       "      <th>V47</th>\n",
       "      <th>V48</th>\n",
       "      <th>V49</th>\n",
       "      <th>V50</th>\n",
       "      <th>V51</th>\n",
       "      <th>V52</th>\n",
       "    </tr>\n",
       "  </thead>\n",
       "  <tbody>\n",
       "    <tr>\n",
       "      <th>0</th>\n",
       "      <td>499.023505</td>\n",
       "      <td>265.785819</td>\n",
       "      <td>159.995802</td>\n",
       "      <td>248.620342</td>\n",
       "      <td>101.573964</td>\n",
       "      <td>61.425238</td>\n",
       "      <td>39.343582</td>\n",
       "      <td>112.103158</td>\n",
       "      <td>139.252302</td>\n",
       "      <td>78.190117</td>\n",
       "      <td>...</td>\n",
       "      <td>63.513548</td>\n",
       "      <td>57.083218</td>\n",
       "      <td>82.654144</td>\n",
       "      <td>85.473796</td>\n",
       "      <td>60.904490</td>\n",
       "      <td>58.028471</td>\n",
       "      <td>74.351947</td>\n",
       "      <td>87.429917</td>\n",
       "      <td>57.099331</td>\n",
       "      <td>54.932805</td>\n",
       "    </tr>\n",
       "    <tr>\n",
       "      <th>1</th>\n",
       "      <td>26.158056</td>\n",
       "      <td>27.536591</td>\n",
       "      <td>21.152663</td>\n",
       "      <td>24.150879</td>\n",
       "      <td>19.133680</td>\n",
       "      <td>14.930106</td>\n",
       "      <td>14.523853</td>\n",
       "      <td>15.238092</td>\n",
       "      <td>18.761138</td>\n",
       "      <td>19.305581</td>\n",
       "      <td>...</td>\n",
       "      <td>26.936210</td>\n",
       "      <td>24.696562</td>\n",
       "      <td>25.155726</td>\n",
       "      <td>25.038811</td>\n",
       "      <td>21.749082</td>\n",
       "      <td>22.501708</td>\n",
       "      <td>25.270028</td>\n",
       "      <td>25.668435</td>\n",
       "      <td>22.860676</td>\n",
       "      <td>26.390242</td>\n",
       "    </tr>\n",
       "  </tbody>\n",
       "</table>\n",
       "<p>2 rows × 52 columns</p>\n",
       "</div>"
      ],
      "text/plain": [
       "           V1          V2          V3          V4          V5         V6  \\\n",
       "0  499.023505  265.785819  159.995802  248.620342  101.573964  61.425238   \n",
       "1   26.158056   27.536591   21.152663   24.150879   19.133680  14.930106   \n",
       "\n",
       "          V7          V8          V9        V10  ...        V43        V44  \\\n",
       "0  39.343582  112.103158  139.252302  78.190117  ...  63.513548  57.083218   \n",
       "1  14.523853   15.238092   18.761138  19.305581  ...  26.936210  24.696562   \n",
       "\n",
       "         V45        V46        V47        V48        V49        V50  \\\n",
       "0  82.654144  85.473796  60.904490  58.028471  74.351947  87.429917   \n",
       "1  25.155726  25.038811  21.749082  22.501708  25.270028  25.668435   \n",
       "\n",
       "         V51        V52  \n",
       "0  57.099331  54.932805  \n",
       "1  22.860676  26.390242  \n",
       "\n",
       "[2 rows x 52 columns]"
      ]
     },
     "execution_count": 51,
     "metadata": {},
     "output_type": "execute_result"
    }
   ],
   "source": [
    "Minmax"
   ]
  },
  {
   "cell_type": "code",
   "execution_count": 52,
   "metadata": {},
   "outputs": [
    {
     "data": {
      "image/png": "[encoded data removed]",
      "text/plain": [
       "<Figure size 432x288 with 1 Axes>"
      ]
     },
     "metadata": {},
     "output_type": "display_data"
    }
   ],
   "source": [
    "from sklearn.metrics import mean_squared_error\n",
    "import numpy as np\n",
    "\n",
    "def mean_absolute_percentage_error(y_true, y_pred): \n",
    "    y_true, y_pred = np.array(y_true), np.array(y_pred)\n",
    "    return np.mean(np.abs((y_true - y_pred) / y_true)) * 100\n",
    "\n",
    "def denormalize(nor_pdt,nor_act):\n",
    "    pdt_cor=[i for i in range(52)]\n",
    "    act_cor=[i for i in range(52)]\n",
    "    i=0\n",
    "    for col in Minmax:\n",
    "        mn=Minmax[col][1]\n",
    "        mx=Minmax[col][0]\n",
    "        pdt_cor[i]=(nor_pdt[i]*(mx - mn))+mn\n",
    "        act_cor[i]=(nor_act[i]*(mx - mn))+mn\n",
    "        i=i+1\n",
    "    return pdt_cor,act_cor\n",
    "\n",
    "denorm_pdt,denorm_act=denormalize(norm_pdt,norm_act)    \n",
    "plot_this(denorm_pdt,denorm_act)"
   ]
  },
  {
   "cell_type": "code",
   "execution_count": 53,
   "metadata": {
    "scrolled": true
   },
   "outputs": [
    {
     "name": "stdout",
     "output_type": "stream",
     "text": [
      "MSE Error: 256.49205577678555\n",
      "RMSE Error: 16.015369361235024\n",
      "MAPE Error: 16.604144660843215\n"
     ]
    }
   ],
   "source": [
    "import matplotlib.pyplot as plt\n",
    "import numpy\n",
    "\n",
    "#function to get errror for any pdt and act\n",
    "def get_error_pdt_act(pdt_err,act_err,printing=False):\n",
    "    if printing==True:\n",
    "        print(\"MSE Error:\",mean_squared_error(pdt_err,act_err))\n",
    "        print(\"RMSE Error:\",np.sqrt(mean_squared_error(pdt_err,act_err)))\n",
    "        print(\"MAPE Error:\",mean_absolute_percentage_error(pdt_err,act_err))\n",
    "    mse=mean_squared_error(pdt_err,act_err)\n",
    "    rmse=np.sqrt(mean_squared_error(pdt_err,act_err))\n",
    "    mape=mean_absolute_percentage_error(pdt_err,act_err)\n",
    "    return mse,rmse,mape\n",
    "\n",
    "get_error_pdt_act(denorm_pdt,denorm_act,False) \n",
    "print(\"MSE Error:\",mean_squared_error(denorm_pdt,denorm_act))\n",
    "print(\"RMSE Error:\",np.sqrt(mean_squared_error(denorm_pdt,denorm_act)))\n",
    "print(\"MAPE Error:\",mean_absolute_percentage_error(denorm_pdt,denorm_act))\n"
   ]
  },
  {
   "cell_type": "code",
   "execution_count": 54,
   "metadata": {},
   "outputs": [
    {
     "name": "stdout",
     "output_type": "stream",
     "text": [
      "Good to go!\n",
      "\n",
      "\n",
      "Model - 1\n",
      "Overall MSE 505.25517302980444\n",
      "Overall RMSE 19.75654633054726\n",
      "Overall MAPE 23.06560373187497\n"
     ]
    }
   ],
   "source": [
    "#Iterating over all tensors in test set\n",
    "#Check if lengths match:\n",
    "if X_test.shape[0]==y_test.shape[0]:\n",
    "    print(\"Good to go!\")\n",
    "else:\n",
    "    print(\"Lengths dont match!\")\n",
    "\n",
    "MSE_list=[]\n",
    "RMSE_list=[]\n",
    "MAPE_list=[]\n",
    "pdt_list=[]\n",
    "act_list=[]\n",
    "total_test=X_test.shape[0]\n",
    "for ind in range(total_test):\n",
    "    norm_pdt,norm_act=get_pdt_act(ind)\n",
    "    denorm_pdt,denorm_act=denormalize(norm_pdt,norm_act)\n",
    "    pdt_list.append(denorm_pdt)\n",
    "    act_list.append(denorm_act)\n",
    "    MSE_list.append(get_error_pdt_act(denorm_pdt,denorm_act)[0])\n",
    "    RMSE_list.append(get_error_pdt_act(denorm_pdt,denorm_act)[1])\n",
    "    MAPE_list.append(get_error_pdt_act(denorm_pdt,denorm_act)[2])\n",
    "\n",
    "mean_MSE=sum(MSE_list)/len(MSE_list)\n",
    "mean_RMSE=sum(RMSE_list)/len(RMSE_list)\n",
    "mean_MAPE=sum(MAPE_list)/len(MAPE_list)    \n",
    "\n",
    "print(\"\\n\")\n",
    "print(\"Model - 1\")\n",
    "print(\"Overall MSE\",mean_MSE)\n",
    "print(\"Overall RMSE\",mean_RMSE)\n",
    "print(\"Overall MAPE\",mean_MAPE)"
   ]
  },
  {
   "cell_type": "code",
   "execution_count": 55,
   "metadata": {},
   "outputs": [],
   "source": [
    "# Creating a dataframe out of the tt lists\n",
    "predicted_df=pd.DataFrame(pdt_list)\n",
    "actual_df=pd.DataFrame(act_list)"
   ]
  },
  {
   "cell_type": "code",
   "execution_count": 56,
   "metadata": {},
   "outputs": [],
   "source": [
    "#Saving the dataframes as csv tables.\n",
    "predicted_df.to_csv(\"Model1v2_pdt_M1.csv\")\n",
    "actual_df.to_csv(\"Model1v2_act_M1.csv\")"
   ]
  },
  {
   "cell_type": "code",
   "execution_count": null,
   "metadata": {},
   "outputs": [],
   "source": []
  },
  {
   "cell_type": "code",
   "execution_count": null,
   "metadata": {},
   "outputs": [],
   "source": []
  },
  {
   "cell_type": "code",
   "execution_count": null,
   "metadata": {},
   "outputs": [],
   "source": []
  },
  {
   "cell_type": "code",
   "execution_count": null,
   "metadata": {},
   "outputs": [],
   "source": []
  }
 ],
 "metadata": {
  "kernelspec": {
   "display_name": "Python 3",
   "language": "python",
   "name": "python3"
  },
  "language_info": {
   "codemirror_mode": {
    "name": "ipython",
    "version": 3
   },
   "file_extension": ".py",
   "mimetype": "text/x-python",
   "name": "python",
   "nbconvert_exporter": "python",
   "pygments_lexer": "ipython3",
   "version": "3.6.8"
  }
 },
 "nbformat": 4,
 "nbformat_minor": 2
}
